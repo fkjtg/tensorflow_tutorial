{
 "cells": [
  {
   "cell_type": "code",
   "execution_count": 24,
   "metadata": {},
   "outputs": [],
   "source": [
    "%config IPCompleter.greedy=True"
   ]
  },
  {
   "cell_type": "code",
   "execution_count": 25,
   "metadata": {},
   "outputs": [],
   "source": [
    "import numpy as np\n",
    "import tensorflow as tf\n",
    "from tensorflow import keras"
   ]
  },
  {
   "cell_type": "markdown",
   "metadata": {},
   "source": [
    "# 构建简单的模型"
   ]
  },
  {
   "cell_type": "markdown",
   "metadata": {},
   "source": [
    "## 序列模型\n",
    "最常见模型类型是层的堆叠`tf.keras.Sequential`模型，构建简单的全连接网络（即多层感知器）"
   ]
  },
  {
   "cell_type": "code",
   "execution_count": 26,
   "metadata": {},
   "outputs": [],
   "source": [
    "# 创建模型\n",
    "mode=keras.Sequential()"
   ]
  },
  {
   "cell_type": "markdown",
   "metadata": {},
   "source": [
    "## 配置层\n",
    "使用`tf.keras.layers`方法创建层，重要参数：\n",
    "- `activation`：设置层的激活函数\n",
    "- `kernel_initizlizer`和`bias_initializer`：创建层权重的初始化方案\n",
    "- `kernel_regularizer`和`bias_regularizer`：应用层权重的正则化方案"
   ]
  },
  {
   "cell_type": "code",
   "execution_count": 27,
   "metadata": {},
   "outputs": [],
   "source": [
    "# 配置层\n",
    "mode.add(keras.layers.Dense(64,activation='relu'))\n",
    "mode.add(keras.layers.Dense(64,activation='relu'))\n",
    "mode.add(keras.layers.Dense(10,activation='softmax'))"
   ]
  },
  {
   "cell_type": "markdown",
   "metadata": {},
   "source": [
    "`compile`方法配置模型的学习流程，三个重要参数\n",
    "- `optimizer`:此对象指定训练过程\n",
    "- `loss`:在优化期间最小化的函数\n",
    "- `metrics`:用于监控训练"
   ]
  },
  {
   "cell_type": "code",
   "execution_count": 28,
   "metadata": {},
   "outputs": [],
   "source": [
    "# 配置模型的学习流程\n",
    "# 方式一：\n",
    "mode.compile(optimizer=tf.train.AdamOptimizer(0.001),\n",
    "             loss='categorical_crossentropy',\n",
    "             metrics=['accuracy'])\n",
    "# 方法二：\n",
    "mode.compile(optimizer=tf.train.RMSPropOptimizer(0.01),\n",
    "             loss=tf.keras.losses.categorical_crossentropy,\n",
    "             metrics=[tf.keras.metrics.categorical_crossentropy])\n"
   ]
  },
  {
   "cell_type": "code",
   "execution_count": 29,
   "metadata": {},
   "outputs": [],
   "source": [
    "def random_data():\n",
    "    data = np.random.random((1000,32))\n",
    "    labels=np.random.random((1000,10))\n",
    "    return data,labels"
   ]
  },
  {
   "cell_type": "markdown",
   "metadata": {},
   "source": [
    "## 训练\n",
    "`fit`方法的三个重要参数：\n",
    "- epochs:以周期为单位进行训练\n",
    "- batch_size:当传递np数据时，模型将数据分成较小的批次，并在训练期间迭代这些批次\n",
    "- validation_data:对模型进行原型设计时，需要轻松监控该模型在某些验证数据上达到的效果"
   ]
  },
  {
   "cell_type": "markdown",
   "metadata": {},
   "source": [
    "### np数据"
   ]
  },
  {
   "cell_type": "markdown",
   "metadata": {},
   "source": [
    "拟合数据"
   ]
  },
  {
   "cell_type": "code",
   "execution_count": 30,
   "metadata": {
    "collapsed": true
   },
   "outputs": [
    {
     "name": "stdout",
     "output_type": "stream",
     "text": [
      "Epoch 1/10\n",
      "1000/1000 [==============================] - 4s 4ms/step - loss: 11.5178 - categorical_crossentropy: 11.5178\n",
      "Epoch 2/10\n",
      "1000/1000 [==============================] - 0s 112us/step - loss: 11.4701 - categorical_crossentropy: 11.4701\n",
      "Epoch 3/10\n",
      "1000/1000 [==============================] - 0s 130us/step - loss: 11.4652 - categorical_crossentropy: 11.4652\n",
      "Epoch 4/10\n",
      "1000/1000 [==============================] - 0s 162us/step - loss: 11.4567 - categorical_crossentropy: 11.45670s - loss: 11.4545 - categorical_crossentropy: 11.\n",
      "Epoch 5/10\n",
      "1000/1000 [==============================] - 0s 107us/step - loss: 11.4582 - categorical_crossentropy: 11.4582\n",
      "Epoch 6/10\n",
      "1000/1000 [==============================] - 0s 155us/step - loss: 11.4565 - categorical_crossentropy: 11.4565\n",
      "Epoch 7/10\n",
      "1000/1000 [==============================] - 0s 155us/step - loss: 11.4542 - categorical_crossentropy: 11.4542\n",
      "Epoch 8/10\n",
      "1000/1000 [==============================] - 0s 171us/step - loss: 11.4536 - categorical_crossentropy: 11.4536\n",
      "Epoch 9/10\n",
      "1000/1000 [==============================] - 0s 161us/step - loss: 11.4488 - categorical_crossentropy: 11.4488\n",
      "Epoch 10/10\n",
      "1000/1000 [==============================] - 0s 126us/step - loss: 11.4456 - categorical_crossentropy: 11.4456\n"
     ]
    },
    {
     "data": {
      "text/plain": [
       "<tensorflow.python.keras.callbacks.History at 0x288b9f6dd30>"
      ]
     },
     "execution_count": 30,
     "metadata": {},
     "output_type": "execute_result"
    }
   ],
   "source": [
    "# 获取np数据\n",
    "data,labels=random_data()\n",
    "# 训练模型，使模型与训练数据拟合\n",
    "mode.fit(data,labels,epochs=10,batch_size=32)"
   ]
  },
  {
   "cell_type": "markdown",
   "metadata": {},
   "source": [
    "拟合数据并进行验证"
   ]
  },
  {
   "cell_type": "code",
   "execution_count": 31,
   "metadata": {
    "collapsed": true
   },
   "outputs": [
    {
     "name": "stdout",
     "output_type": "stream",
     "text": [
      "Train on 1000 samples, validate on 1000 samples\n",
      "Epoch 1/10\n",
      "1000/1000 [==============================] - 0s 244us/step - loss: 11.6351 - categorical_crossentropy: 11.6351 - val_loss: 11.5538 - val_categorical_crossentropy: 11.5538\n",
      "Epoch 2/10\n",
      "1000/1000 [==============================] - 0s 218us/step - loss: 11.6303 - categorical_crossentropy: 11.6303 - val_loss: 11.5554 - val_categorical_crossentropy: 11.5554\n",
      "Epoch 3/10\n",
      "1000/1000 [==============================] - 0s 216us/step - loss: 11.6296 - categorical_crossentropy: 11.6296 - val_loss: 11.5541 - val_categorical_crossentropy: 11.5541\n",
      "Epoch 4/10\n",
      "1000/1000 [==============================] - 0s 223us/step - loss: 11.6287 - categorical_crossentropy: 11.6287 - val_loss: 11.5534 - val_categorical_crossentropy: 11.5534\n",
      "Epoch 5/10\n",
      "1000/1000 [==============================] - 0s 224us/step - loss: 11.6278 - categorical_crossentropy: 11.6278 - val_loss: 11.6028 - val_categorical_crossentropy: 11.6028\n",
      "Epoch 6/10\n",
      "1000/1000 [==============================] - 0s 226us/step - loss: 11.6305 - categorical_crossentropy: 11.6305 - val_loss: 11.5589 - val_categorical_crossentropy: 11.5589\n",
      "Epoch 7/10\n",
      "1000/1000 [==============================] - 0s 185us/step - loss: 11.6290 - categorical_crossentropy: 11.6290 - val_loss: 11.5612 - val_categorical_crossentropy: 11.5612\n",
      "Epoch 8/10\n",
      "1000/1000 [==============================] - 0s 222us/step - loss: 11.6259 - categorical_crossentropy: 11.6259 - val_loss: 11.5646 - val_categorical_crossentropy: 11.5646\n",
      "Epoch 9/10\n",
      "1000/1000 [==============================] - 0s 236us/step - loss: 11.6264 - categorical_crossentropy: 11.6264 - val_loss: 11.5580 - val_categorical_crossentropy: 11.5580\n",
      "Epoch 10/10\n",
      "1000/1000 [==============================] - 0s 212us/step - loss: 11.6234 - categorical_crossentropy: 11.6234 - val_loss: 11.5749 - val_categorical_crossentropy: 11.5749\n"
     ]
    },
    {
     "data": {
      "text/plain": [
       "<tensorflow.python.keras.callbacks.History at 0x28920f2def0>"
      ]
     },
     "execution_count": 31,
     "metadata": {},
     "output_type": "execute_result"
    }
   ],
   "source": [
    "data,labels=random_data()\n",
    "vdata,vlabels=random_data()\n",
    "\n",
    "mode.fit(data,labels,epochs=10,batch_size=32,validation_data=(vdata,vlabels))"
   ]
  },
  {
   "cell_type": "markdown",
   "metadata": {},
   "source": [
    "### 输入数据集"
   ]
  },
  {
   "cell_type": "markdown",
   "metadata": {},
   "source": [
    "使用dataset数据"
   ]
  },
  {
   "cell_type": "code",
   "execution_count": 32,
   "metadata": {},
   "outputs": [],
   "source": [
    "dataset=tf.data.Dataset.from_tensor_slices((data,labels))\n",
    "dataset=dataset.batch(32)\n",
    "dataset=dataset.repeat()"
   ]
  },
  {
   "cell_type": "markdown",
   "metadata": {},
   "source": [
    "`fit`方法使用`steps_per_epoch`参数(表示模型在进入下一个周期之前运行的训练步数)。由于`Dataset`会生成批次数据，因此该代码段不需要`batch_size`"
   ]
  },
  {
   "cell_type": "markdown",
   "metadata": {},
   "source": [
    "拟合数据"
   ]
  },
  {
   "cell_type": "code",
   "execution_count": 33,
   "metadata": {
    "collapsed": true
   },
   "outputs": [
    {
     "name": "stdout",
     "output_type": "stream",
     "text": [
      "Epoch 1/10\n",
      "30/30 [==============================] - 0s 12ms/step - loss: 11.6161 - categorical_crossentropy: 11.6161\n",
      "Epoch 2/10\n",
      "30/30 [==============================] - 0s 5ms/step - loss: 11.6267 - categorical_crossentropy: 11.6267\n",
      "Epoch 3/10\n",
      "30/30 [==============================] - 0s 5ms/step - loss: 11.6361 - categorical_crossentropy: 11.6361\n",
      "Epoch 4/10\n",
      "30/30 [==============================] - 0s 5ms/step - loss: 11.6012 - categorical_crossentropy: 11.6012\n",
      "Epoch 5/10\n",
      "30/30 [==============================] - 0s 5ms/step - loss: 11.5951 - categorical_crossentropy: 11.5951\n",
      "Epoch 6/10\n",
      "30/30 [==============================] - 0s 5ms/step - loss: 11.6229 - categorical_crossentropy: 11.6229\n",
      "Epoch 7/10\n",
      "30/30 [==============================] - 0s 5ms/step - loss: 11.5987 - categorical_crossentropy: 11.5987\n",
      "Epoch 8/10\n",
      "30/30 [==============================] - 0s 5ms/step - loss: 11.6105 - categorical_crossentropy: 11.6105\n",
      "Epoch 9/10\n",
      "30/30 [==============================] - 0s 5ms/step - loss: 11.5917 - categorical_crossentropy: 11.5917\n",
      "Epoch 10/10\n",
      "30/30 [==============================] - 0s 5ms/step - loss: 11.5798 - categorical_crossentropy: 11.5798\n"
     ]
    },
    {
     "data": {
      "text/plain": [
       "<tensorflow.python.keras.callbacks.History at 0x28920f3c748>"
      ]
     },
     "execution_count": 33,
     "metadata": {},
     "output_type": "execute_result"
    }
   ],
   "source": [
    "mode.fit(dataset,epochs=10,steps_per_epoch=30)"
   ]
  },
  {
   "cell_type": "markdown",
   "metadata": {},
   "source": [
    "使用dataset数据与验证数据"
   ]
  },
  {
   "cell_type": "code",
   "execution_count": 35,
   "metadata": {},
   "outputs": [],
   "source": [
    "dataset=tf.data.Dataset.from_tensor_slices((data,labels))\n",
    "dataset=dataset.batch(32).repeat()\n",
    "\n",
    "vdataset=tf.data.Dataset.from_tensor_slices((data,labels))\n",
    "vdataset=vdataset.batch(32).repeat()"
   ]
  },
  {
   "cell_type": "markdown",
   "metadata": {},
   "source": [
    "拟合数据并进行验证"
   ]
  },
  {
   "cell_type": "code",
   "execution_count": 38,
   "metadata": {
    "collapsed": true
   },
   "outputs": [
    {
     "name": "stdout",
     "output_type": "stream",
     "text": [
      "Epoch 1/10\n",
      "30/30 [==============================] - 1s 27ms/step - loss: 11.5807 - categorical_crossentropy: 11.5807 - val_loss: 11.8910 - val_categorical_crossentropy: 11.8910\n",
      "Epoch 2/10\n",
      "30/30 [==============================] - 0s 5ms/step - loss: 11.5852 - categorical_crossentropy: 11.5852 - val_loss: 11.5007 - val_categorical_crossentropy: 11.5007\n",
      "Epoch 3/10\n",
      "30/30 [==============================] - 0s 5ms/step - loss: 11.5951 - categorical_crossentropy: 11.5951 - val_loss: 11.6002 - val_categorical_crossentropy: 11.6002\n",
      "Epoch 4/10\n",
      "30/30 [==============================] - 0s 5ms/step - loss: 11.5675 - categorical_crossentropy: 11.5675 - val_loss: 11.6191 - val_categorical_crossentropy: 11.6191\n",
      "Epoch 5/10\n",
      "30/30 [==============================] - 0s 4ms/step - loss: 11.5613 - categorical_crossentropy: 11.5613 - val_loss: 11.5035 - val_categorical_crossentropy: 11.5035\n",
      "Epoch 6/10\n",
      "30/30 [==============================] - 0s 4ms/step - loss: 11.5900 - categorical_crossentropy: 11.5900 - val_loss: 11.6058 - val_categorical_crossentropy: 11.6058\n",
      "Epoch 7/10\n",
      "30/30 [==============================] - 0s 4ms/step - loss: 11.5639 - categorical_crossentropy: 11.5639 - val_loss: 11.4137 - val_categorical_crossentropy: 11.4137\n",
      "Epoch 8/10\n",
      "30/30 [==============================] - 0s 5ms/step - loss: 11.5737 - categorical_crossentropy: 11.5737 - val_loss: 11.6627 - val_categorical_crossentropy: 11.6627\n",
      "Epoch 9/10\n",
      "30/30 [==============================] - 0s 6ms/step - loss: 11.5601 - categorical_crossentropy: 11.5601 - val_loss: 11.5158 - val_categorical_crossentropy: 11.5158\n",
      "Epoch 10/10\n",
      "30/30 [==============================] - 0s 5ms/step - loss: 11.5468 - categorical_crossentropy: 11.5468 - val_loss: 11.6467 - val_categorical_crossentropy: 11.6467\n"
     ]
    },
    {
     "data": {
      "text/plain": [
       "<tensorflow.python.keras.callbacks.History at 0x28920f58828>"
      ]
     },
     "execution_count": 38,
     "metadata": {},
     "output_type": "execute_result"
    }
   ],
   "source": [
    "mode.fit(dataset,epochs=10,steps_per_epoch=30,validation_data=vdataset,validation_steps=3)"
   ]
  },
  {
   "cell_type": "markdown",
   "metadata": {},
   "source": [
    "## 评估和预测"
   ]
  },
  {
   "cell_type": "markdown",
   "metadata": {},
   "source": [
    "### 评估"
   ]
  },
  {
   "cell_type": "markdown",
   "metadata": {},
   "source": [
    "评估所提供数据的推理模式损失和指标"
   ]
  },
  {
   "cell_type": "code",
   "execution_count": 40,
   "metadata": {
    "collapsed": true
   },
   "outputs": [
    {
     "name": "stdout",
     "output_type": "stream",
     "text": [
      "1000/1000 [==============================] - 0s 250us/step\n",
      "30/30 [==============================] - 0s 4ms/step\n"
     ]
    },
    {
     "data": {
      "text/plain": [
       "[11.64167013168335, 11.64167013168335]"
      ]
     },
     "execution_count": 40,
     "metadata": {},
     "output_type": "execute_result"
    }
   ],
   "source": [
    "data,labels=random_data()\n",
    "# np数据评估\n",
    "mode.evaluate(data,labels,batch_size=32)\n",
    "# 数据集评估\n",
    "mode.evaluate(dataset,steps=30)"
   ]
  },
  {
   "cell_type": "markdown",
   "metadata": {},
   "source": [
    "### 预测"
   ]
  },
  {
   "cell_type": "markdown",
   "metadata": {},
   "source": [
    "在提供数据的推理中预测最后一层的输出"
   ]
  },
  {
   "cell_type": "code",
   "execution_count": 41,
   "metadata": {},
   "outputs": [
    {
     "name": "stdout",
     "output_type": "stream",
     "text": [
      "(1000, 10)\n"
     ]
    }
   ],
   "source": [
    "data,_=random_data()\n",
    "result=mode.predict(data,batch_size=32)\n",
    "print(result.shape)"
   ]
  },
  {
   "cell_type": "code",
   "execution_count": 42,
   "metadata": {
    "collapsed": true
   },
   "outputs": [
    {
     "data": {
      "text/plain": [
       "array([[0.17960607, 0.07058816, 0.08995043, 0.11511935, 0.08032557,\n",
       "        0.1246631 , 0.03699635, 0.05589069, 0.09107966, 0.15578073],\n",
       "       [0.09124234, 0.07951216, 0.09705744, 0.10748298, 0.07255257,\n",
       "        0.09948248, 0.09811707, 0.12543827, 0.11193518, 0.11717948],\n",
       "       [0.11776804, 0.10183577, 0.112534  , 0.09888044, 0.1074329 ,\n",
       "        0.06631875, 0.11584488, 0.05868834, 0.11182646, 0.10887054]],\n",
       "      dtype=float32)"
      ]
     },
     "execution_count": 42,
     "metadata": {},
     "output_type": "execute_result"
    }
   ],
   "source": [
    "result[:3]"
   ]
  },
  {
   "cell_type": "markdown",
   "metadata": {},
   "source": [
    "# 构建高级模型"
   ]
  },
  {
   "cell_type": "markdown",
   "metadata": {},
   "source": [
    "## 函数式API\n",
    "`tf.kerasa.Sequential`模型是层的简单堆叠，无法表示任意模型\n",
    "\n",
    "用__Keras函数式API__可以构建复杂的模型拓扑，例如：\n",
    "- 多输入模型\n",
    "- 多输出模型\n",
    "- 具有共享层模型（同一层被调用多次）\n",
    "- 具有非序列数据流的模型（例如，剩余连接）\n",
    "\n",
    "使用函数式API构建的模型具有以下特征：\n",
    "- 层实例可调用并返回张量\n",
    "- 输入张量和输出张量用于定义`tf.keras.Model`实例\n",
    "- 此模型的训练方式和`Sequential`模型一样"
   ]
  },
  {
   "cell_type": "markdown",
   "metadata": {},
   "source": [
    "使用函数式API构建简单的全连接网络"
   ]
  },
  {
   "cell_type": "code",
   "execution_count": 47,
   "metadata": {},
   "outputs": [],
   "source": [
    "inputs=tf.keras.Input(shape=(32,))\n",
    "\n",
    "# 层实例调用并返回张量\n",
    "x=keras.layers.Dense(64,activation='relu')(inputs)\n",
    "x=keras.layers.Dense(64,activation='relu')(x)\n",
    "predictions = keras.layers.Dense(10,activation='softmax')(x)"
   ]
  },
  {
   "cell_type": "markdown",
   "metadata": {},
   "source": [
    "在给定输入和输出的情况下实例化模型"
   ]
  },
  {
   "cell_type": "code",
   "execution_count": 49,
   "metadata": {},
   "outputs": [
    {
     "name": "stdout",
     "output_type": "stream",
     "text": [
      "Epoch 1/5\n",
      "1000/1000 [==============================] - 7s 7ms/step - loss: 11.6295 - acc: 0.1120\n",
      "Epoch 2/5\n",
      "1000/1000 [==============================] - 0s 101us/step - loss: 11.5653 - acc: 0.1070\n",
      "Epoch 3/5\n",
      "1000/1000 [==============================] - 0s 99us/step - loss: 11.5362 - acc: 0.1080\n",
      "Epoch 4/5\n",
      "1000/1000 [==============================] - 0s 101us/step - loss: 11.5257 - acc: 0.1030\n",
      "Epoch 5/5\n",
      "1000/1000 [==============================] - 0s 100us/step - loss: 11.5176 - acc: 0.1210\n"
     ]
    },
    {
     "data": {
      "text/plain": [
       "<tensorflow.python.keras.callbacks.History at 0x28919b36fd0>"
      ]
     },
     "execution_count": 49,
     "metadata": {},
     "output_type": "execute_result"
    }
   ],
   "source": [
    "model = keras.Model(inputs=inputs,outputs=predictions)\n",
    "\n",
    "model.compile(optimizer=tf.train.RMSPropOptimizer(0.001),\n",
    "             loss='categorical_crossentropy',\n",
    "             metrics=['accuracy'])\n",
    "model.fit(data,labels,batch_size=32,epochs=5)"
   ]
  },
  {
   "cell_type": "markdown",
   "metadata": {},
   "source": [
    "## 模型子类化\n",
    "通过`tf.keras.Model`进行子类化定义自己的__前向传播__来构建自定义的模型\n",
    "- 在`__init__`方法中创建层\n",
    "- 在`call`方法中定义前向传播"
   ]
  },
  {
   "cell_type": "markdown",
   "metadata": {},
   "source": [
    "使用自定义前身传播进行子类化的`tf.keras.Model`："
   ]
  },
  {
   "cell_type": "code",
   "execution_count": 54,
   "metadata": {},
   "outputs": [],
   "source": [
    "class MyModel(tf.keras.Model):\n",
    "    def __init__(self,num_class=10):\n",
    "        super(MyModel,self).__init__(name='my_model')\n",
    "        self.num_class=num_class\n",
    "        self.dense_1=keras.layers.Dense(32,activation='relu')\n",
    "        self.dense_2=keras.layers.Dense(num_class,activation='sigmoid')\n",
    "        \n",
    "    def call(self,inputs):\n",
    "        '''定义前向传播'''\n",
    "        x=self.dense_1(inputs)\n",
    "        return self.dense_2(x)\n",
    "    \n",
    "    def compute_output_shape(self,input_shape):\n",
    "        '''使用子类化的模型，则需要覆盖此函数'''\n",
    "        shape=tf.TensorShape(input_shape).as_list()\n",
    "        shape[-1]=self.num_class\n",
    "        return tf.TensorShape(shape)"
   ]
  },
  {
   "cell_type": "markdown",
   "metadata": {},
   "source": [
    "实例化新模型类："
   ]
  },
  {
   "cell_type": "code",
   "execution_count": 57,
   "metadata": {},
   "outputs": [
    {
     "name": "stdout",
     "output_type": "stream",
     "text": [
      "Epoch 1/5\n",
      "1000/1000 [==============================] - 1s 537us/step - loss: 11.5414 - categorical_crossentropy: 11.5414\n",
      "Epoch 2/5\n",
      "1000/1000 [==============================] - 0s 116us/step - loss: 11.5194 - categorical_crossentropy: 11.5194\n",
      "Epoch 3/5\n",
      "1000/1000 [==============================] - 0s 115us/step - loss: 11.5190 - categorical_crossentropy: 11.5190\n",
      "Epoch 4/5\n",
      "1000/1000 [==============================] - 0s 113us/step - loss: 11.5172 - categorical_crossentropy: 11.5172\n",
      "Epoch 5/5\n",
      "1000/1000 [==============================] - 0s 115us/step - loss: 11.5172 - categorical_crossentropy: 11.5172\n"
     ]
    },
    {
     "data": {
      "text/plain": [
       "<tensorflow.python.keras.callbacks.History at 0x28921402c50>"
      ]
     },
     "execution_count": 57,
     "metadata": {},
     "output_type": "execute_result"
    }
   ],
   "source": [
    "# 创建自定义的模型\n",
    "model = MyModel(10)\n",
    "\n",
    "# 配置模型的学习流程\n",
    "model.compile(optimizer=tf.train.AdamOptimizer(0.1),\n",
    "             loss=tf.keras.losses.categorical_crossentropy,\n",
    "             metrics=[tf.keras.metrics.categorical_crossentropy])\n",
    "\n",
    "# 拟合数据\n",
    "mode.fit(data,labels,batch_size=32,epochs=5)"
   ]
  },
  {
   "cell_type": "markdown",
   "metadata": {},
   "source": [
    "## 自定义层\n",
    "通过`tf.keras.layers.Layer`进行子类化并实现以下方法来创建自定义层：\n",
    "- `build`：创建层的权重\n",
    "- `call`：定义前向传播\n",
    "- `computer_output_shape`：指定在给定输入形状的情况下如何计算层的输出形状\n",
    "- 可以通过实现`get_config`方法和`from_config`类方法序列化层"
   ]
  },
  {
   "cell_type": "markdown",
   "metadata": {},
   "source": [
    "使用核矩阵实现输入`matmul`的自定义层示例："
   ]
  },
  {
   "cell_type": "code",
   "execution_count": 65,
   "metadata": {},
   "outputs": [],
   "source": [
    "class MyLayer(keras.layers.Layer):\n",
    "    def __init__(self,output_dim,**kwargs):\n",
    "        self.output_dim=output_dim\n",
    "        super(MyLayer,self).__init__(**kwargs)\n",
    "    \n",
    "    def build(self,input_shape):\n",
    "        shape=tf.TensorShape((input_shape[1],self.output_dim))\n",
    "        \n",
    "#         为这一层创建一个可训练的权重变量\n",
    "        self.kernel=self.add_weight(name='kernel',shape=shape,initializer='uniform',trainable=True)\n",
    "        \n",
    "#         最后一定要调用这个\n",
    "        super(MyLayer,self).build(input_shape)\n",
    "    \n",
    "    def call(self,inputs):\n",
    "        return tf.matmul(inputs,self.kernel)\n",
    "    \n",
    "    def complete_output_shape(self,input_shape):\n",
    "        shape=tf.TensorShape(input_shape).as_list()\n",
    "        shape[-1]=self.output_dim\n",
    "        return tf.TensorShape(shape)\n",
    "    \n",
    "    def get_config(self):\n",
    "        base_config=super(MyLayer,self).get_config()\n",
    "        base_config['output_dim']=self.output_dim\n",
    "        return base_config\n",
    "    \n",
    "    @classmethod\n",
    "    def from_config(cls,config):\n",
    "        return cls(**config)\n",
    "    "
   ]
  },
  {
   "cell_type": "markdown",
   "metadata": {},
   "source": [
    "使用自定义层创建模型："
   ]
  },
  {
   "cell_type": "code",
   "execution_count": 66,
   "metadata": {},
   "outputs": [
    {
     "name": "stdout",
     "output_type": "stream",
     "text": [
      "Epoch 1/5\n",
      "1000/1000 [==============================] - 1s 505us/step - loss: 12.8863 - categorical_accuracy: 0.1130\n",
      "Epoch 2/5\n",
      "1000/1000 [==============================] - 0s 86us/step - loss: 12.3474 - categorical_accuracy: 0.1060\n",
      "Epoch 3/5\n",
      "1000/1000 [==============================] - 0s 86us/step - loss: 12.0310 - categorical_accuracy: 0.1010\n",
      "Epoch 4/5\n",
      "1000/1000 [==============================] - 0s 85us/step - loss: 11.9524 - categorical_accuracy: 0.1020\n",
      "Epoch 5/5\n",
      "1000/1000 [==============================] - 0s 85us/step - loss: 11.9231 - categorical_accuracy: 0.1030\n"
     ]
    },
    {
     "data": {
      "text/plain": [
       "<tensorflow.python.keras.callbacks.History at 0x28921401390>"
      ]
     },
     "execution_count": 66,
     "metadata": {},
     "output_type": "execute_result"
    }
   ],
   "source": [
    "# 创建序列模型\n",
    "model=tf.keras.Sequential([MyLayer(10),keras.layers.Activation('softmax')])\n",
    "\n",
    "# 配置模型的学习流程\n",
    "model.compile(optimizer=tf.train.RMSPropOptimizer(0.001),\n",
    "             loss=keras.losses.categorical_crossentropy,\n",
    "             metrics=[keras.metrics.categorical_accuracy])\n",
    "# 拟合数据\n",
    "model.fit(data,labels,batch_size=32,epochs=5)"
   ]
  },
  {
   "cell_type": "markdown",
   "metadata": {},
   "source": [
    "## 回调\n",
    "回调是传递给模型的__对象__，用于在训练期间自定义该模型并扩展其行为"
   ]
  },
  {
   "cell_type": "code",
   "execution_count": 69,
   "metadata": {},
   "outputs": [
    {
     "name": "stdout",
     "output_type": "stream",
     "text": [
      "Train on 1000 samples, validate on 1000 samples\n",
      "Epoch 1/5\n",
      "1000/1000 [==============================] - 0s 397us/step - loss: 11.8967 - categorical_accuracy: 0.1040 - val_loss: 11.9053 - val_categorical_accuracy: 0.1190\n",
      "Epoch 2/5\n",
      "1000/1000 [==============================] - 0s 127us/step - loss: 11.8706 - categorical_accuracy: 0.1070 - val_loss: 11.8853 - val_categorical_accuracy: 0.1160\n",
      "Epoch 3/5\n",
      "1000/1000 [==============================] - 0s 129us/step - loss: 11.8464 - categorical_accuracy: 0.1060 - val_loss: 11.8639 - val_categorical_accuracy: 0.1190\n",
      "Epoch 4/5\n",
      "1000/1000 [==============================] - 0s 133us/step - loss: 11.8235 - categorical_accuracy: 0.1030 - val_loss: 11.8437 - val_categorical_accuracy: 0.1130\n",
      "Epoch 5/5\n",
      "1000/1000 [==============================] - 0s 130us/step - loss: 11.8024 - categorical_accuracy: 0.1060 - val_loss: 11.8261 - val_categorical_accuracy: 0.1150\n"
     ]
    },
    {
     "data": {
      "text/plain": [
       "<tensorflow.python.keras.callbacks.History at 0x28922403b38>"
      ]
     },
     "execution_count": 69,
     "metadata": {},
     "output_type": "execute_result"
    }
   ],
   "source": [
    "callbacks = [\n",
    "  # Interrupt training if `val_loss` stops improving for over 2 epochs\n",
    "  tf.keras.callbacks.EarlyStopping(patience=2, monitor='val_loss'),\n",
    "  # Write TensorBoard logs to `./logs` directory\n",
    "  tf.keras.callbacks.TensorBoard(log_dir='./logs')\n",
    "]\n",
    "model.fit(data, labels, batch_size=32, epochs=5, callbacks=callbacks,\n",
    "          validation_data=(vdata, vlabels))"
   ]
  }
 ],
 "metadata": {
  "kernelspec": {
   "display_name": "Python 3",
   "language": "python",
   "name": "python3"
  },
  "language_info": {
   "codemirror_mode": {
    "name": "ipython",
    "version": 3
   },
   "file_extension": ".py",
   "mimetype": "text/x-python",
   "name": "python",
   "nbconvert_exporter": "python",
   "pygments_lexer": "ipython3",
   "version": "3.6.7"
  }
 },
 "nbformat": 4,
 "nbformat_minor": 2
}
