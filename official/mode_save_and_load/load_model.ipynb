{
 "cells": [
  {
   "cell_type": "code",
   "execution_count": 7,
   "metadata": {
    "collapsed": true
   },
   "outputs": [
    {
     "name": "stdout",
     "output_type": "stream",
     "text": [
      "_________________________________________________________________\n",
      "Layer (type)                 Output Shape              Param #   \n",
      "=================================================================\n",
      "dense (Dense)                (None, 512)               401920    \n",
      "_________________________________________________________________\n",
      "dropout (Dropout)            (None, 512)               0         \n",
      "_________________________________________________________________\n",
      "dense_1 (Dense)              (None, 10)                5130      \n",
      "=================================================================\n",
      "Total params: 407,050\n",
      "Trainable params: 407,050\n",
      "Non-trainable params: 0\n",
      "_________________________________________________________________\n",
      "Train on 1000 samples, validate on 1000 samples\n",
      "Epoch 1/10\n",
      "1000/1000 [==============================] - 8s 8ms/step - loss: 1.1617 - acc: 0.6530 - val_loss: 0.7443 - val_acc: 0.7420\n",
      "\n",
      "Epoch 00001: saving model to training_1/cp.ckpt\n",
      "Epoch 2/10\n",
      "1000/1000 [==============================] - 1s 909us/step - loss: 0.4174 - acc: 0.8800 - val_loss: 0.4984 - val_acc: 0.8500\n",
      "\n",
      "Epoch 00002: saving model to training_1/cp.ckpt\n",
      "Epoch 3/10\n",
      "1000/1000 [==============================] - 1s 1ms/step - loss: 0.2837 - acc: 0.9260 - val_loss: 0.4516 - val_acc: 0.8540\n",
      "\n",
      "Epoch 00003: saving model to training_1/cp.ckpt\n",
      "Epoch 4/10\n",
      "1000/1000 [==============================] - 1s 930us/step - loss: 0.1999 - acc: 0.9550 - val_loss: 0.4549 - val_acc: 0.8580\n",
      "\n",
      "Epoch 00004: saving model to training_1/cp.ckpt\n",
      "Epoch 5/10\n",
      "1000/1000 [==============================] - 1s 978us/step - loss: 0.1474 - acc: 0.9690 - val_loss: 0.4301 - val_acc: 0.8660\n",
      "\n",
      "Epoch 00005: saving model to training_1/cp.ckpt\n",
      "Epoch 6/10\n",
      "1000/1000 [==============================] - 1s 950us/step - loss: 0.1041 - acc: 0.9810 - val_loss: 0.4615 - val_acc: 0.8500\n",
      "\n",
      "Epoch 00006: saving model to training_1/cp.ckpt\n",
      "Epoch 7/10\n",
      "1000/1000 [==============================] - 1s 1ms/step - loss: 0.0801 - acc: 0.9930 - val_loss: 0.4004 - val_acc: 0.8750\n",
      "\n",
      "Epoch 00007: saving model to training_1/cp.ckpt\n",
      "Epoch 8/10\n",
      "1000/1000 [==============================] - 1s 919us/step - loss: 0.0692 - acc: 0.9900 - val_loss: 0.4389 - val_acc: 0.8670\n",
      "\n",
      "Epoch 00008: saving model to training_1/cp.ckpt\n",
      "Epoch 9/10\n",
      "1000/1000 [==============================] - 1s 912us/step - loss: 0.0458 - acc: 0.9990 - val_loss: 0.4248 - val_acc: 0.8630\n",
      "\n",
      "Epoch 00009: saving model to training_1/cp.ckpt\n",
      "Epoch 10/10\n",
      "1000/1000 [==============================] - 1s 885us/step - loss: 0.0353 - acc: 0.9990 - val_loss: 0.4042 - val_acc: 0.8700\n",
      "\n",
      "Epoch 00010: saving model to training_1/cp.ckpt\n",
      "1000/1000 [==============================] - 0s 403us/step\n",
      "untrained model acc10.70%\n",
      "\n",
      "Epoch 00005: saving model to traing_2/cp-0005.ckpt\n",
      "\n",
      "Epoch 00010: saving model to traing_2/cp-0010.ckpt\n",
      "\n",
      "Epoch 00015: saving model to traing_2/cp-0015.ckpt\n",
      "\n",
      "Epoch 00020: saving model to traing_2/cp-0020.ckpt\n",
      "\n",
      "Epoch 00025: saving model to traing_2/cp-0025.ckpt\n",
      "\n",
      "Epoch 00030: saving model to traing_2/cp-0030.ckpt\n",
      "\n",
      "Epoch 00035: saving model to traing_2/cp-0035.ckpt\n",
      "\n",
      "Epoch 00040: saving model to traing_2/cp-0040.ckpt\n",
      "\n",
      "Epoch 00045: saving model to traing_2/cp-0045.ckpt\n",
      "\n",
      "Epoch 00050: saving model to traing_2/cp-0050.ckpt\n",
      "1000/1000 [==============================] - 0s 241us/step\n",
      "restored model accuracy: 87.300%\n",
      "Epoch 1/5\n",
      "1000/1000 [==============================] - 3s 3ms/step - loss: 1.2095 - acc: 0.6700\n",
      "Epoch 2/5\n",
      "1000/1000 [==============================] - 1s 860us/step - loss: 0.4328 - acc: 0.8870\n",
      "Epoch 3/5\n",
      "1000/1000 [==============================] - 1s 875us/step - loss: 0.2780 - acc: 0.9310\n",
      "Epoch 4/5\n",
      "1000/1000 [==============================] - 1s 837us/step - loss: 0.2174 - acc: 0.9450 0s - loss: 0.2394 - \n",
      "Epoch 5/5\n",
      "1000/1000 [==============================] - 1s 869us/step - loss: 0.1640 - acc: 0.9630\n"
     ]
    }
   ],
   "source": [
    "# 代码自动完成\n",
    "%config IPCompleter.greedy=True\n",
    "\n",
    "# 运行或载入外部文件\n",
    "# https://cloud.tencent.com/developer/ask/125071\n",
    "%run save_and_load.ipynb"
   ]
  },
  {
   "cell_type": "code",
   "execution_count": 8,
   "metadata": {},
   "outputs": [],
   "source": [
    "import tensorflow as tf\n",
    "from tensorflow import keras"
   ]
  },
  {
   "cell_type": "code",
   "execution_count": 4,
   "metadata": {
    "scrolled": true
   },
   "outputs": [
    {
     "name": "stdout",
     "output_type": "stream",
     "text": [
      "_________________________________________________________________\n",
      "Layer (type)                 Output Shape              Param #   \n",
      "=================================================================\n",
      "dense_10 (Dense)             (None, 512)               401920    \n",
      "_________________________________________________________________\n",
      "dropout_5 (Dropout)          (None, 512)               0         \n",
      "_________________________________________________________________\n",
      "dense_11 (Dense)             (None, 10)                5130      \n",
      "=================================================================\n",
      "Total params: 407,050\n",
      "Trainable params: 407,050\n",
      "Non-trainable params: 0\n",
      "_________________________________________________________________\n"
     ]
    }
   ],
   "source": [
    "# 加载外部保存的模型\n",
    "model=keras.models.load_model('my_model.h5')\n",
    "model.summary()"
   ]
  },
  {
   "cell_type": "code",
   "execution_count": 12,
   "metadata": {},
   "outputs": [
    {
     "name": "stdout",
     "output_type": "stream",
     "text": [
      "1000/1000 [==============================] - 0s 121us/step\n",
      "restored model,accuracy:86.50%\n"
     ]
    }
   ],
   "source": [
    "# 评估外部模型\n",
    "loss,acc=model.evaluate(test_images,test_labels)\n",
    "print('restored model,accuracy:{:5.2%}'.format(acc))"
   ]
  }
 ],
 "metadata": {
  "kernelspec": {
   "display_name": "Python 3",
   "language": "python",
   "name": "python3"
  },
  "language_info": {
   "codemirror_mode": {
    "name": "ipython",
    "version": 3
   },
   "file_extension": ".py",
   "mimetype": "text/x-python",
   "name": "python",
   "nbconvert_exporter": "python",
   "pygments_lexer": "ipython3",
   "version": "3.6.7"
  }
 },
 "nbformat": 4,
 "nbformat_minor": 2
}
