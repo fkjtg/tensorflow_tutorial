{
 "cells": [
  {
   "cell_type": "code",
   "execution_count": 5,
   "metadata": {},
   "outputs": [],
   "source": [
    "import os\n",
    "import tensorflow as tf\n",
    "from tensorflow import keras"
   ]
  },
  {
   "cell_type": "code",
   "execution_count": 6,
   "metadata": {},
   "outputs": [],
   "source": [
    "(train_images, train_labels), (test_images, test_labels) = tf.keras.datasets.mnist.load_data()\n",
    "\n",
    "train_labels = train_labels[:1000]\n",
    "test_labels = test_labels[:1000]\n",
    "\n",
    "train_images = train_images[:1000].reshape(-1, 28 * 28) / 255.0\n",
    "test_images = test_images[:1000].reshape(-1, 28 * 28) / 255.0"
   ]
  },
  {
   "cell_type": "code",
   "execution_count": 7,
   "metadata": {},
   "outputs": [
    {
     "name": "stdout",
     "output_type": "stream",
     "text": [
      "_________________________________________________________________\n",
      "Layer (type)                 Output Shape              Param #   \n",
      "=================================================================\n",
      "dense_2 (Dense)              (None, 512)               401920    \n",
      "_________________________________________________________________\n",
      "dropout_1 (Dropout)          (None, 512)               0         \n",
      "_________________________________________________________________\n",
      "dense_3 (Dense)              (None, 10)                5130      \n",
      "=================================================================\n",
      "Total params: 407,050\n",
      "Trainable params: 407,050\n",
      "Non-trainable params: 0\n",
      "_________________________________________________________________\n"
     ]
    }
   ],
   "source": [
    "# Returns a short sequential model\n",
    "def create_model():\n",
    "  model = tf.keras.models.Sequential([\n",
    "    keras.layers.Dense(512, activation=tf.nn.relu, input_shape=(784,)),\n",
    "    keras.layers.Dropout(0.2),\n",
    "    keras.layers.Dense(10, activation=tf.nn.softmax)\n",
    "  ])\n",
    "\n",
    "  model.compile(optimizer=tf.keras.optimizers.Adam(),\n",
    "                loss=tf.keras.losses.sparse_categorical_crossentropy,\n",
    "                metrics=['accuracy'])\n",
    "\n",
    "  return model\n",
    "\n",
    "# Create a basic model instance\n",
    "model = create_model()\n",
    "# \n",
    "model.summary()"
   ]
  },
  {
   "cell_type": "markdown",
   "metadata": {},
   "source": [
    "#### 回调，自动保存检查点"
   ]
  },
  {
   "cell_type": "code",
   "execution_count": 8,
   "metadata": {},
   "outputs": [
    {
     "name": "stdout",
     "output_type": "stream",
     "text": [
      "Train on 1000 samples, validate on 1000 samples\n",
      "Epoch 1/10\n",
      "1000/1000 [==============================] - 6s 6ms/step - loss: 1.2054 - acc: 0.6610 - val_loss: 0.7038 - val_acc: 0.7890\n",
      "\n",
      "Epoch 00001: saving model to training_1/cp.ckpt\n",
      "Epoch 2/10\n",
      "1000/1000 [==============================] - 0s 178us/step - loss: 0.4401 - acc: 0.8790 - val_loss: 0.5313 - val_acc: 0.8450\n",
      "\n",
      "Epoch 00002: saving model to training_1/cp.ckpt\n",
      "Epoch 3/10\n",
      "1000/1000 [==============================] - 0s 227us/step - loss: 0.3097 - acc: 0.9120 - val_loss: 0.4563 - val_acc: 0.8560\n",
      "\n",
      "Epoch 00003: saving model to training_1/cp.ckpt\n",
      "Epoch 4/10\n",
      "1000/1000 [==============================] - 0s 184us/step - loss: 0.2105 - acc: 0.9470 - val_loss: 0.4419 - val_acc: 0.8560\n",
      "\n",
      "Epoch 00004: saving model to training_1/cp.ckpt\n",
      "Epoch 5/10\n",
      "1000/1000 [==============================] - 0s 180us/step - loss: 0.1486 - acc: 0.9720 - val_loss: 0.4114 - val_acc: 0.8650\n",
      "\n",
      "Epoch 00005: saving model to training_1/cp.ckpt\n",
      "Epoch 6/10\n",
      "1000/1000 [==============================] - 0s 193us/step - loss: 0.1148 - acc: 0.9800 - val_loss: 0.4320 - val_acc: 0.8600\n",
      "\n",
      "Epoch 00006: saving model to training_1/cp.ckpt\n",
      "Epoch 7/10\n",
      "1000/1000 [==============================] - 0s 176us/step - loss: 0.1020 - acc: 0.9810 - val_loss: 0.4154 - val_acc: 0.8720\n",
      "\n",
      "Epoch 00007: saving model to training_1/cp.ckpt\n",
      "Epoch 8/10\n",
      "1000/1000 [==============================] - 0s 216us/step - loss: 0.0714 - acc: 0.9920 - val_loss: 0.4141 - val_acc: 0.8670\n",
      "\n",
      "Epoch 00008: saving model to training_1/cp.ckpt\n",
      "Epoch 9/10\n",
      "1000/1000 [==============================] - 0s 196us/step - loss: 0.0530 - acc: 0.9960 - val_loss: 0.4090 - val_acc: 0.8740\n",
      "\n",
      "Epoch 00009: saving model to training_1/cp.ckpt\n",
      "Epoch 10/10\n",
      "1000/1000 [==============================] - 0s 192us/step - loss: 0.0377 - acc: 0.9980 - val_loss: 0.4206 - val_acc: 0.8690\n",
      "\n",
      "Epoch 00010: saving model to training_1/cp.ckpt\n"
     ]
    },
    {
     "data": {
      "text/plain": [
       "<tensorflow.python.keras.callbacks.History at 0x21c92317400>"
      ]
     },
     "execution_count": 8,
     "metadata": {},
     "output_type": "execute_result"
    }
   ],
   "source": [
    "# 创建点路径\n",
    "cp_path='training_1/cp.ckpt'\n",
    "cp_dir=os.path.dirname(cp_path)\n",
    "# 创建检点回调\n",
    "cp_callback=tf.keras.callbacks.ModelCheckpoint(cp_path,save_weights_only=True,verbose=1)\n",
    "# 训练模型\n",
    "model.fit(train_images,train_labels,epochs=10,validation_data=(test_images,test_labels),callbacks=[cp_callback])\n",
    "# 默认的 TensorFlow 格式仅保存最近的 5 个检查点"
   ]
  },
  {
   "cell_type": "markdown",
   "metadata": {},
   "source": [
    "#### 创建新模型并进行评估"
   ]
  },
  {
   "cell_type": "code",
   "execution_count": 9,
   "metadata": {},
   "outputs": [
    {
     "name": "stdout",
     "output_type": "stream",
     "text": [
      "1000/1000 [==============================] - 0s 148us/step\n",
      "untrained model acc6.50%\n"
     ]
    }
   ],
   "source": [
    "# 创建一个新模型\n",
    "model_new=create_model()\n",
    "# 评估该新模型\n",
    "loss,acc=model_new.evaluate(test_images,test_labels)\n",
    "print('untrained model acc{:.2%}'.format(acc))"
   ]
  },
  {
   "cell_type": "markdown",
   "metadata": {},
   "source": [
    "#### 新模型-->加载权重-->进行评估"
   ]
  },
  {
   "cell_type": "code",
   "execution_count": 10,
   "metadata": {},
   "outputs": [],
   "source": [
    "def create_model_and_evaluate(cp_path): \n",
    "    '''\n",
    "    创建一个新模型，并对新模型进行评估\n",
    "    '''\n",
    "    # 创建一个新模型\n",
    "    model_new=create_model()\n",
    "    # 从检查点加载权重\n",
    "    model_new.load_weights(cp_path)\n",
    "    # 评估该模型\n",
    "    loss,acc=model_new.evaluate(test_images,test_labels)\n",
    "    print('restored model accuracy: {:.3%}'.format(acc))"
   ]
  },
  {
   "cell_type": "code",
   "execution_count": 11,
   "metadata": {},
   "outputs": [
    {
     "name": "stdout",
     "output_type": "stream",
     "text": [
      "\n",
      "Epoch 00005: saving model to traing_2/cp-0005.ckpt\n",
      "\n",
      "Epoch 00010: saving model to traing_2/cp-0010.ckpt\n",
      "\n",
      "Epoch 00015: saving model to traing_2/cp-0015.ckpt\n",
      "\n",
      "Epoch 00020: saving model to traing_2/cp-0020.ckpt\n",
      "\n",
      "Epoch 00025: saving model to traing_2/cp-0025.ckpt\n",
      "\n",
      "Epoch 00030: saving model to traing_2/cp-0030.ckpt\n",
      "\n",
      "Epoch 00035: saving model to traing_2/cp-0035.ckpt\n",
      "\n",
      "Epoch 00040: saving model to traing_2/cp-0040.ckpt\n",
      "\n",
      "Epoch 00045: saving model to traing_2/cp-0045.ckpt\n",
      "\n",
      "Epoch 00050: saving model to traing_2/cp-0050.ckpt\n"
     ]
    },
    {
     "data": {
      "text/plain": [
       "<tensorflow.python.keras.callbacks.History at 0x21ca26e13c8>"
      ]
     },
     "execution_count": 11,
     "metadata": {},
     "output_type": "execute_result"
    }
   ],
   "source": [
    "# 自动保存检查点\n",
    "\n",
    "# 创建点路径\n",
    "cp_path_id='traing_2/cp-{epoch:04d}.ckpt'\n",
    "cp_dir_id=os.path.dirname(cp_path_id)\n",
    "# 创建检点回调\n",
    "cp_callback_id=tf.keras.callbacks.ModelCheckpoint(cp_path_id,verbose=1,save_weights_only=True,period=5)\n",
    "\n",
    "model_id=create_model()\n",
    "model_id.fit(train_images,train_labels,epochs=50,callbacks=[cp_callback_id],validation_data=(test_images,test_labels),verbose=0)\n",
    "# 默认的 TensorFlow 格式仅保存最近的 5 个检查点"
   ]
  },
  {
   "cell_type": "markdown",
   "metadata": {},
   "source": [
    "#### 查看最新的检查点"
   ]
  },
  {
   "cell_type": "code",
   "execution_count": 12,
   "metadata": {
    "scrolled": false
   },
   "outputs": [
    {
     "data": {
      "text/plain": [
       "'traing_2\\\\cp-0050.ckpt'"
      ]
     },
     "execution_count": 12,
     "metadata": {},
     "output_type": "execute_result"
    }
   ],
   "source": [
    "# 选择最新的检查点\n",
    "last = tf.train.latest_checkpoint(cp_dir_id)\n",
    "last"
   ]
  },
  {
   "cell_type": "markdown",
   "metadata": {},
   "source": [
    "#### 手动保存检查点"
   ]
  },
  {
   "cell_type": "code",
   "execution_count": 13,
   "metadata": {},
   "outputs": [
    {
     "name": "stdout",
     "output_type": "stream",
     "text": [
      "1000/1000 [==============================] - 0s 105us/step\n",
      "restored model accuracy: 87.500%\n"
     ]
    }
   ],
   "source": [
    "# 路径\n",
    "cp_path_hand='./hand_save_cp/my_cp'\n",
    "# 手动进行保存检查点\n",
    "model_id.save_weights(cp_path_hand)\n",
    "# 创建一个新模型，并对新模型进行评估\n",
    "create_model_and_evaluate(cp_path_hand)"
   ]
  },
  {
   "cell_type": "markdown",
   "metadata": {},
   "source": [
    "### 保存整个模型(HDF5标准格式)\n",
    "保存的内容：\n",
    "- 权重值\n",
    "- 模型配置(架构)\n",
    "- 优化器配置"
   ]
  },
  {
   "cell_type": "code",
   "execution_count": 14,
   "metadata": {},
   "outputs": [
    {
     "name": "stdout",
     "output_type": "stream",
     "text": [
      "Epoch 1/5\n",
      "1000/1000 [==============================] - 0s 483us/step - loss: 1.1736 - acc: 0.6870\n",
      "Epoch 2/5\n",
      "1000/1000 [==============================] - 0s 150us/step - loss: 0.4371 - acc: 0.8750\n",
      "Epoch 3/5\n",
      "1000/1000 [==============================] - 0s 125us/step - loss: 0.2887 - acc: 0.9160\n",
      "Epoch 4/5\n",
      "1000/1000 [==============================] - 0s 140us/step - loss: 0.2071 - acc: 0.9560\n",
      "Epoch 5/5\n",
      "1000/1000 [==============================] - 0s 131us/step - loss: 0.1590 - acc: 0.9650\n"
     ]
    }
   ],
   "source": [
    "model =create_model()\n",
    "model.fit(train_images,train_labels,epochs=5)\n",
    "\n",
    "model.save('my_model.h5')"
   ]
  },
  {
   "cell_type": "code",
   "execution_count": null,
   "metadata": {},
   "outputs": [],
   "source": []
  }
 ],
 "metadata": {
  "kernelspec": {
   "display_name": "Python 3",
   "language": "python",
   "name": "python3"
  },
  "language_info": {
   "codemirror_mode": {
    "name": "ipython",
    "version": 3
   },
   "file_extension": ".py",
   "mimetype": "text/x-python",
   "name": "python",
   "nbconvert_exporter": "python",
   "pygments_lexer": "ipython3",
   "version": "3.6.3"
  }
 },
 "nbformat": 4,
 "nbformat_minor": 2
}
