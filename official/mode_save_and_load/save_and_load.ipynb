{
 "cells": [
  {
   "cell_type": "markdown",
   "metadata": {},
   "source": [
    "来源：https://tensorflow.google.cn/tutorials/keras/save_and_restore_models?hl=zh-cn"
   ]
  },
  {
   "cell_type": "code",
   "execution_count": 1,
   "metadata": {},
   "outputs": [],
   "source": [
    "import os\n",
    "import tensorflow as tf\n",
    "from tensorflow import keras"
   ]
  },
  {
   "cell_type": "markdown",
   "metadata": {},
   "source": [
    "获取示例数据集"
   ]
  },
  {
   "cell_type": "code",
   "execution_count": 2,
   "metadata": {},
   "outputs": [],
   "source": [
    "(train_images, train_labels), (test_images, test_labels) = tf.keras.datasets.mnist.load_data()\n",
    "\n",
    "train_labels = train_labels[:1000]\n",
    "test_labels = test_labels[:1000]\n",
    "\n",
    "train_images = train_images[:1000].reshape(-1, 28 * 28) / 255.0\n",
    "test_images = test_images[:1000].reshape(-1, 28 * 28) / 255.0"
   ]
  },
  {
   "cell_type": "markdown",
   "metadata": {},
   "source": [
    "# 定义模型"
   ]
  },
  {
   "cell_type": "code",
   "execution_count": 3,
   "metadata": {},
   "outputs": [
    {
     "name": "stdout",
     "output_type": "stream",
     "text": [
      "_________________________________________________________________\n",
      "Layer (type)                 Output Shape              Param #   \n",
      "=================================================================\n",
      "dense (Dense)                (None, 512)               401920    \n",
      "_________________________________________________________________\n",
      "dropout (Dropout)            (None, 512)               0         \n",
      "_________________________________________________________________\n",
      "dense_1 (Dense)              (None, 10)                5130      \n",
      "=================================================================\n",
      "Total params: 407,050\n",
      "Trainable params: 407,050\n",
      "Non-trainable params: 0\n",
      "_________________________________________________________________\n"
     ]
    }
   ],
   "source": [
    "# Returns a short sequential model\n",
    "def create_model():\n",
    "# 配置序列模型\n",
    "  model = tf.keras.models.Sequential([\n",
    "    keras.layers.Dense(512, activation=tf.nn.relu, input_shape=(784,)),\n",
    "    keras.layers.Dropout(0.2),\n",
    "    keras.layers.Dense(10, activation=tf.nn.softmax)\n",
    "  ])\n",
    "  \n",
    "# 配置模型学习流程\n",
    "  model.compile(optimizer=tf.keras.optimizers.Adam(),\n",
    "                loss=tf.keras.losses.sparse_categorical_crossentropy,\n",
    "                metrics=['accuracy'])\n",
    "\n",
    "  return model\n",
    "\n",
    "# Create a basic model instance\n",
    "model = create_model()\n",
    "# \n",
    "model.summary()"
   ]
  },
  {
   "cell_type": "markdown",
   "metadata": {},
   "source": [
    "# 训练期间保存检查点\n",
    "__检查点__存在2大功能：\n",
    "- 在训练期间，可以从上次暂停的地方继续训练，防止训练过程中段\n",
    "- 训练结束时，可以使用__经过训练的模型__，而__无需重新训练该模型__"
   ]
  },
  {
   "cell_type": "markdown",
   "metadata": {},
   "source": [
    "## 检查点回调用法\n",
    "训练模型，并将`ModelCheckpoint`回调传递给该模型\n",
    "\n",
    "___默认的 TensorFlow 格式仅保存最近的 5 个检查点___"
   ]
  },
  {
   "cell_type": "code",
   "execution_count": 4,
   "metadata": {
    "collapsed": true
   },
   "outputs": [
    {
     "name": "stdout",
     "output_type": "stream",
     "text": [
      "Train on 1000 samples, validate on 1000 samples\n",
      "Epoch 1/10\n",
      "1000/1000 [==============================] - 6s 6ms/step - loss: 1.1815 - acc: 0.6570 - val_loss: 0.7268 - val_acc: 0.7860\n",
      "\n",
      "Epoch 00001: saving model to training_1/cp.ckpt\n",
      "Epoch 2/10\n",
      "1000/1000 [==============================] - 0s 176us/step - loss: 0.4273 - acc: 0.8850 - val_loss: 0.5840 - val_acc: 0.8160\n",
      "\n",
      "Epoch 00002: saving model to training_1/cp.ckpt\n",
      "Epoch 3/10\n",
      "1000/1000 [==============================] - 0s 244us/step - loss: 0.2863 - acc: 0.9310 - val_loss: 0.4638 - val_acc: 0.8580\n",
      "\n",
      "Epoch 00003: saving model to training_1/cp.ckpt\n",
      "Epoch 4/10\n",
      "1000/1000 [==============================] - 0s 182us/step - loss: 0.2027 - acc: 0.9540 - val_loss: 0.4643 - val_acc: 0.8490\n",
      "\n",
      "Epoch 00004: saving model to training_1/cp.ckpt\n",
      "Epoch 5/10\n",
      "1000/1000 [==============================] - 0s 199us/step - loss: 0.1682 - acc: 0.9620 - val_loss: 0.4218 - val_acc: 0.8640\n",
      "\n",
      "Epoch 00005: saving model to training_1/cp.ckpt\n",
      "Epoch 6/10\n",
      "1000/1000 [==============================] - 0s 184us/step - loss: 0.1127 - acc: 0.9800 - val_loss: 0.4472 - val_acc: 0.8580\n",
      "\n",
      "Epoch 00006: saving model to training_1/cp.ckpt\n",
      "Epoch 7/10\n",
      "1000/1000 [==============================] - 0s 207us/step - loss: 0.0842 - acc: 0.9890 - val_loss: 0.4372 - val_acc: 0.8570\n",
      "\n",
      "Epoch 00007: saving model to training_1/cp.ckpt\n",
      "Epoch 8/10\n",
      "1000/1000 [==============================] - 0s 309us/step - loss: 0.0622 - acc: 0.9960 - val_loss: 0.4072 - val_acc: 0.8670\n",
      "\n",
      "Epoch 00008: saving model to training_1/cp.ckpt\n",
      "Epoch 9/10\n",
      "1000/1000 [==============================] - 0s 194us/step - loss: 0.0490 - acc: 0.9970 - val_loss: 0.4146 - val_acc: 0.8670\n",
      "\n",
      "Epoch 00009: saving model to training_1/cp.ckpt\n",
      "Epoch 10/10\n",
      "1000/1000 [==============================] - 0s 194us/step - loss: 0.0394 - acc: 0.9970 - val_loss: 0.4069 - val_acc: 0.8720\n",
      "\n",
      "Epoch 00010: saving model to training_1/cp.ckpt\n"
     ]
    },
    {
     "data": {
      "text/plain": [
       "<tensorflow.python.keras.callbacks.History at 0x1c22d5b2ef0>"
      ]
     },
     "execution_count": 4,
     "metadata": {},
     "output_type": "execute_result"
    }
   ],
   "source": [
    "# 创建检查点路径\n",
    "cp_path='training_1/cp.ckpt'\n",
    "cp_dir=os.path.dirname(cp_path)\n",
    "\n",
    "# 创建检点回调,通过参数设置成只保存权重\n",
    "cp_callback=tf.keras.callbacks.ModelCheckpoint(\n",
    "                                               cp_path,\n",
    "                                               save_weights_only=True,\n",
    "                                               verbose=1\n",
    "                                              )\n",
    "\n",
    "# 训练模型，将回调传递给该模型\n",
    "model.fit(\n",
    "          train_images,\n",
    "          train_labels,\n",
    "          epochs=10,\n",
    "          validation_data=(test_images,test_labels),\n",
    "          callbacks=[cp_callback]\n",
    "         )"
   ]
  },
  {
   "cell_type": "markdown",
   "metadata": {},
   "source": [
    "### 从权重恢复模型\n",
    "恢复模型需知：\n",
    "- 仅通过权重恢复模型时，模型必须与原始模型架构相同"
   ]
  },
  {
   "cell_type": "markdown",
   "metadata": {},
   "source": [
    "#### 创建新模型，并进行评估"
   ]
  },
  {
   "cell_type": "code",
   "execution_count": 5,
   "metadata": {
    "scrolled": true
   },
   "outputs": [
    {
     "name": "stdout",
     "output_type": "stream",
     "text": [
      "1000/1000 [==============================] - 0s 150us/step\n",
      "untrained model acc10.40%\n"
     ]
    }
   ],
   "source": [
    "# 创建一个新模型\n",
    "model_new=create_model()\n",
    "\n",
    "# 评估该新模型\n",
    "loss,acc=model_new.evaluate(test_images,test_labels)\n",
    "print('untrained model acc{:.2%}'.format(acc))"
   ]
  },
  {
   "cell_type": "markdown",
   "metadata": {},
   "source": [
    "#### 加载权重，并重新评估"
   ]
  },
  {
   "cell_type": "code",
   "execution_count": 6,
   "metadata": {},
   "outputs": [
    {
     "name": "stdout",
     "output_type": "stream",
     "text": [
      "1000/1000 [==============================] - 0s 46us/step\n",
      "Restored model acc10.40%\n"
     ]
    }
   ],
   "source": [
    "# 加载权重\n",
    "model.load_weights(cp_path)\n",
    "\n",
    "#评估模型\n",
    "loss,acc=model.evaluate(test_images,test_labels)\n",
    "print('Restored model acc{:.2%}'.format(acc))"
   ]
  },
  {
   "cell_type": "markdown",
   "metadata": {},
   "source": [
    "#### 新模型-->加载权重-->进行评估"
   ]
  },
  {
   "cell_type": "code",
   "execution_count": 7,
   "metadata": {},
   "outputs": [],
   "source": [
    "def create_model_and_evaluate(cp_path): \n",
    "    '''\n",
    "    创建一个新模型，并对新模型进行评估\n",
    "    '''\n",
    "    # 创建一个新模型\n",
    "    model_new=create_model()\n",
    "    # 从检查点加载权重\n",
    "    model_new.load_weights(cp_path)\n",
    "    # 评估该模型\n",
    "    loss,acc=model_new.evaluate(test_images,test_labels)\n",
    "    print('restored model accuracy: {:.3%}'.format(acc))"
   ]
  },
  {
   "cell_type": "markdown",
   "metadata": {},
   "source": [
    "### 检查点回调选项"
   ]
  },
  {
   "cell_type": "code",
   "execution_count": 8,
   "metadata": {
    "collapsed": true
   },
   "outputs": [
    {
     "name": "stdout",
     "output_type": "stream",
     "text": [
      "\n",
      "Epoch 00005: saving model to traing_2/cp-0005.ckpt\n",
      "\n",
      "Epoch 00010: saving model to traing_2/cp-0010.ckpt\n",
      "\n",
      "Epoch 00015: saving model to traing_2/cp-0015.ckpt\n",
      "\n",
      "Epoch 00020: saving model to traing_2/cp-0020.ckpt\n",
      "\n",
      "Epoch 00025: saving model to traing_2/cp-0025.ckpt\n",
      "\n",
      "Epoch 00030: saving model to traing_2/cp-0030.ckpt\n",
      "\n",
      "Epoch 00035: saving model to traing_2/cp-0035.ckpt\n",
      "\n",
      "Epoch 00040: saving model to traing_2/cp-0040.ckpt\n",
      "\n",
      "Epoch 00045: saving model to traing_2/cp-0045.ckpt\n",
      "\n",
      "Epoch 00050: saving model to traing_2/cp-0050.ckpt\n"
     ]
    },
    {
     "data": {
      "text/plain": [
       "<tensorflow.python.keras.callbacks.History at 0x1c234fddb38>"
      ]
     },
     "execution_count": 8,
     "metadata": {},
     "output_type": "execute_result"
    }
   ],
   "source": [
    "# 创建点路径\n",
    "cp_path_id='traing_2/cp-{epoch:04d}.ckpt'\n",
    "cp_dir_id=os.path.dirname(cp_path_id)\n",
    "\n",
    "# 创建检点回调\n",
    "cp_callback_id=tf.keras.callbacks.ModelCheckpoint(\n",
    "                                                    cp_path_id,# 检查点路径\n",
    "                                                    verbose=1,#\n",
    "                                                    save_weights_only=True,# 只保存权重\n",
    "                                                    period=5 # 每隔5个周期保存一次检查点，并设置唯一名称\n",
    "                                                )\n",
    "# 创建新模型\n",
    "model_id=create_model()\n",
    "# 拟合模型\n",
    "model_id.fit(\n",
    "            train_images,# 训练数据\n",
    "            train_labels,epochs=50,# 训练标签\n",
    "            callbacks=[cp_callback_id],# 回调\n",
    "            validation_data=(test_images,test_labels), # 验证数据（测试数据，测试标签）\n",
    "            verbose=0\n",
    "            )\n"
   ]
  },
  {
   "cell_type": "markdown",
   "metadata": {},
   "source": [
    "#### 查看最新的检查点"
   ]
  },
  {
   "cell_type": "code",
   "execution_count": 9,
   "metadata": {
    "scrolled": false
   },
   "outputs": [
    {
     "data": {
      "text/plain": [
       "'traing_2\\\\cp-0050.ckpt'"
      ]
     },
     "execution_count": 9,
     "metadata": {},
     "output_type": "execute_result"
    }
   ],
   "source": [
    "# 选择最新的检查点\n",
    "last = tf.train.latest_checkpoint(cp_dir_id)\n",
    "last"
   ]
  },
  {
   "cell_type": "markdown",
   "metadata": {},
   "source": [
    "#### 手动保存检查点"
   ]
  },
  {
   "cell_type": "code",
   "execution_count": 10,
   "metadata": {},
   "outputs": [
    {
     "name": "stdout",
     "output_type": "stream",
     "text": [
      "1000/1000 [==============================] - 0s 154us/step\n",
      "restored model accuracy: 87.500%\n"
     ]
    }
   ],
   "source": [
    "# 路径\n",
    "cp_path_hand='./hand_save_cp/my_cp'\n",
    "\n",
    "# 手动进行保存检查点\n",
    "model_id.save_weights(cp_path_hand)\n",
    "\n",
    "# 创建一个新模型，并对新模型进行评估\n",
    "create_model_and_evaluate(cp_path_hand)"
   ]
  },
  {
   "cell_type": "markdown",
   "metadata": {},
   "source": [
    "### 保存整个模型(HDF5标准格式)\n",
    "保存的内容：\n",
    "- 权重值\n",
    "- 模型配置(架构)\n",
    "- 优化器配置"
   ]
  },
  {
   "cell_type": "markdown",
   "metadata": {},
   "source": [
    "#### 保存完整模型"
   ]
  },
  {
   "cell_type": "code",
   "execution_count": 11,
   "metadata": {
    "scrolled": true
   },
   "outputs": [
    {
     "name": "stdout",
     "output_type": "stream",
     "text": [
      "Epoch 1/5\n",
      "1000/1000 [==============================] - 1s 534us/step - loss: 1.1844 - acc: 0.6480\n",
      "Epoch 2/5\n",
      "1000/1000 [==============================] - 0s 141us/step - loss: 0.4000 - acc: 0.8950\n",
      "Epoch 3/5\n",
      "1000/1000 [==============================] - 0s 139us/step - loss: 0.2742 - acc: 0.9370\n",
      "Epoch 4/5\n",
      "1000/1000 [==============================] - 0s 141us/step - loss: 0.2090 - acc: 0.9440\n",
      "Epoch 5/5\n",
      "1000/1000 [==============================] - 0s 233us/step - loss: 0.1477 - acc: 0.9760\n"
     ]
    }
   ],
   "source": [
    "model =create_model()\n",
    "model.fit(train_images,train_labels,epochs=5)\n",
    "\n",
    "model.save('my_model.h5')"
   ]
  },
  {
   "cell_type": "markdown",
   "metadata": {},
   "source": [
    "#### 加载完成模型"
   ]
  },
  {
   "cell_type": "code",
   "execution_count": null,
   "metadata": {},
   "outputs": [],
   "source": [
    "new_model=keras.models.load_model('my_model.h5')\n",
    "new_model.summary()"
   ]
  },
  {
   "cell_type": "markdown",
   "metadata": {},
   "source": [
    "检查准确率"
   ]
  },
  {
   "cell_type": "code",
   "execution_count": null,
   "metadata": {},
   "outputs": [],
   "source": [
    "loss, acc = new_model.evaluate(test_images, test_labels)\n",
    "print(\"Restored model, accuracy: {:5.2f}%\".format(100*acc))"
   ]
  }
 ],
 "metadata": {
  "kernelspec": {
   "display_name": "Python 3",
   "language": "python",
   "name": "python3"
  },
  "language_info": {
   "codemirror_mode": {
    "name": "ipython",
    "version": 3
   },
   "file_extension": ".py",
   "mimetype": "text/x-python",
   "name": "python",
   "nbconvert_exporter": "python",
   "pygments_lexer": "ipython3",
   "version": "3.6.3"
  }
 },
 "nbformat": 4,
 "nbformat_minor": 2
}
