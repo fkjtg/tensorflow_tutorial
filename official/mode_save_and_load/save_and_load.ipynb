{
 "cells": [
  {
   "cell_type": "code",
   "execution_count": 1,
   "metadata": {},
   "outputs": [],
   "source": [
    "import os\n",
    "import tensorflow as tf\n",
    "from tensorflow import keras\n"
   ]
  },
  {
   "cell_type": "code",
   "execution_count": 2,
   "metadata": {},
   "outputs": [],
   "source": [
    "(train_images, train_labels), (test_images, test_labels) = tf.keras.datasets.mnist.load_data()\n",
    "\n",
    "train_labels = train_labels[:1000]\n",
    "test_labels = test_labels[:1000]\n",
    "\n",
    "train_images = train_images[:1000].reshape(-1, 28 * 28) / 255.0\n",
    "test_images = test_images[:1000].reshape(-1, 28 * 28) / 255.0"
   ]
  },
  {
   "cell_type": "code",
   "execution_count": 3,
   "metadata": {
    "collapsed": true
   },
   "outputs": [
    {
     "name": "stdout",
     "output_type": "stream",
     "text": [
      "_________________________________________________________________\n",
      "Layer (type)                 Output Shape              Param #   \n",
      "=================================================================\n",
      "dense (Dense)                (None, 512)               401920    \n",
      "_________________________________________________________________\n",
      "dropout (Dropout)            (None, 512)               0         \n",
      "_________________________________________________________________\n",
      "dense_1 (Dense)              (None, 10)                5130      \n",
      "=================================================================\n",
      "Total params: 407,050\n",
      "Trainable params: 407,050\n",
      "Non-trainable params: 0\n",
      "_________________________________________________________________\n"
     ]
    }
   ],
   "source": [
    "# Returns a short sequential model\n",
    "def create_model():\n",
    "  model = tf.keras.models.Sequential([\n",
    "    keras.layers.Dense(512, activation=tf.nn.relu, input_shape=(784,)),\n",
    "    keras.layers.Dropout(0.2),\n",
    "    keras.layers.Dense(10, activation=tf.nn.softmax)\n",
    "  ])\n",
    "\n",
    "  model.compile(optimizer=tf.keras.optimizers.Adam(),\n",
    "                loss=tf.keras.losses.sparse_categorical_crossentropy,\n",
    "                metrics=['accuracy'])\n",
    "\n",
    "  return model\n",
    "\n",
    "# Create a basic model instance\n",
    "model = create_model()\n",
    "# \n",
    "model.summary()"
   ]
  },
  {
   "cell_type": "markdown",
   "metadata": {},
   "source": [
    "#### 回调，自动保存检查点"
   ]
  },
  {
   "cell_type": "code",
   "execution_count": 4,
   "metadata": {
    "collapsed": true
   },
   "outputs": [
    {
     "name": "stdout",
     "output_type": "stream",
     "text": [
      "Train on 1000 samples, validate on 1000 samples\n",
      "Epoch 1/10\n",
      "1000/1000 [==============================] - 26s 26ms/step - loss: 1.1560 - acc: 0.6660 - val_loss: 0.7125 - val_acc: 0.7810\n",
      "\n",
      "Epoch 00001: saving model to training_1/cp.ckpt\n",
      "Epoch 2/10\n",
      "1000/1000 [==============================] - 0s 325us/step - loss: 0.4572 - acc: 0.8750 - val_loss: 0.5420 - val_acc: 0.8370\n",
      "\n",
      "Epoch 00002: saving model to training_1/cp.ckpt\n",
      "Epoch 3/10\n",
      "1000/1000 [==============================] - 0s 315us/step - loss: 0.2882 - acc: 0.9260 - val_loss: 0.5319 - val_acc: 0.8380\n",
      "\n",
      "Epoch 00003: saving model to training_1/cp.ckpt\n",
      "Epoch 4/10\n",
      "1000/1000 [==============================] - 0s 289us/step - loss: 0.2248 - acc: 0.9430 - val_loss: 0.4618 - val_acc: 0.8510\n",
      "\n",
      "Epoch 00004: saving model to training_1/cp.ckpt\n",
      "Epoch 5/10\n",
      "1000/1000 [==============================] - 0s 306us/step - loss: 0.1623 - acc: 0.9640 - val_loss: 0.4329 - val_acc: 0.8600\n",
      "\n",
      "Epoch 00005: saving model to training_1/cp.ckpt\n",
      "Epoch 6/10\n",
      "1000/1000 [==============================] - 0s 365us/step - loss: 0.1254 - acc: 0.9760 - val_loss: 0.4626 - val_acc: 0.8500\n",
      "\n",
      "Epoch 00006: saving model to training_1/cp.ckpt\n",
      "Epoch 7/10\n",
      "1000/1000 [==============================] - 0s 359us/step - loss: 0.0952 - acc: 0.9870 - val_loss: 0.4106 - val_acc: 0.8760\n",
      "\n",
      "Epoch 00007: saving model to training_1/cp.ckpt\n",
      "Epoch 8/10\n",
      "1000/1000 [==============================] - 0s 298us/step - loss: 0.0695 - acc: 0.9910 - val_loss: 0.4087 - val_acc: 0.8680\n",
      "\n",
      "Epoch 00008: saving model to training_1/cp.ckpt\n",
      "Epoch 9/10\n",
      "1000/1000 [==============================] - 0s 326us/step - loss: 0.0548 - acc: 0.9960 - val_loss: 0.4165 - val_acc: 0.8730\n",
      "\n",
      "Epoch 00009: saving model to training_1/cp.ckpt\n",
      "Epoch 10/10\n",
      "1000/1000 [==============================] - 0s 281us/step - loss: 0.0453 - acc: 0.9990 - val_loss: 0.4268 - val_acc: 0.8720\n",
      "\n",
      "Epoch 00010: saving model to training_1/cp.ckpt\n"
     ]
    },
    {
     "data": {
      "text/plain": [
       "<tensorflow.python.keras.callbacks.History at 0x2127e383160>"
      ]
     },
     "execution_count": 4,
     "metadata": {},
     "output_type": "execute_result"
    }
   ],
   "source": [
    "# 创建点路径\n",
    "cp_path='training_1/cp.ckpt'\n",
    "cp_dir=os.path.dirname(cp_path)\n",
    "# 创建检点回调\n",
    "cp_callback=tf.keras.callbacks.ModelCheckpoint(cp_path,save_weights_only=True,verbose=1)\n",
    "# 训练模型\n",
    "model.fit(train_images,train_labels,epochs=10,validation_data=(test_images,test_labels),callbacks=[cp_callback])\n",
    "# 默认的 TensorFlow 格式仅保存最近的 5 个检查点"
   ]
  },
  {
   "cell_type": "markdown",
   "metadata": {},
   "source": [
    "#### 创建新模型并进行评估"
   ]
  },
  {
   "cell_type": "code",
   "execution_count": 5,
   "metadata": {
    "collapsed": true
   },
   "outputs": [
    {
     "name": "stdout",
     "output_type": "stream",
     "text": [
      "1000/1000 [==============================] - 0s 322us/step\n",
      "untrained model acc7.40%\n"
     ]
    }
   ],
   "source": [
    "# 创建一个新模型\n",
    "model_new=create_model()\n",
    "# 评估该新模型\n",
    "loss,acc=model_new.evaluate(test_images,test_labels)\n",
    "print('untrained model acc{:.2%}'.format(acc))"
   ]
  },
  {
   "cell_type": "markdown",
   "metadata": {},
   "source": [
    "#### 新模型-->加载权重-->进行评估"
   ]
  },
  {
   "cell_type": "code",
   "execution_count": 10,
   "metadata": {},
   "outputs": [],
   "source": [
    "def create_model_and_evaluate(cp_path): \n",
    "    '''\n",
    "    创建一个新模型，并对新模型进行评估\n",
    "    '''\n",
    "    # 创建一个新模型\n",
    "    model_new=create_model()\n",
    "    # 从检查点加载权重\n",
    "    model_new.load_weights(cp_path)\n",
    "    # 评估该模型\n",
    "    loss,acc=model_new.evaluate(test_images,test_labels)\n",
    "    print('restored model accuracy: {:.3%}'.format(acc))"
   ]
  },
  {
   "cell_type": "code",
   "execution_count": 7,
   "metadata": {
    "collapsed": true
   },
   "outputs": [
    {
     "name": "stdout",
     "output_type": "stream",
     "text": [
      "\n",
      "Epoch 00005: saving model to traing_2/cp-0005.ckpt\n",
      "\n",
      "Epoch 00010: saving model to traing_2/cp-0010.ckpt\n",
      "\n",
      "Epoch 00015: saving model to traing_2/cp-0015.ckpt\n",
      "\n",
      "Epoch 00020: saving model to traing_2/cp-0020.ckpt\n",
      "\n",
      "Epoch 00025: saving model to traing_2/cp-0025.ckpt\n",
      "\n",
      "Epoch 00030: saving model to traing_2/cp-0030.ckpt\n",
      "\n",
      "Epoch 00035: saving model to traing_2/cp-0035.ckpt\n",
      "\n",
      "Epoch 00040: saving model to traing_2/cp-0040.ckpt\n",
      "\n",
      "Epoch 00045: saving model to traing_2/cp-0045.ckpt\n",
      "\n",
      "Epoch 00050: saving model to traing_2/cp-0050.ckpt\n"
     ]
    },
    {
     "data": {
      "text/plain": [
       "<tensorflow.python.keras.callbacks.History at 0x2120776e588>"
      ]
     },
     "execution_count": 7,
     "metadata": {},
     "output_type": "execute_result"
    }
   ],
   "source": [
    "# 自动保存检查点\n",
    "\n",
    "# 创建点路径\n",
    "cp_path_id='traing_2/cp-{epoch:04d}.ckpt'\n",
    "cp_dir_id=os.path.dirname(cp_path_id)\n",
    "# 创建检点回调\n",
    "cp_callback_id=tf.keras.callbacks.ModelCheckpoint(cp_path_id,verbose=1,save_weights_only=True,period=5)\n",
    "\n",
    "model_id=create_model()\n",
    "model_id.fit(train_images,train_labels,epochs=50,callbacks=[cp_callback_id],validation_data=(test_images,test_labels),verbose=0)\n",
    "# 默认的 TensorFlow 格式仅保存最近的 5 个检查点"
   ]
  },
  {
   "cell_type": "markdown",
   "metadata": {},
   "source": [
    "#### 查看最新的检查点"
   ]
  },
  {
   "cell_type": "code",
   "execution_count": 8,
   "metadata": {
    "scrolled": false
   },
   "outputs": [
    {
     "data": {
      "text/plain": [
       "'traing_2\\\\cp-0050.ckpt'"
      ]
     },
     "execution_count": 8,
     "metadata": {},
     "output_type": "execute_result"
    }
   ],
   "source": [
    "# 选择最新的检查点\n",
    "last = tf.train.latest_checkpoint(cp_dir_id)\n",
    "last"
   ]
  },
  {
   "cell_type": "markdown",
   "metadata": {},
   "source": [
    "#### 手动保存检查点"
   ]
  },
  {
   "cell_type": "code",
   "execution_count": 13,
   "metadata": {},
   "outputs": [
    {
     "name": "stdout",
     "output_type": "stream",
     "text": [
      "1000/1000 [==============================] - 0s 183us/step\n",
      "restored model accuracy: 87.300%\n"
     ]
    }
   ],
   "source": [
    "# 路径\n",
    "cp_path_hand='./hand_save_cp/my_cp'\n",
    "# 手动进行保存检查点\n",
    "model_id.save_weights(cp_path_hand)\n",
    "# 创建一个新模型，并对新模型进行评估\n",
    "create_model_and_evaluate(cp_path_hand)"
   ]
  },
  {
   "cell_type": "markdown",
   "metadata": {},
   "source": [
    "### 保存整个模型(HDF5标准格式)\n",
    "保存的内容：\n",
    "- 权重值\n",
    "- 模型配置(架构)\n",
    "- 优化器配置"
   ]
  },
  {
   "cell_type": "code",
   "execution_count": 12,
   "metadata": {
    "collapsed": true
   },
   "outputs": [
    {
     "name": "stdout",
     "output_type": "stream",
     "text": [
      "Epoch 1/5\n",
      "1000/1000 [==============================] - 2s 2ms/step - loss: 1.1904 - acc: 0.6530\n",
      "Epoch 2/5\n",
      "1000/1000 [==============================] - 0s 209us/step - loss: 0.4240 - acc: 0.8790\n",
      "Epoch 3/5\n",
      "1000/1000 [==============================] - 0s 277us/step - loss: 0.2994 - acc: 0.9320\n",
      "Epoch 4/5\n",
      "1000/1000 [==============================] - 0s 220us/step - loss: 0.2155 - acc: 0.9490\n",
      "Epoch 5/5\n",
      "1000/1000 [==============================] - 0s 218us/step - loss: 0.1554 - acc: 0.9630\n"
     ]
    }
   ],
   "source": [
    "model =create_model()\n",
    "model.fit(train_images,train_labels,epochs=5)\n",
    "\n",
    "model.save('my_model.h5')"
   ]
  },
  {
   "cell_type": "code",
   "execution_count": null,
   "metadata": {},
   "outputs": [],
   "source": []
  }
 ],
 "metadata": {
  "kernelspec": {
   "display_name": "Python 3",
   "language": "python",
   "name": "python3"
  },
  "language_info": {
   "codemirror_mode": {
    "name": "ipython",
    "version": 3
   },
   "file_extension": ".py",
   "mimetype": "text/x-python",
   "name": "python",
   "nbconvert_exporter": "python",
   "pygments_lexer": "ipython3",
   "version": "3.6.3"
  }
 },
 "nbformat": 4,
 "nbformat_minor": 2
}
