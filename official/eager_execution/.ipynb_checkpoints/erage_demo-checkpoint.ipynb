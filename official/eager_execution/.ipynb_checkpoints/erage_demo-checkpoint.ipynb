{
 "cells": [
  {
   "cell_type": "code",
   "execution_count": 4,
   "metadata": {},
   "outputs": [],
   "source": [
    "# 原文连接：https://tensorflow.google.cn/tutorials/eager/custom_training_walkthrough?hl=zh-cn"
   ]
  },
  {
   "cell_type": "code",
   "execution_count": 5,
   "metadata": {},
   "outputs": [],
   "source": [
    "# 代码自动完成\n",
    "%config IPCompleter.greedy=True"
   ]
  },
  {
   "cell_type": "code",
   "execution_count": 6,
   "metadata": {},
   "outputs": [
    {
     "data": {
      "text/plain": [
       "'1.10.0'"
      ]
     },
     "execution_count": 6,
     "metadata": {},
     "output_type": "execute_result"
    }
   ],
   "source": [
    "import os\n",
    "import matplotlib.pyplot as plt\n",
    "import tensorflow as tf\n",
    "import tensorflow.contrib.eager as tfe\n",
    "\n",
    "tf.VERSION"
   ]
  },
  {
   "cell_type": "markdown",
   "metadata": {},
   "source": [
    "#### 启用Eager Execution环境"
   ]
  },
  {
   "cell_type": "code",
   "execution_count": 7,
   "metadata": {},
   "outputs": [],
   "source": [
    "# tf.enable_eager_execution()\n",
    "tf.contrib.eager.enable_eager_execution()"
   ]
  },
  {
   "cell_type": "markdown",
   "metadata": {},
   "source": [
    "下载数据集"
   ]
  },
  {
   "cell_type": "code",
   "execution_count": 8,
   "metadata": {},
   "outputs": [
    {
     "name": "stdout",
     "output_type": "stream",
     "text": [
      "local copy of the dataset file:{} C:\\Users\\Administrator\\.keras\\datasets\\iris_training.csv\n"
     ]
    }
   ],
   "source": [
    "train_dataset_rul='http://download.tensorflow.org/data/iris_training.csv'\n",
    "fname=os.path.basename(train_dataset_rul)\n",
    "origin=train_dataset_rul\n",
    "train_dataset_fp=tf.keras.utils.get_file(fname=fname,origin=origin)\n",
    "print('local copy of the dataset file:{}',format(train_dataset_fp))"
   ]
  },
  {
   "cell_type": "code",
   "execution_count": 9,
   "metadata": {
    "scrolled": true
   },
   "outputs": [
    {
     "name": "stdout",
     "output_type": "stream",
     "text": [
      "120,4,setosa,versicolor,virginica\n",
      "6.4,2.8,5.6,2.2,2\n",
      "5.0,2.3,3.3,1.0,1\n",
      "4.9,2.5,4.5,1.7,2\n",
      "4.9,3.1,1.5,0.1,0\n"
     ]
    }
   ],
   "source": [
    "!head -n5 {train_dataset_fp}"
   ]
  },
  {
   "cell_type": "code",
   "execution_count": 10,
   "metadata": {},
   "outputs": [
    {
     "name": "stdout",
     "output_type": "stream",
     "text": [
      "Features: ['sepal_length', 'sepal_width', 'petal_length', 'petal_width']\n",
      "Label: species\n"
     ]
    }
   ],
   "source": [
    "# column order in CSV file\n",
    "column_names = ['sepal_length', 'sepal_width', 'petal_length', 'petal_width', 'species']\n",
    "\n",
    "feature_names = column_names[:-1]\n",
    "label_name = column_names[-1]\n",
    "\n",
    "print(\"Features: {}\".format(feature_names))\n",
    "print(\"Label: {}\".format(label_name))"
   ]
  },
  {
   "cell_type": "code",
   "execution_count": 11,
   "metadata": {},
   "outputs": [],
   "source": [
    "class_names = ['Iris setosa', 'Iris versicolor', 'Iris virginica']"
   ]
  },
  {
   "cell_type": "markdown",
   "metadata": {},
   "source": [
    "#### 创建一个Dataset\n",
    "\n",
    "由于数据集是 CSV 格式的文本文件，请使用 `make_csv_dataset` 函数将数据解析为合适的格式\n",
    "\n",
    "默认行为是对数据进行随机处理`shuffle=true`"
   ]
  },
  {
   "cell_type": "code",
   "execution_count": 12,
   "metadata": {},
   "outputs": [],
   "source": [
    "batch_size = 32\n",
    "\n",
    "train_dataset = tf.contrib.data.make_csv_dataset(\n",
    "    train_dataset_fp,\n",
    "    batch_size,\n",
    "    column_names=column_names,\n",
    "    label_name=label_name,\n",
    "    num_epochs=1)"
   ]
  },
  {
   "cell_type": "markdown",
   "metadata": {},
   "source": [
    "`make_csv_dataset` 函数返回 (features, label) 对的 `tf.data.Dataset`，\n",
    "\n",
    "其中 features 是一个字典：{'feature_name': value}"
   ]
  },
  {
   "cell_type": "code",
   "execution_count": 13,
   "metadata": {},
   "outputs": [
    {
     "data": {
      "text/plain": [
       "OrderedDict([('sepal_length',\n",
       "              <tf.Tensor: id=60, shape=(32,), dtype=float32, numpy=\n",
       "              array([5.5, 5.2, 7.6, 6.6, 5. , 5.2, 5.4, 6.5, 6. , 4.6, 5.7, 5.4, 6.4,\n",
       "                     6.9, 7.3, 6.4, 6.4, 5.8, 5. , 5.1, 5.8, 6. , 5.1, 4.4, 5.6, 5.5,\n",
       "                     5. , 6.1, 4.8, 5.3, 7.2, 7.4], dtype=float32)>),\n",
       "             ('sepal_width',\n",
       "              <tf.Tensor: id=61, shape=(32,), dtype=float32, numpy=\n",
       "              array([2.6, 2.7, 3. , 2.9, 3.4, 3.4, 3.7, 3. , 3. , 3.1, 2.8, 3.4, 2.8,\n",
       "                     3.1, 2.9, 3.2, 2.8, 2.7, 3.3, 3.8, 2.7, 2.9, 3.8, 2.9, 2.5, 2.4,\n",
       "                     3. , 2.6, 3.4, 3.7, 3. , 2.8], dtype=float32)>),\n",
       "             ('petal_length',\n",
       "              <tf.Tensor: id=58, shape=(32,), dtype=float32, numpy=\n",
       "              array([4.4, 3.9, 6.6, 4.6, 1.5, 1.4, 1.5, 5.8, 4.8, 1.5, 4.1, 1.5, 5.6,\n",
       "                     4.9, 6.3, 4.5, 5.6, 5.1, 1.4, 1.6, 4.1, 4.5, 1.9, 1.4, 3.9, 3.7,\n",
       "                     1.6, 5.6, 1.6, 1.5, 5.8, 6.1], dtype=float32)>),\n",
       "             ('petal_width',\n",
       "              <tf.Tensor: id=59, shape=(32,), dtype=float32, numpy=\n",
       "              array([1.2, 1.4, 2.1, 1.3, 0.2, 0.2, 0.2, 2.2, 1.8, 0.2, 1.3, 0.4, 2.2,\n",
       "                     1.5, 1.8, 1.5, 2.1, 1.9, 0.2, 0.2, 1. , 1.5, 0.4, 0.2, 1.1, 1. ,\n",
       "                     0.2, 1.4, 0.2, 0.2, 1.6, 1.9], dtype=float32)>)])"
      ]
     },
     "execution_count": 13,
     "metadata": {},
     "output_type": "execute_result"
    }
   ],
   "source": [
    "features, labels = next(iter(train_dataset))\n",
    "\n",
    "# features"
   ]
  },
  {
   "cell_type": "code",
   "execution_count": 14,
   "metadata": {},
   "outputs": [],
   "source": [
    "plt.scatter(features['petal_length'],\n",
    "            features['sepal_length'],\n",
    "            c=labels.numpy(),\n",
    "            cmap='viridis')\n",
    "\n",
    "plt.xlabel(\"Petal length\")\n",
    "plt.ylabel(\"Sepal length\");"
   ]
  },
  {
   "cell_type": "code",
   "execution_count": 15,
   "metadata": {},
   "outputs": [],
   "source": [
    "def pack_features_vector(features, labels):\n",
    "    \"\"\"Pack the features into a single array.\"\"\"\n",
    "    l=list(features.values())\n",
    "#     print(l)\n",
    "#   将多个数据，进行组合。axis=1,按列进行组合。\n",
    "    features = tf.stack(l, axis=1)\n",
    "#     print(features)\n",
    "#     print(tf.transpose(features))\n",
    "    return features, labels"
   ]
  },
  {
   "cell_type": "markdown",
   "metadata": {},
   "source": [
    "打包到训练数据集中"
   ]
  },
  {
   "cell_type": "code",
   "execution_count": 16,
   "metadata": {},
   "outputs": [],
   "source": [
    "train_dataset=train_dataset.map(pack_features_vector)"
   ]
  },
  {
   "cell_type": "markdown",
   "metadata": {},
   "source": [
    "查看数据样本"
   ]
  },
  {
   "cell_type": "code",
   "execution_count": 17,
   "metadata": {},
   "outputs": [
    {
     "name": "stdout",
     "output_type": "stream",
     "text": [
      "tf.Tensor(\n",
      "[[6.9 3.1 5.1 2.3]\n",
      " [6.9 3.2 5.7 2.3]\n",
      " [4.9 2.4 3.3 1. ]\n",
      " [5.7 3.8 1.7 0.3]\n",
      " [5.1 3.5 1.4 0.3]], shape=(5, 4), dtype=float32)\n"
     ]
    }
   ],
   "source": [
    "features,labels=next(iter(train_dataset))\n",
    "print(features[:5])"
   ]
  },
  {
   "cell_type": "markdown",
   "metadata": {},
   "source": [
    "### 选择模型类型\n",
    "\n",
    "为何要使用模型？\n",
    "- __模型__是指__特征__与__标签__之间的__关系__\n",
    "- 传统编程技巧使用大量条件语句创建模型\n",
    "- 简单的模型可以是几行代数进行描述，复杂的机器学习模型拥有大量难以汇总的参数\n",
    "- 一个好的机器学习方法可以确定好的模型\n",
    "- 只需要将足够多的代表性样本馈送到正确类型的机器学习__模型__中，该程序便会找找出与__标签__相应的关系"
   ]
  },
  {
   "cell_type": "markdown",
   "metadata": {},
   "source": [
    "### 用keras创建模型"
   ]
  },
  {
   "cell_type": "code",
   "execution_count": 18,
   "metadata": {},
   "outputs": [],
   "source": [
    "model = tf.keras.Sequential(\n",
    "    [\n",
    "        tf.keras.layers.Dense(10,activation=tf.nn.relu,input_shape=(4,)),\n",
    "        tf.keras.layers.Dense(10,activation=tf.nn.relu),\n",
    "        tf.keras.layers.Dense(3)\n",
    "    ]\n",
    ")"
   ]
  },
  {
   "cell_type": "markdown",
   "metadata": {},
   "source": [
    "每个样本针对每个类别返回一个__对数__"
   ]
  },
  {
   "cell_type": "code",
   "execution_count": 19,
   "metadata": {},
   "outputs": [
    {
     "data": {
      "text/plain": [
       "<tf.Tensor: id=207, shape=(5, 3), dtype=float32, numpy=\n",
       "array([[ 1.3437426 ,  1.0919176 , -2.094044  ],\n",
       "       [ 1.574147  ,  1.1714594 , -2.1783388 ],\n",
       "       [ 0.6061306 ,  0.62171453, -1.2774892 ],\n",
       "       [-0.473337  ,  0.23527421, -1.0777898 ],\n",
       "       [-0.44985545,  0.18922198, -0.960171  ]], dtype=float32)>"
      ]
     },
     "execution_count": 19,
     "metadata": {},
     "output_type": "execute_result"
    }
   ],
   "source": [
    "prediction=model(features)\n",
    "h5=prediction[:5]\n",
    "h5"
   ]
  },
  {
   "cell_type": "markdown",
   "metadata": {},
   "source": [
    "将这__对数__转换为每个类别的概率"
   ]
  },
  {
   "cell_type": "code",
   "execution_count": 20,
   "metadata": {},
   "outputs": [
    {
     "data": {
      "text/plain": [
       "<tf.Tensor: id=209, shape=(5, 3), dtype=float32, numpy=\n",
       "array([[0.5526338 , 0.4296069 , 0.0177593 ],\n",
       "       [0.59102345, 0.39511153, 0.01386503],\n",
       "       [0.46130893, 0.46855423, 0.07013683],\n",
       "       [0.27952155, 0.56775534, 0.15272312],\n",
       "       [0.2861199 , 0.5421206 , 0.17175953]], dtype=float32)>"
      ]
     },
     "execution_count": 20,
     "metadata": {},
     "output_type": "execute_result"
    }
   ],
   "source": [
    "tf.nn.softmax(h5)"
   ]
  },
  {
   "cell_type": "markdown",
   "metadata": {},
   "source": [
    "对每个类别执行 `tf.argmax` 运算可得出预测的__类别索引__"
   ]
  },
  {
   "cell_type": "code",
   "execution_count": 21,
   "metadata": {},
   "outputs": [
    {
     "name": "stdout",
     "output_type": "stream",
     "text": [
      "Prediction: [0 0 1 1 1 0 0 0 1 0 1 1 1 1 0 1 1 0 0 0 1 1 0 0 0 0 0 0 0 0 0 1]\n",
      "    Labels: [2 2 1 0 0 1 1 2 0 1 0 0 0 0 1 0 0 2 2 1 0 0 2 2 2 1 2 1 2 2 2 0]\n"
     ]
    }
   ],
   "source": [
    "print(\"Prediction: {}\".format(tf.argmax(prediction, axis=1)))\n",
    "print(\"    Labels: {}\".format(labels))"
   ]
  },
  {
   "cell_type": "markdown",
   "metadata": {},
   "source": [
    "### 训练模型\n",
    "在此阶段中，模型会逐渐得到优化，也就是说，模型会了解数据集。\n",
    "\n",
    "目标是充分了解训练数据集的结构，以便对未见过的数据进行预测。\n"
   ]
  },
  {
   "cell_type": "markdown",
   "metadata": {},
   "source": [
    "### 定义损失和梯度函数\n",
    "在训练和评估阶段，我们需要计算__模型的损失__。\n",
    "\n",
    "这样可以__衡量__模型的__预测结果__与__预期标签__有多大__偏差__，也就是说，模型的效果有多差\n",
    "\n",
    "我们希望尽可能__减小或优化__这个__偏差值__。"
   ]
  },
  {
   "cell_type": "code",
   "execution_count": 22,
   "metadata": {
    "scrolled": true
   },
   "outputs": [
    {
     "name": "stdout",
     "output_type": "stream",
     "text": [
      "Loss test: 2.191132068634033\n"
     ]
    }
   ],
   "source": [
    "def loss(model, x, y):\n",
    "  y_ = model(x)\n",
    "  return tf.losses.sparse_softmax_cross_entropy(labels=y, logits=y_)\n",
    "\n",
    "l = loss(model, features, labels)\n",
    "print(\"Loss test: {}\".format(l))"
   ]
  },
  {
   "cell_type": "markdown",
   "metadata": {},
   "source": [
    "使用 `tf.GradientTape` context 计算用于优化模型的梯度"
   ]
  },
  {
   "cell_type": "code",
   "execution_count": 23,
   "metadata": {},
   "outputs": [],
   "source": [
    "def grad(model, inputs, targets):\n",
    "  with tf.GradientTape() as tape:\n",
    "    loss_value = loss(model, inputs, targets)\n",
    "  return loss_value, tape.gradient(loss_value, model.trainable_variables)"
   ]
  },
  {
   "cell_type": "markdown",
   "metadata": {},
   "source": [
    "设置优化器和训练用的计数器"
   ]
  },
  {
   "cell_type": "code",
   "execution_count": 24,
   "metadata": {},
   "outputs": [],
   "source": [
    "optimizer = tf.train.GradientDescentOptimizer(learning_rate=0.01)\n",
    "\n",
    "global_step = tf.train.get_or_create_global_step()"
   ]
  },
  {
   "cell_type": "markdown",
   "metadata": {},
   "source": [
    "单个优化步骤"
   ]
  },
  {
   "cell_type": "code",
   "execution_count": 25,
   "metadata": {
    "scrolled": true
   },
   "outputs": [
    {
     "name": "stdout",
     "output_type": "stream",
     "text": [
      "Step: 0, Initial Loss: 2.191132068634033\n",
      "Step: 1,         Loss: 2.038707733154297\n"
     ]
    }
   ],
   "source": [
    "# 得到损失值和微分结果\n",
    "loss_value, grads = grad(model, features, labels)\n",
    "print(\"Step: {}, Initial Loss: {}\".format(global_step.numpy(),\n",
    "                                          loss_value.numpy()))\n",
    "\n",
    "# 优化器应用上个骤得到的微分结果来更新模型的权重与偏置变量值\n",
    "optimizer.apply_gradients(zip(grads, model.variables), global_step)\n",
    "# 计算损失值\n",
    "loss_value = loss(model, features, labels)\n",
    "print(\"Step: {},         Loss: {}\".format(global_step.numpy(),\n",
    "                                          loss_value.numpy()))"
   ]
  },
  {
   "cell_type": "markdown",
   "metadata": {},
   "source": [
    "## 训练循环"
   ]
  },
  {
   "cell_type": "code",
   "execution_count": 45,
   "metadata": {},
   "outputs": [
    {
     "name": "stdout",
     "output_type": "stream",
     "text": [
      "e:000,loss:0.135,accuracy:98.333%\n",
      "e:050,loss:0.109,accuracy:98.333%\n",
      "e:100,loss:0.096,accuracy:98.333%\n",
      "e:150,loss:0.095,accuracy:98.333%\n"
     ]
    }
   ],
   "source": [
    "train_loss_results=[]\n",
    "train_accuracy_results=[]\n",
    "\n",
    "num_epochs=200\n",
    "\n",
    "for epoch in range(num_epochs):\n",
    "    epoch_loss_avg=tfe.metrics.Mean()\n",
    "    epoch_accuracy=tfe.metrics.Accuracy()\n",
    "    \n",
    "    for x,y in train_dataset:\n",
    "       loss_value,grads=grad(model,x,y)\n",
    "       optimizer.apply_gradients(zip(grads,model.variables))\n",
    "       \n",
    "       epoch_loss_avg(loss_value)\n",
    "       epoch_accuracy(tf.argmax(model(x),axis=1,output_type=tf.int32),y)\n",
    "    \n",
    "    train_loss_results.append(epoch_loss_avg.result())\n",
    "    train_accuracy_results.append(epoch_accuracy.result()) \n",
    "    \n",
    "#     if epoch % 50 == 0:\n",
    "#         print(\"Epoch {:03d}: Loss: {:.3f}, Accuracy: {:.3%}\".format(epoch,\n",
    "#                                                                 epoch_loss_avg.result(),\n",
    "#                                                                 epoch_accuracy.result()))\n",
    "    if epoch %50 == 0:\n",
    "        print(\"e:{:03d},loss:{:.3f},accuracy:{:.3%}\".format(epoch,train_loss_results[-1],train_accuracy_results[-1]))\n",
    "       \n",
    "            "
   ]
  },
  {
   "cell_type": "code",
   "execution_count": 40,
   "metadata": {},
   "outputs": [],
   "source": [
    "fig, axes = plt.subplots(2, sharex=True, figsize=(12, 8))\n",
    "fig.suptitle('Training Metrics')\n",
    "\n",
    "axes[0].set_ylabel(\"Loss\", fontsize=14)\n",
    "axes[0].plot(train_loss_results)\n",
    "\n",
    "axes[1].set_ylabel(\"Accuracy\", fontsize=14)\n",
    "axes[1].set_xlabel(\"Epoch\", fontsize=14)\n",
    "axes[1].plot(train_accuracy_results);"
   ]
  },
  {
   "cell_type": "code",
   "execution_count": 42,
   "metadata": {
    "collapsed": true
   },
   "outputs": [
    {
     "data": {
      "image/png": "[encoded data removed]",
      "text/plain": [
       "<matplotlib.figure.Figure at 0x25b95fa63c8>"
      ]
     },
     "metadata": {},
     "output_type": "display_data"
    },
    {
     "data": {
      "image/png": "[encoded data removed]",
      "text/plain": [
       "<matplotlib.figure.Figure at 0x25b9b66d470>"
      ]
     },
     "metadata": {},
     "output_type": "display_data"
    }
   ],
   "source": [
    "plt.show()"
   ]
  },
  {
   "cell_type": "markdown",
   "metadata": {},
   "source": [
    "## 评估模型的效果"
   ]
  },
  {
   "cell_type": "markdown",
   "metadata": {},
   "source": [
    "#### 设置测试数据集"
   ]
  },
  {
   "cell_type": "code",
   "execution_count": null,
   "metadata": {},
   "outputs": [],
   "source": [
    "test_url = \"http://download.tensorflow.org/data/iris_test.csv\"\n",
    "\n",
    "test_fp = tf.keras.utils.get_file(fname=os.path.basename(test_url),\n",
    "                                  origin=test_url)"
   ]
  },
  {
   "cell_type": "code",
   "execution_count": null,
   "metadata": {},
   "outputs": [],
   "source": [
    "test_dataset = tf.contrib.data.make_csv_dataset(\n",
    "    train_dataset_fp,\n",
    "    batch_size,\n",
    "    column_names=column_names,\n",
    "    label_name='species',\n",
    "    num_epochs=1,\n",
    "    shuffle=False)\n",
    "\n",
    "test_dataset = test_dataset.map(pack_features_vector)"
   ]
  },
  {
   "cell_type": "markdown",
   "metadata": {},
   "source": [
    "#### 评估模型"
   ]
  },
  {
   "cell_type": "code",
   "execution_count": null,
   "metadata": {},
   "outputs": [],
   "source": [
    "test_accuracy = tfe.metrics.Accuracy()\n",
    "\n",
    "for (x, y) in test_dataset:\n",
    "  logits = model(x)\n",
    "  prediction = tf.argmax(logits, axis=1, output_type=tf.int32)\n",
    "  test_accuracy(prediction, y)\n",
    "\n",
    "print(\"Test set accuracy: {:.3%}\".format(test_accuracy.result()))"
   ]
  },
  {
   "cell_type": "markdown",
   "metadata": {},
   "source": [
    "## 使用经过训练的模型进行预测"
   ]
  },
  {
   "cell_type": "code",
   "execution_count": null,
   "metadata": {},
   "outputs": [],
   "source": [
    "predict_dataset = tf.convert_to_tensor([\n",
    "    [5.1, 3.3, 1.7, 0.5,],\n",
    "    [5.9, 3.0, 4.2, 1.5,],\n",
    "    [6.9, 3.1, 5.4, 2.1]\n",
    "])\n",
    "\n",
    "predictions = model(predict_dataset)\n",
    "\n",
    "for i, logits in enumerate(predictions):\n",
    "  class_idx = tf.argmax(logits).numpy()\n",
    "  p = tf.nn.softmax(logits)[class_idx]\n",
    "  name = class_names[class_idx]\n",
    "  print(\"Example {} prediction: {} ({:4.1f}%)\".format(i, name, 100*p))"
   ]
  }
 ],
 "metadata": {
  "kernelspec": {
   "display_name": "Python 3",
   "language": "python",
   "name": "python3"
  },
  "language_info": {
   "codemirror_mode": {
    "name": "ipython",
    "version": 3
   },
   "file_extension": ".py",
   "mimetype": "text/x-python",
   "name": "python",
   "nbconvert_exporter": "python",
   "pygments_lexer": "ipython3",
   "version": "3.6.3"
  }
 },
 "nbformat": 4,
 "nbformat_minor": 2
}
