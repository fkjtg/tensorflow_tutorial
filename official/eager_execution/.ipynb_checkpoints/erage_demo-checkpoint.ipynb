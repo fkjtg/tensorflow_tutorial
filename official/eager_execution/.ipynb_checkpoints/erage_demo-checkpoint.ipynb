{
 "cells": [
  {
   "cell_type": "code",
   "execution_count": 41,
   "metadata": {},
   "outputs": [],
   "source": [
    "# 原文连接：https://tensorflow.google.cn/tutorials/eager/custom_training_walkthrough?hl=zh-cn"
   ]
  },
  {
   "cell_type": "code",
   "execution_count": 42,
   "metadata": {},
   "outputs": [],
   "source": [
    "# 代码自动完成\n",
    "%config IPCompleter.greedy=True"
   ]
  },
  {
   "cell_type": "code",
   "execution_count": 14,
   "metadata": {},
   "outputs": [
    {
     "data": {
      "text/plain": [
       "'1.10.0'"
      ]
     },
     "execution_count": 14,
     "metadata": {},
     "output_type": "execute_result"
    }
   ],
   "source": [
    "import os\n",
    "import matplotlib.pyplot as plt\n",
    "import tensorflow as tf\n",
    "\n",
    "tf.VERSION"
   ]
  },
  {
   "cell_type": "markdown",
   "metadata": {},
   "source": [
    "#### 启用Eager Execution环境"
   ]
  },
  {
   "cell_type": "code",
   "execution_count": 3,
   "metadata": {},
   "outputs": [],
   "source": [
    "# tf.enable_eager_execution()\n",
    "tf.contrib.eager.enable_eager_execution()"
   ]
  },
  {
   "cell_type": "markdown",
   "metadata": {},
   "source": [
    "下载数据集"
   ]
  },
  {
   "cell_type": "code",
   "execution_count": 4,
   "metadata": {},
   "outputs": [
    {
     "name": "stdout",
     "output_type": "stream",
     "text": [
      "local copy of the dataset file:{} C:\\Users\\10321\\.keras\\datasets\\iris_training.csv\n"
     ]
    }
   ],
   "source": [
    "train_dataset_rul='http://download.tensorflow.org/data/iris_training.csv'\n",
    "fname=os.path.basename(train_dataset_rul)\n",
    "origin=train_dataset_rul\n",
    "train_dataset_fp=tf.keras.utils.get_file(fname=fname,origin=origin)\n",
    "print('local copy of the dataset file:{}',format(train_dataset_fp))"
   ]
  },
  {
   "cell_type": "code",
   "execution_count": 5,
   "metadata": {
    "scrolled": true
   },
   "outputs": [
    {
     "name": "stdout",
     "output_type": "stream",
     "text": [
      "120,4,setosa,versicolor,virginica\n",
      "6.4,2.8,5.6,2.2,2\n",
      "5.0,2.3,3.3,1.0,1\n",
      "4.9,2.5,4.5,1.7,2\n",
      "4.9,3.1,1.5,0.1,0\n"
     ]
    }
   ],
   "source": [
    "!head -n5 {train_dataset_fp}"
   ]
  },
  {
   "cell_type": "code",
   "execution_count": 6,
   "metadata": {},
   "outputs": [
    {
     "name": "stdout",
     "output_type": "stream",
     "text": [
      "Features: ['sepal_length', 'sepal_width', 'petal_length', 'petal_width']\n",
      "Label: species\n"
     ]
    }
   ],
   "source": [
    "# column order in CSV file\n",
    "column_names = ['sepal_length', 'sepal_width', 'petal_length', 'petal_width', 'species']\n",
    "\n",
    "feature_names = column_names[:-1]\n",
    "label_name = column_names[-1]\n",
    "\n",
    "print(\"Features: {}\".format(feature_names))\n",
    "print(\"Label: {}\".format(label_name))"
   ]
  },
  {
   "cell_type": "code",
   "execution_count": 7,
   "metadata": {},
   "outputs": [],
   "source": [
    "class_names = ['Iris setosa', 'Iris versicolor', 'Iris virginica']"
   ]
  },
  {
   "cell_type": "markdown",
   "metadata": {},
   "source": [
    "#### 创建一个Dataset\n",
    "\n",
    "由于数据集是 CSV 格式的文本文件，请使用 `make_csv_dataset` 函数将数据解析为合适的格式\n",
    "\n",
    "默认行为是对数据进行随机处理`shuffle=true`"
   ]
  },
  {
   "cell_type": "code",
   "execution_count": 8,
   "metadata": {},
   "outputs": [],
   "source": [
    "batch_size = 32\n",
    "\n",
    "train_dataset = tf.contrib.data.make_csv_dataset(\n",
    "    train_dataset_fp,\n",
    "    batch_size,\n",
    "    column_names=column_names,\n",
    "    label_name=label_name,\n",
    "    num_epochs=1)"
   ]
  },
  {
   "cell_type": "markdown",
   "metadata": {},
   "source": [
    "`make_csv_dataset` 函数返回 (features, label) 对的 `tf.data.Dataset`，\n",
    "\n",
    "其中 features 是一个字典：{'feature_name': value}"
   ]
  },
  {
   "cell_type": "code",
   "execution_count": 9,
   "metadata": {},
   "outputs": [
    {
     "data": {
      "text/plain": [
       "OrderedDict([('sepal_length',\n",
       "              <tf.Tensor: id=60, shape=(32,), dtype=float32, numpy=\n",
       "              array([6.1, 6.5, 5.3, 4.4, 5.4, 6.4, 5. , 4.6, 5.9, 5.1, 6.7, 6.8, 5.7,\n",
       "                     6.4, 5.7, 6.4, 5.8, 6.1, 6.7, 7.7, 7.2, 4.9, 4.4, 6.3, 5. , 6.5,\n",
       "                     6.3, 5.1, 5.1, 5.8, 7.4, 6.4], dtype=float32)>),\n",
       "             ('sepal_width',\n",
       "              <tf.Tensor: id=61, shape=(32,), dtype=float32, numpy=\n",
       "              array([3. , 3. , 3.7, 2.9, 3.4, 3.2, 3.6, 3.6, 3. , 3.8, 3. , 2.8, 2.8,\n",
       "                     2.8, 3.8, 3.1, 2.8, 2.8, 3.3, 2.6, 3.2, 2.5, 3.2, 2.5, 3.2, 3. ,\n",
       "                     2.7, 3.8, 3.8, 4. , 2.8, 2.7], dtype=float32)>),\n",
       "             ('petal_length',\n",
       "              <tf.Tensor: id=58, shape=(32,), dtype=float32, numpy=\n",
       "              array([4.9, 5.2, 1.5, 1.4, 1.5, 4.5, 1.4, 1. , 5.1, 1.5, 5. , 4.8, 4.5,\n",
       "                     5.6, 1.7, 5.5, 5.1, 4. , 5.7, 6.9, 6. , 4.5, 1.3, 5. , 1.2, 5.8,\n",
       "                     4.9, 1.6, 1.9, 1.2, 6.1, 5.3], dtype=float32)>),\n",
       "             ('petal_width',\n",
       "              <tf.Tensor: id=59, shape=(32,), dtype=float32, numpy=\n",
       "              array([1.8, 2. , 0.2, 0.2, 0.4, 1.5, 0.2, 0.2, 1.8, 0.3, 1.7, 1.4, 1.3,\n",
       "                     2.2, 0.3, 1.8, 2.4, 1.3, 2.1, 2.3, 1.8, 1.7, 0.2, 1.9, 0.2, 2.2,\n",
       "                     1.8, 0.2, 0.4, 0.2, 1.9, 1.9], dtype=float32)>)])"
      ]
     },
     "execution_count": 9,
     "metadata": {},
     "output_type": "execute_result"
    }
   ],
   "source": [
    "features, labels = next(iter(train_dataset))\n",
    "\n",
    "features"
   ]
  },
  {
   "cell_type": "code",
   "execution_count": 13,
   "metadata": {},
   "outputs": [
    {
     "data": {
      "image/png": "[encoded data removed]",
      "text/plain": [
       "<Figure size 432x288 with 1 Axes>"
      ]
     },
     "metadata": {
      "needs_background": "light"
     },
     "output_type": "display_data"
    }
   ],
   "source": [
    "plt.scatter(features['petal_length'],\n",
    "            features['sepal_length'],\n",
    "            c=labels.numpy(),\n",
    "            cmap='viridis')\n",
    "\n",
    "plt.xlabel(\"Petal length\")\n",
    "plt.ylabel(\"Sepal length\");"
   ]
  },
  {
   "cell_type": "code",
   "execution_count": 36,
   "metadata": {},
   "outputs": [],
   "source": [
    "def pack_features_vector(features, labels):\n",
    "    \"\"\"Pack the features into a single array.\"\"\"\n",
    "    l=list(features.values())\n",
    "#     print(l)\n",
    "#   将多个数据，进行组合。axis=1,按列进行组合。\n",
    "    features = tf.stack(l, axis=1)\n",
    "#     print(features)\n",
    "#     print(tf.transpose(features))\n",
    "    return features, labels"
   ]
  },
  {
   "cell_type": "markdown",
   "metadata": {},
   "source": [
    "打包到训练数据集中"
   ]
  },
  {
   "cell_type": "code",
   "execution_count": 37,
   "metadata": {},
   "outputs": [],
   "source": [
    "train_dataset=train_dataset.map(pack_features_vector)"
   ]
  },
  {
   "cell_type": "markdown",
   "metadata": {},
   "source": [
    "查看数据样本"
   ]
  },
  {
   "cell_type": "code",
   "execution_count": 38,
   "metadata": {},
   "outputs": [
    {
     "name": "stdout",
     "output_type": "stream",
     "text": [
      "tf.Tensor(\n",
      "[[7.2 3.6 6.1 2.5]\n",
      " [6.4 2.7 5.3 1.9]\n",
      " [4.6 3.1 1.5 0.2]\n",
      " [4.9 2.4 3.3 1. ]\n",
      " [6.9 3.1 5.1 2.3]], shape=(5, 4), dtype=float32)\n"
     ]
    }
   ],
   "source": [
    "features,labels=next(iter(train_dataset))\n",
    "print(features[:5])"
   ]
  },
  {
   "cell_type": "markdown",
   "metadata": {},
   "source": [
    "### 选择模型类型\n",
    "\n",
    "为何要使用模型？\n",
    "- __模型__是指__特征__与__标签__之间的__关系__\n",
    "- 传统编程技巧使用大量条件语句创建模型\n",
    "- 简单的模型可以是几行代数进行描述，复杂的机器学习模型拥有大量难以汇总的参数\n",
    "- 一个好的机器学习方法可以确定好的模型\n",
    "- 只需要将足够多的代表性样本馈送到正确类型的机器学习__模型__中，该程序便会找找出与__标签__相应的关系"
   ]
  }
 ],
 "metadata": {
  "kernelspec": {
   "display_name": "Python 3",
   "language": "python",
   "name": "python3"
  },
  "language_info": {
   "codemirror_mode": {
    "name": "ipython",
    "version": 3
   },
   "file_extension": ".py",
   "mimetype": "text/x-python",
   "name": "python",
   "nbconvert_exporter": "python",
   "pygments_lexer": "ipython3",
   "version": "3.6.7"
  }
 },
 "nbformat": 4,
 "nbformat_minor": 2
}
