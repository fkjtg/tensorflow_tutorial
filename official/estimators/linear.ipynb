{
 "cells": [
  {
   "cell_type": "markdown",
   "metadata": {
    "colab_type": "text",
    "id": "hMIkcki4B2dW"
   },
   "source": [
    "原文连接：https://tensorflow.google.cn/tutorials/estimators/linear#converting_data_into_tensors"
   ]
  },
  {
   "cell_type": "markdown",
   "metadata": {
    "colab_type": "text",
    "id": "rbXkvyJtCA8z"
   },
   "source": [
    "# 概述"
   ]
  },
  {
   "cell_type": "markdown",
   "metadata": {
    "colab_type": "text",
    "id": "KcEAFey_B-vu"
   },
   "source": [
    "我们会使用包含个人年龄、受教育程度、婚姻状况和职业（即特征）数据在内的普查数据，尝试预测个人年收入是否超过 5 万美元（即目标标签）。我们会训练一个逻辑回归模型，若给出某个人的信息，该模型会输出一个介于 0 到 1 之间的值，可将该值解读为个人年收入超过 5 万美元的概率。"
   ]
  },
  {
   "cell_type": "markdown",
   "metadata": {
    "colab_type": "text",
    "id": "BSylihGrCJ2f"
   },
   "source": [
    "要点：作为建模者兼开发者，需要考虑如何使用这些数据，以及模型预测可能会带来哪些潜在益处和危害。类似这样的模型可能会加深社会偏见，扩大社会差异。每个特征是否与您要解决的问题相关，或者是否会引入偏见？要了解详情，请参阅机器学习公平性。"
   ]
  },
  {
   "cell_type": "markdown",
   "metadata": {
    "colab_type": "text",
    "id": "RhajQW7_2lZs"
   },
   "source": [
    "# 设置"
   ]
  },
  {
   "cell_type": "markdown",
   "metadata": {
    "colab_type": "text",
    "id": "2YrsiroW3Cds"
   },
   "source": [
    "### 导入TF、特征列等"
   ]
  },
  {
   "cell_type": "code",
   "execution_count": 0,
   "metadata": {
    "colab": {},
    "colab_type": "code",
    "id": "71kLgx7i2bII"
   },
   "outputs": [],
   "source": [
    "import tensorflow as tf\n",
    "import tensorflow.feature_column as fc\n",
    "\n",
    "import os\n",
    "import sys\n",
    "\n",
    "import matplotlib.pyplot as plt\n",
    "from IPython.display import clear_output"
   ]
  },
  {
   "cell_type": "markdown",
   "metadata": {
    "colab_type": "text",
    "id": "myl9t_Ya3YiK"
   },
   "source": [
    "然后启用 Eager Execution，以在此程序运行时检查此程序"
   ]
  },
  {
   "cell_type": "code",
   "execution_count": 0,
   "metadata": {
    "colab": {},
    "colab_type": "code",
    "id": "Y5XGLi_I3b-3"
   },
   "outputs": [],
   "source": [
    "tf.enable_eager_execution()"
   ]
  },
  {
   "cell_type": "markdown",
   "metadata": {
    "colab_type": "text",
    "id": "9rd9d5Kl3qSK"
   },
   "source": [
    "### 下载官方实现"
   ]
  },
  {
   "cell_type": "markdown",
   "metadata": {
    "colab_type": "text",
    "id": "BQ0a6D603982"
   },
   "source": [
    "下载代码、将根目录添加到 Python 路径，然后跳转到 wide_deep 目录"
   ]
  },
  {
   "cell_type": "code",
   "execution_count": 4,
   "metadata": {
    "colab": {
     "base_uri": "https://localhost:8080/",
     "height": 35
    },
    "colab_type": "code",
    "executionInfo": {
     "elapsed": 12662,
     "status": "ok",
     "timestamp": 1564157266049,
     "user": {
      "displayName": "potato black",
      "photoUrl": "https://lh4.googleusercontent.com/-MvViDlnQyME/AAAAAAAAAAI/AAAAAAAAABU/Oj0wIrTkzFU/s64/photo.jpg",
      "userId": "12825119026917731253"
     },
     "user_tz": -480
    },
    "id": "RwN7k4-i3vMY",
    "outputId": "30fa0e2b-8c49-4c10-9717-0a0c49a522cc"
   },
   "outputs": [
    {
     "name": "stdout",
     "output_type": "stream",
     "text": [
      "fatal: destination path 'models' already exists and is not an empty directory.\n"
     ]
    }
   ],
   "source": [
    "! pip install -q requests\n",
    "! git clone --depth 1 https://github.com/tensorflow/models"
   ]
  },
  {
   "cell_type": "markdown",
   "metadata": {
    "colab_type": "text",
    "id": "2WHzhDJm4D2B"
   },
   "source": [
    "将该代码库的根目录添加到python路径"
   ]
  },
  {
   "cell_type": "code",
   "execution_count": 0,
   "metadata": {
    "colab": {},
    "colab_type": "code",
    "id": "90s1Ztc93oWy"
   },
   "outputs": [],
   "source": [
    "models_path = os.path.join(os.getcwd(), 'models')\n",
    "\n",
    "sys.path.append(models_path)"
   ]
  },
  {
   "cell_type": "markdown",
   "metadata": {
    "colab_type": "text",
    "id": "enkuNqhW4P5I"
   },
   "source": [
    "下载数据集"
   ]
  },
  {
   "cell_type": "code",
   "execution_count": 6,
   "metadata": {
    "colab": {
     "base_uri": "https://localhost:8080/",
     "height": 127
    },
    "colab_type": "code",
    "executionInfo": {
     "elapsed": 12666,
     "status": "ok",
     "timestamp": 1564157266054,
     "user": {
      "displayName": "potato black",
      "photoUrl": "https://lh4.googleusercontent.com/-MvViDlnQyME/AAAAAAAAAAI/AAAAAAAAABU/Oj0wIrTkzFU/s64/photo.jpg",
      "userId": "12825119026917731253"
     },
     "user_tz": -480
    },
    "id": "6KEo7w1T4SBc",
    "outputId": "8cabffbd-ef2c-4b4d-d535-9a7482ee1286"
   },
   "outputs": [
    {
     "name": "stderr",
     "output_type": "stream",
     "text": [
      "WARNING: Logging before flag parsing goes to stderr.\n",
      "W0726 16:07:41.731217 140211390670720 deprecation_wrapper.py:119] From /content/models/official/wide_deep/census_dataset.py:78: The name tf.gfile.MakeDirs is deprecated. Please use tf.io.gfile.makedirs instead.\n",
      "\n",
      "W0726 16:07:41.732929 140211390670720 deprecation_wrapper.py:119] From /content/models/official/wide_deep/census_dataset.py:81: The name tf.gfile.Exists is deprecated. Please use tf.io.gfile.exists instead.\n",
      "\n"
     ]
    }
   ],
   "source": [
    "from official.wide_deep import census_dataset\n",
    "from official.wide_deep import census_main\n",
    "\n",
    "census_dataset.download(\"/tmp/census_data/\")"
   ]
  },
  {
   "cell_type": "markdown",
   "metadata": {
    "colab_type": "text",
    "id": "8ZklF1cq4cGJ"
   },
   "source": [
    "### 命令行用法"
   ]
  },
  {
   "cell_type": "markdown",
   "metadata": {
    "colab_type": "text",
    "id": "jYA2llmE4p0g"
   },
   "source": [
    "要从命令行执行教程代码，先将 tensorflow/models 路径添加到您的 PYTHONPATH。"
   ]
  },
  {
   "cell_type": "code",
   "execution_count": 0,
   "metadata": {
    "colab": {},
    "colab_type": "code",
    "id": "ezKObIIq4gfn"
   },
   "outputs": [],
   "source": [
    "#export PYTHONPATH=${PYTHONPATH}:\"$(pwd)/models\"\n",
    "#running from python you need to set the `os.environ` or the subprocess will not see the directory.\n",
    "\n",
    "if \"PYTHONPATH\" in os.environ:\n",
    "  os.environ['PYTHONPATH'] += os.pathsep +  models_path\n",
    "else:\n",
    "  os.environ['PYTHONPATH'] = models_path"
   ]
  },
  {
   "cell_type": "markdown",
   "metadata": {
    "colab_type": "text",
    "id": "8wSpu93K4sNI"
   },
   "source": [
    "使用 --help 查看可用的命令行选项："
   ]
  },
  {
   "cell_type": "code",
   "execution_count": 8,
   "metadata": {
    "colab": {
     "base_uri": "https://localhost:8080/",
     "height": 1000
    },
    "colab_type": "code",
    "executionInfo": {
     "elapsed": 20335,
     "status": "ok",
     "timestamp": 1564157273725,
     "user": {
      "displayName": "potato black",
      "photoUrl": "https://lh4.googleusercontent.com/-MvViDlnQyME/AAAAAAAAAAI/AAAAAAAAABU/Oj0wIrTkzFU/s64/photo.jpg",
      "userId": "12825119026917731253"
     },
     "user_tz": -480
    },
    "id": "98Os8WCx4vI7",
    "outputId": "b83988e0-d849-4675-deb7-ed29899fcdad"
   },
   "outputs": [
    {
     "name": "stdout",
     "output_type": "stream",
     "text": [
      "WARNING: Logging before flag parsing goes to stderr.\n",
      "W0726 16:07:46.580484 139866863912832 deprecation_wrapper.py:119] From /content/models/official/wide_deep/census_main.py:114: The name tf.logging.set_verbosity is deprecated. Please use tf.compat.v1.logging.set_verbosity instead.\n",
      "\n",
      "W0726 16:07:46.580805 139866863912832 deprecation_wrapper.py:119] From /content/models/official/wide_deep/census_main.py:114: The name tf.logging.INFO is deprecated. Please use tf.compat.v1.logging.INFO instead.\n",
      "\n",
      "Train DNN on census income dataset.\n",
      "flags:\n",
      "\n",
      "/content/models/official/wide_deep/census_main.py:\n",
      "  -bs,--batch_size:\n",
      "    Batch size for training and evaluation. When using multiple gpus, this is\n",
      "    the\n",
      "    global batch size for all devices. For example, if the batch size is 32 and\n",
      "    there are 4 GPUs, each GPU will get 8 examples on each step.\n",
      "    (default: '40')\n",
      "    (an integer)\n",
      "  --[no]clean:\n",
      "    If set, model_dir will be removed if it exists.\n",
      "    (default: 'false')\n",
      "  -dd,--data_dir:\n",
      "    The location of the input data.\n",
      "    (default: '/tmp/census_data')\n",
      "  --[no]download_if_missing:\n",
      "    Download data to data_dir if it is not already present.\n",
      "    (default: 'true')\n",
      "  -ebe,--epochs_between_evals:\n",
      "    The number of training epochs to run between evaluations.\n",
      "    (default: '2')\n",
      "    (an integer)\n",
      "  -ed,--export_dir:\n",
      "    If set, a SavedModel serialization of the model will be exported to this\n",
      "    directory at the end of training. See the README for more details and\n",
      "    relevant\n",
      "    links.\n",
      "  -hk,--hooks:\n",
      "    A list of (case insensitive) strings to specify the names of training hooks.\n",
      "    ﻿  Hook:\n",
      "    ﻿    loggingtensorhook\n",
      "    ﻿    profilerhook\n",
      "    ﻿    examplespersecondhook\n",
      "    ﻿    loggingmetrichook\n",
      "    ﻿    stepcounterhook\n",
      "    ﻿  Example: `--hooks ProfilerHook,ExamplesPerSecondHook`\n",
      "    See official.utils.logs.hooks_helper for details.\n",
      "    (default: 'LoggingTensorHook')\n",
      "    (a comma separated list)\n",
      "  -md,--model_dir:\n",
      "    The location of the model checkpoint files.\n",
      "    (default: '/tmp/census_model')\n",
      "  -mt,--model_type: <wide|deep|wide_deep>: Select model topology.\n",
      "    (default: 'wide_deep')\n",
      "  -te,--train_epochs:\n",
      "    The number of epochs used to train.\n",
      "    (default: '40')\n",
      "    (an integer)\n",
      "\n",
      "Try --helpfull to get a list of all flags.\n"
     ]
    }
   ],
   "source": [
    "!python -m official.wide_deep.census_main --help"
   ]
  },
  {
   "cell_type": "markdown",
   "metadata": {
    "colab_type": "text",
    "id": "E4CFBI-K4_wg"
   },
   "source": [
    "运行模型"
   ]
  },
  {
   "cell_type": "code",
   "execution_count": 9,
   "metadata": {
    "colab": {
     "base_uri": "https://localhost:8080/",
     "height": 1000
    },
    "colab_type": "code",
    "executionInfo": {
     "elapsed": 45940,
     "status": "ok",
     "timestamp": 1564157299330,
     "user": {
      "displayName": "potato black",
      "photoUrl": "https://lh4.googleusercontent.com/-MvViDlnQyME/AAAAAAAAAAI/AAAAAAAAABU/Oj0wIrTkzFU/s64/photo.jpg",
      "userId": "12825119026917731253"
     },
     "user_tz": -480
    },
    "id": "-cSfpuJt49xQ",
    "outputId": "33cefa1b-7972-47af-bdc7-dddaf9ade3a9"
   },
   "outputs": [
    {
     "name": "stdout",
     "output_type": "stream",
     "text": [
      "WARNING: Logging before flag parsing goes to stderr.\n",
      "W0726 16:07:53.624871 140370283140992 deprecation_wrapper.py:119] From /content/models/official/wide_deep/census_main.py:114: The name tf.logging.set_verbosity is deprecated. Please use tf.compat.v1.logging.set_verbosity instead.\n",
      "\n",
      "W0726 16:07:53.625213 140370283140992 deprecation_wrapper.py:119] From /content/models/official/wide_deep/census_main.py:114: The name tf.logging.INFO is deprecated. Please use tf.compat.v1.logging.INFO instead.\n",
      "\n",
      "W0726 16:07:53.628177 140370283140992 deprecation_wrapper.py:119] From /content/models/official/wide_deep/census_dataset.py:78: The name tf.gfile.MakeDirs is deprecated. Please use tf.io.gfile.makedirs instead.\n",
      "\n",
      "W0726 16:07:53.628396 140370283140992 deprecation_wrapper.py:119] From /content/models/official/wide_deep/census_dataset.py:81: The name tf.gfile.Exists is deprecated. Please use tf.io.gfile.exists instead.\n",
      "\n",
      "W0726 16:07:53.629406 140370283140992 deprecation_wrapper.py:119] From /content/models/official/wide_deep/census_main.py:49: The name tf.ConfigProto is deprecated. Please use tf.compat.v1.ConfigProto instead.\n",
      "\n",
      "I0726 16:07:53.630142 140370283140992 estimator.py:209] Using config: {'_model_dir': '/tmp/census_model', '_tf_random_seed': None, '_save_summary_steps': 100, '_save_checkpoints_steps': None, '_save_checkpoints_secs': 600, '_session_config': device_count {\n",
      "  key: \"GPU\"\n",
      "  value: 0\n",
      "}\n",
      ", '_keep_checkpoint_max': 5, '_keep_checkpoint_every_n_hours': 10000, '_log_step_count_steps': 100, '_train_distribute': None, '_device_fn': None, '_protocol': None, '_eval_distribute': None, '_experimental_distribute': None, '_experimental_max_worker_delay_secs': None, '_service': None, '_cluster_spec': <tensorflow.python.training.server_lib.ClusterSpec object at 0x7faa5708eb38>, '_task_type': 'worker', '_task_id': 0, '_global_id_in_cluster': 0, '_master': '', '_evaluation_master': '', '_is_chief': True, '_num_ps_replicas': 0, '_num_worker_replicas': 1}\n",
      "W0726 16:07:53.631410 140370283140992 logger.py:387] 'cpuinfo' not imported. CPU info will not be logged.\n",
      "I0726 16:07:58.669924 140370283140992 logger.py:152] Benchmark run: {'model_name': 'wide_deep', 'dataset': {'name': 'Census Income'}, 'machine_config': {'memory_total': 13655322624, 'memory_available': 12473339904}, 'test_id': None, 'run_date': '2019-07-26T16:07:53.630946Z', 'tensorflow_version': {'version': '1.14.0', 'git_hash': 'v1.14.0-0-g87989f6959'}, 'tensorflow_environment_variables': [{'name': 'TF_FORCE_GPU_ALLOW_GROWTH', 'value': 'true'}], 'run_parameters': [{'name': 'batch_size', 'long_value': 40}, {'name': 'model_type', 'string_value': 'wide'}, {'name': 'train_epochs', 'long_value': 2}]}\n",
      "W0726 16:07:58.689692 140370283140992 deprecation.py:323] From /usr/local/lib/python3.6/dist-packages/tensorflow/python/training/training_util.py:236: Variable.initialized_value (from tensorflow.python.ops.variables) is deprecated and will be removed in a future version.\n",
      "Instructions for updating:\n",
      "Use Variable.read_value. Variables in 2.X are initialized automatically both in eager and graph (inside tf.defun) contexts.\n",
      "W0726 16:07:58.722321 140370283140992 deprecation_wrapper.py:119] From /content/models/official/wide_deep/census_dataset.py:167: The name tf.logging.info is deprecated. Please use tf.compat.v1.logging.info instead.\n",
      "\n",
      "I0726 16:07:58.722572 140370283140992 census_dataset.py:167] Parsing /tmp/census_data/adult.data\n",
      "W0726 16:07:58.722695 140370283140992 deprecation_wrapper.py:119] From /content/models/official/wide_deep/census_dataset.py:168: The name tf.decode_csv is deprecated. Please use tf.io.decode_csv instead.\n",
      "\n",
      "I0726 16:07:58.763047 140370283140992 estimator.py:1145] Calling model_fn.\n",
      "W0726 16:07:59.142729 140370283140992 deprecation.py:323] From /usr/local/lib/python3.6/dist-packages/tensorflow/python/ops/sparse_ops.py:1719: add_dispatch_support.<locals>.wrapper (from tensorflow.python.ops.array_ops) is deprecated and will be removed in a future version.\n",
      "Instructions for updating:\n",
      "Use tf.where in 2.0, which has the same broadcast rule as np.where\n",
      "W0726 16:07:59.683996 140370283140992 deprecation.py:323] From /usr/local/lib/python3.6/dist-packages/tensorflow_estimator/python/estimator/canned/linear.py:308: to_float (from tensorflow.python.ops.math_ops) is deprecated and will be removed in a future version.\n",
      "Instructions for updating:\n",
      "Use `tf.cast` instead.\n",
      "I0726 16:08:00.340110 140370283140992 estimator.py:1147] Done calling model_fn.\n",
      "I0726 16:08:00.340515 140370283140992 basic_session_run_hooks.py:541] Create CheckpointSaverHook.\n",
      "I0726 16:08:00.847815 140370283140992 monitored_session.py:240] Graph was finalized.\n",
      "2019-07-26 16:08:00.853699: I tensorflow/core/platform/profile_utils/cpu_utils.cc:94] CPU Frequency: 2200000000 Hz\n",
      "2019-07-26 16:08:00.853992: I tensorflow/compiler/xla/service/service.cc:168] XLA service 0x2d832c0 executing computations on platform Host. Devices:\n",
      "2019-07-26 16:08:00.854034: I tensorflow/compiler/xla/service/service.cc:175]   StreamExecutor device (0): <undefined>, <undefined>\n",
      "W0726 16:08:00.855959 140370283140992 deprecation.py:323] From /usr/local/lib/python3.6/dist-packages/tensorflow/python/training/saver.py:1276: checkpoint_exists (from tensorflow.python.training.checkpoint_management) is deprecated and will be removed in a future version.\n",
      "Instructions for updating:\n",
      "Use standard file APIs to check for files with this prefix.\n",
      "I0726 16:08:00.857292 140370283140992 saver.py:1280] Restoring parameters from /tmp/census_model/model.ckpt-1629\n",
      "2019-07-26 16:08:00.923751: W tensorflow/compiler/jit/mark_for_compilation_pass.cc:1412] (One-time warning): Not using XLA:CPU for cluster because envvar TF_XLA_FLAGS=--tf_xla_cpu_global_jit was not set.  If you want XLA:CPU, either set that envvar, or use experimental_jit_scope to enable XLA:CPU.  To confirm that XLA is active, pass --vmodule=xla_compilation_cache=1 (as a proper command-line flag, not via TF_XLA_FLAGS) or set the envvar XLA_FLAGS=--xla_hlo_profile.\n",
      "W0726 16:08:00.929744 140370283140992 deprecation.py:323] From /usr/local/lib/python3.6/dist-packages/tensorflow/python/training/saver.py:1066: get_checkpoint_mtimes (from tensorflow.python.training.checkpoint_management) is deprecated and will be removed in a future version.\n",
      "Instructions for updating:\n",
      "Use standard file utilities to get mtimes.\n",
      "I0726 16:08:00.967144 140370283140992 session_manager.py:500] Running local_init_op.\n",
      "I0726 16:08:00.989857 140370283140992 session_manager.py:502] Done running local_init_op.\n",
      "I0726 16:08:01.865138 140370283140992 basic_session_run_hooks.py:606] Saving checkpoints for 1629 into /tmp/census_model/model.ckpt.\n",
      "I0726 16:08:02.662526 140370283140992 basic_session_run_hooks.py:262] average_loss = 0.34339708, loss = 13.735884\n",
      "I0726 16:08:02.663114 140370283140992 basic_session_run_hooks.py:262] loss = 13.735884, step = 1630\n",
      "I0726 16:08:03.310907 140370283140992 basic_session_run_hooks.py:692] global_step/sec: 154.136\n",
      "I0726 16:08:03.311726 140370283140992 basic_session_run_hooks.py:260] average_loss = 0.2644437, loss = 10.577748 (0.649 sec)\n",
      "I0726 16:08:03.312100 140370283140992 basic_session_run_hooks.py:260] loss = 10.577748, step = 1730 (0.649 sec)\n",
      "I0726 16:08:03.584155 140370283140992 basic_session_run_hooks.py:692] global_step/sec: 366.02\n",
      "I0726 16:08:03.584846 140370283140992 basic_session_run_hooks.py:260] average_loss = 0.25519982, loss = 10.207993 (0.273 sec)\n",
      "I0726 16:08:03.585136 140370283140992 basic_session_run_hooks.py:260] loss = 10.207993, step = 1830 (0.273 sec)\n",
      "I0726 16:08:03.870174 140370283140992 basic_session_run_hooks.py:692] global_step/sec: 349.628\n",
      "I0726 16:08:03.870962 140370283140992 basic_session_run_hooks.py:260] average_loss = 0.38160807, loss = 15.264323 (0.286 sec)\n",
      "I0726 16:08:03.871321 140370283140992 basic_session_run_hooks.py:260] loss = 15.264323, step = 1930 (0.286 sec)\n",
      "I0726 16:08:04.155629 140370283140992 basic_session_run_hooks.py:692] global_step/sec: 350.279\n",
      "I0726 16:08:04.156423 140370283140992 basic_session_run_hooks.py:260] average_loss = 0.43174785, loss = 17.269915 (0.285 sec)\n",
      "I0726 16:08:04.156649 140370283140992 basic_session_run_hooks.py:260] loss = 17.269915, step = 2030 (0.285 sec)\n",
      "I0726 16:08:04.444631 140370283140992 basic_session_run_hooks.py:692] global_step/sec: 346.005\n",
      "I0726 16:08:04.445454 140370283140992 basic_session_run_hooks.py:260] average_loss = 0.25852385, loss = 10.340954 (0.289 sec)\n",
      "I0726 16:08:04.445777 140370283140992 basic_session_run_hooks.py:260] loss = 10.340954, step = 2130 (0.289 sec)\n",
      "I0726 16:08:04.736394 140370283140992 basic_session_run_hooks.py:692] global_step/sec: 342.766\n",
      "I0726 16:08:04.737190 140370283140992 basic_session_run_hooks.py:260] average_loss = 0.5530349, loss = 22.121395 (0.292 sec)\n",
      "I0726 16:08:04.737433 140370283140992 basic_session_run_hooks.py:260] loss = 22.121395, step = 2230 (0.292 sec)\n",
      "I0726 16:08:05.031050 140370283140992 basic_session_run_hooks.py:692] global_step/sec: 339.408\n",
      "I0726 16:08:05.031764 140370283140992 basic_session_run_hooks.py:260] average_loss = 0.36542004, loss = 14.616802 (0.295 sec)\n",
      "I0726 16:08:05.032011 140370283140992 basic_session_run_hooks.py:260] loss = 14.616802, step = 2330 (0.295 sec)\n",
      "I0726 16:08:05.319035 140370283140992 basic_session_run_hooks.py:692] global_step/sec: 347.229\n",
      "I0726 16:08:05.319852 140370283140992 basic_session_run_hooks.py:260] average_loss = 0.18418984, loss = 7.367594 (0.288 sec)\n",
      "I0726 16:08:05.320235 140370283140992 basic_session_run_hooks.py:260] loss = 7.367594, step = 2430 (0.288 sec)\n",
      "I0726 16:08:05.672403 140370283140992 basic_session_run_hooks.py:692] global_step/sec: 282.995\n",
      "I0726 16:08:05.673208 140370283140992 basic_session_run_hooks.py:260] average_loss = 0.32356694, loss = 12.9426775 (0.353 sec)\n",
      "I0726 16:08:05.673523 140370283140992 basic_session_run_hooks.py:260] loss = 12.9426775, step = 2530 (0.353 sec)\n",
      "I0726 16:08:05.953483 140370283140992 basic_session_run_hooks.py:692] global_step/sec: 356.11\n",
      "I0726 16:08:05.954220 140370283140992 basic_session_run_hooks.py:260] average_loss = 0.5063375, loss = 20.2535 (0.281 sec)\n",
      "I0726 16:08:05.954498 140370283140992 basic_session_run_hooks.py:260] loss = 20.2535, step = 2630 (0.281 sec)\n",
      "I0726 16:08:06.255057 140370283140992 basic_session_run_hooks.py:692] global_step/sec: 331.313\n",
      "I0726 16:08:06.255876 140370283140992 basic_session_run_hooks.py:260] average_loss = 0.2408289, loss = 9.633156 (0.302 sec)\n",
      "I0726 16:08:06.256213 140370283140992 basic_session_run_hooks.py:260] loss = 9.633156, step = 2730 (0.302 sec)\n",
      "I0726 16:08:06.541612 140370283140992 basic_session_run_hooks.py:692] global_step/sec: 348.93\n",
      "I0726 16:08:06.542336 140370283140992 basic_session_run_hooks.py:260] average_loss = 0.39375415, loss = 15.750166 (0.286 sec)\n",
      "I0726 16:08:06.542560 140370283140992 basic_session_run_hooks.py:260] loss = 15.750166, step = 2830 (0.286 sec)\n",
      "I0726 16:08:06.836073 140370283140992 basic_session_run_hooks.py:692] global_step/sec: 339.635\n",
      "I0726 16:08:06.836778 140370283140992 basic_session_run_hooks.py:260] average_loss = 0.359068, loss = 14.3627205 (0.294 sec)\n",
      "I0726 16:08:06.837023 140370283140992 basic_session_run_hooks.py:260] loss = 14.3627205, step = 2930 (0.294 sec)\n",
      "I0726 16:08:07.135659 140370283140992 basic_session_run_hooks.py:692] global_step/sec: 333.744\n",
      "I0726 16:08:07.136467 140370283140992 basic_session_run_hooks.py:260] average_loss = 0.39040497, loss = 15.616199 (0.300 sec)\n",
      "I0726 16:08:07.136690 140370283140992 basic_session_run_hooks.py:260] loss = 15.616199, step = 3030 (0.300 sec)\n",
      "I0726 16:08:07.430460 140370283140992 basic_session_run_hooks.py:692] global_step/sec: 339.228\n",
      "I0726 16:08:07.431300 140370283140992 basic_session_run_hooks.py:260] average_loss = 0.27157074, loss = 10.86283 (0.295 sec)\n",
      "I0726 16:08:07.431525 140370283140992 basic_session_run_hooks.py:260] loss = 10.86283, step = 3130 (0.295 sec)\n",
      "I0726 16:08:07.704377 140370283140992 basic_session_run_hooks.py:692] global_step/sec: 365.084\n",
      "I0726 16:08:07.705111 140370283140992 basic_session_run_hooks.py:260] average_loss = 0.21248102, loss = 8.499241 (0.274 sec)\n",
      "I0726 16:08:07.705447 140370283140992 basic_session_run_hooks.py:260] loss = 8.499241, step = 3230 (0.274 sec)\n",
      "I0726 16:08:07.801006 140370283140992 basic_session_run_hooks.py:606] Saving checkpoints for 3258 into /tmp/census_model/model.ckpt.\n",
      "I0726 16:08:08.002528 140370283140992 estimator.py:368] Loss for final step: 3.293274.\n",
      "I0726 16:08:08.020357 140370283140992 census_dataset.py:167] Parsing /tmp/census_data/adult.test\n",
      "I0726 16:08:08.058434 140370283140992 estimator.py:1145] Calling model_fn.\n",
      "W0726 16:08:09.127015 140370283140992 deprecation.py:323] From /usr/local/lib/python3.6/dist-packages/tensorflow/python/ops/metrics_impl.py:2027: div (from tensorflow.python.ops.math_ops) is deprecated and will be removed in a future version.\n",
      "Instructions for updating:\n",
      "Deprecated in favor of operator or tf.math.divide.\n",
      "W0726 16:08:09.535254 140370283140992 metrics_impl.py:804] Trapezoidal rule is known to produce incorrect PR-AUCs; please switch to \"careful_interpolation\" instead.\n",
      "W0726 16:08:09.557392 140370283140992 metrics_impl.py:804] Trapezoidal rule is known to produce incorrect PR-AUCs; please switch to \"careful_interpolation\" instead.\n",
      "I0726 16:08:09.579347 140370283140992 estimator.py:1147] Done calling model_fn.\n",
      "I0726 16:08:09.599806 140370283140992 evaluation.py:255] Starting evaluation at 2019-07-26T16:08:09Z\n",
      "I0726 16:08:09.737377 140370283140992 monitored_session.py:240] Graph was finalized.\n",
      "I0726 16:08:09.739248 140370283140992 saver.py:1280] Restoring parameters from /tmp/census_model/model.ckpt-3258\n",
      "I0726 16:08:09.868472 140370283140992 session_manager.py:500] Running local_init_op.\n",
      "I0726 16:08:09.922292 140370283140992 session_manager.py:502] Done running local_init_op.\n",
      "I0726 16:08:11.793133 140370283140992 evaluation.py:275] Finished evaluation at 2019-07-26-16:08:11\n",
      "I0726 16:08:11.793440 140370283140992 estimator.py:2039] Saving dict for global step 3258: accuracy = 0.8365579, accuracy_baseline = 0.76377374, auc = 0.88351196, auc_precision_recall = 0.6945586, average_loss = 0.35178745, global_step = 3258, label/mean = 0.23622628, loss = 14.037871, precision = 0.68923664, prediction/mean = 0.23851962, recall = 0.56110245\n",
      "I0726 16:08:12.126485 140370283140992 estimator.py:2099] Saving 'checkpoint_path' summary for global step 3258: /tmp/census_model/model.ckpt-3258\n",
      "I0726 16:08:12.127254 140370283140992 wide_deep_run_loop.py:116] Results at epoch 2 / 2\n",
      "I0726 16:08:12.127410 140370283140992 wide_deep_run_loop.py:117] ------------------------------------------------------------\n",
      "I0726 16:08:12.127503 140370283140992 wide_deep_run_loop.py:120] accuracy: 0.8365579\n",
      "I0726 16:08:12.127576 140370283140992 wide_deep_run_loop.py:120] accuracy_baseline: 0.76377374\n",
      "I0726 16:08:12.127648 140370283140992 wide_deep_run_loop.py:120] auc: 0.88351196\n",
      "I0726 16:08:12.127722 140370283140992 wide_deep_run_loop.py:120] auc_precision_recall: 0.6945586\n",
      "I0726 16:08:12.127801 140370283140992 wide_deep_run_loop.py:120] average_loss: 0.35178745\n",
      "I0726 16:08:12.127877 140370283140992 wide_deep_run_loop.py:120] global_step: 3258\n",
      "I0726 16:08:12.127944 140370283140992 wide_deep_run_loop.py:120] label/mean: 0.23622628\n",
      "I0726 16:08:12.128028 140370283140992 wide_deep_run_loop.py:120] loss: 14.037871\n",
      "I0726 16:08:12.128094 140370283140992 wide_deep_run_loop.py:120] precision: 0.68923664\n",
      "I0726 16:08:12.128158 140370283140992 wide_deep_run_loop.py:120] prediction/mean: 0.23851962\n",
      "I0726 16:08:12.128223 140370283140992 wide_deep_run_loop.py:120] recall: 0.56110245\n",
      "I0726 16:08:12.128416 140370283140992 logger.py:147] Benchmark metric: {'name': 'accuracy', 'value': 0.836557924747467, 'unit': None, 'global_step': 3258, 'timestamp': '2019-07-26T16:08:12.128369Z', 'extras': []}\n",
      "I0726 16:08:12.128552 140370283140992 logger.py:147] Benchmark metric: {'name': 'accuracy_baseline', 'value': 0.7637737393379211, 'unit': None, 'global_step': 3258, 'timestamp': '2019-07-26T16:08:12.128527Z', 'extras': []}\n",
      "I0726 16:08:12.128664 140370283140992 logger.py:147] Benchmark metric: {'name': 'auc', 'value': 0.8835119605064392, 'unit': None, 'global_step': 3258, 'timestamp': '2019-07-26T16:08:12.128639Z', 'extras': []}\n",
      "I0726 16:08:12.128769 140370283140992 logger.py:147] Benchmark metric: {'name': 'auc_precision_recall', 'value': 0.6945586204528809, 'unit': None, 'global_step': 3258, 'timestamp': '2019-07-26T16:08:12.128745Z', 'extras': []}\n",
      "I0726 16:08:12.128885 140370283140992 logger.py:147] Benchmark metric: {'name': 'average_loss', 'value': 0.3517874479293823, 'unit': None, 'global_step': 3258, 'timestamp': '2019-07-26T16:08:12.128860Z', 'extras': []}\n",
      "I0726 16:08:12.129014 140370283140992 logger.py:147] Benchmark metric: {'name': 'label/mean', 'value': 0.23622627556324005, 'unit': None, 'global_step': 3258, 'timestamp': '2019-07-26T16:08:12.128989Z', 'extras': []}\n",
      "I0726 16:08:12.129124 140370283140992 logger.py:147] Benchmark metric: {'name': 'loss', 'value': 14.037871360778809, 'unit': None, 'global_step': 3258, 'timestamp': '2019-07-26T16:08:12.129101Z', 'extras': []}\n",
      "I0726 16:08:12.129229 140370283140992 logger.py:147] Benchmark metric: {'name': 'precision', 'value': 0.6892366409301758, 'unit': None, 'global_step': 3258, 'timestamp': '2019-07-26T16:08:12.129207Z', 'extras': []}\n",
      "I0726 16:08:12.129331 140370283140992 logger.py:147] Benchmark metric: {'name': 'prediction/mean', 'value': 0.23851962387561798, 'unit': None, 'global_step': 3258, 'timestamp': '2019-07-26T16:08:12.129309Z', 'extras': []}\n",
      "I0726 16:08:12.129432 140370283140992 logger.py:147] Benchmark metric: {'name': 'recall', 'value': 0.5611024498939514, 'unit': None, 'global_step': 3258, 'timestamp': '2019-07-26T16:08:12.129410Z', 'extras': []}\n"
     ]
    }
   ],
   "source": [
    "!python -m official.wide_deep.census_main --model_type=wide --train_epochs=2"
   ]
  },
  {
   "cell_type": "markdown",
   "metadata": {
    "colab_type": "text",
    "id": "xL1e_ZKf5Kco"
   },
   "source": [
    "### 读取数据"
   ]
  },
  {
   "cell_type": "code",
   "execution_count": 0,
   "metadata": {
    "colab": {},
    "colab_type": "code",
    "id": "hWEFbxo15PTw"
   },
   "outputs": [],
   "source": [
    "train_file = \"/tmp/census_data/adult.data\"\n",
    "test_file = \"/tmp/census_data/adult.test\""
   ]
  },
  {
   "cell_type": "markdown",
   "metadata": {
    "colab_type": "text",
    "id": "sUug2iyU590b"
   },
   "source": [
    "pandas 提供了一些便捷的数据分析实用工具"
   ]
  },
  {
   "cell_type": "code",
   "execution_count": 11,
   "metadata": {
    "colab": {
     "base_uri": "https://localhost:8080/",
     "height": 326
    },
    "colab_type": "code",
    "executionInfo": {
     "elapsed": 47499,
     "status": "ok",
     "timestamp": 1564157300892,
     "user": {
      "displayName": "potato black",
      "photoUrl": "https://lh4.googleusercontent.com/-MvViDlnQyME/AAAAAAAAAAI/AAAAAAAAABU/Oj0wIrTkzFU/s64/photo.jpg",
      "userId": "12825119026917731253"
     },
     "user_tz": -480
    },
    "id": "5cveQ3II6l-o",
    "outputId": "9aaa1e9b-debc-4bba-fe7e-f91dbdac14b7"
   },
   "outputs": [
    {
     "data": {
      "text/html": [
       "<div>\n",
       "<style scoped>\n",
       "    .dataframe tbody tr th:only-of-type {\n",
       "        vertical-align: middle;\n",
       "    }\n",
       "\n",
       "    .dataframe tbody tr th {\n",
       "        vertical-align: top;\n",
       "    }\n",
       "\n",
       "    .dataframe thead th {\n",
       "        text-align: right;\n",
       "    }\n",
       "</style>\n",
       "<table border=\"1\" class=\"dataframe\">\n",
       "  <thead>\n",
       "    <tr style=\"text-align: right;\">\n",
       "      <th></th>\n",
       "      <th>age</th>\n",
       "      <th>workclass</th>\n",
       "      <th>fnlwgt</th>\n",
       "      <th>education</th>\n",
       "      <th>education_num</th>\n",
       "      <th>marital_status</th>\n",
       "      <th>occupation</th>\n",
       "      <th>relationship</th>\n",
       "      <th>race</th>\n",
       "      <th>gender</th>\n",
       "      <th>capital_gain</th>\n",
       "      <th>capital_loss</th>\n",
       "      <th>hours_per_week</th>\n",
       "      <th>native_country</th>\n",
       "      <th>income_bracket</th>\n",
       "    </tr>\n",
       "  </thead>\n",
       "  <tbody>\n",
       "    <tr>\n",
       "      <th>0</th>\n",
       "      <td>39</td>\n",
       "      <td>State-gov</td>\n",
       "      <td>77516</td>\n",
       "      <td>Bachelors</td>\n",
       "      <td>13</td>\n",
       "      <td>Never-married</td>\n",
       "      <td>Adm-clerical</td>\n",
       "      <td>Not-in-family</td>\n",
       "      <td>White</td>\n",
       "      <td>Male</td>\n",
       "      <td>2174</td>\n",
       "      <td>0</td>\n",
       "      <td>40</td>\n",
       "      <td>United-States</td>\n",
       "      <td>&lt;=50K</td>\n",
       "    </tr>\n",
       "    <tr>\n",
       "      <th>1</th>\n",
       "      <td>50</td>\n",
       "      <td>Self-emp-not-inc</td>\n",
       "      <td>83311</td>\n",
       "      <td>Bachelors</td>\n",
       "      <td>13</td>\n",
       "      <td>Married-civ-spouse</td>\n",
       "      <td>Exec-managerial</td>\n",
       "      <td>Husband</td>\n",
       "      <td>White</td>\n",
       "      <td>Male</td>\n",
       "      <td>0</td>\n",
       "      <td>0</td>\n",
       "      <td>13</td>\n",
       "      <td>United-States</td>\n",
       "      <td>&lt;=50K</td>\n",
       "    </tr>\n",
       "    <tr>\n",
       "      <th>2</th>\n",
       "      <td>38</td>\n",
       "      <td>Private</td>\n",
       "      <td>215646</td>\n",
       "      <td>HS-grad</td>\n",
       "      <td>9</td>\n",
       "      <td>Divorced</td>\n",
       "      <td>Handlers-cleaners</td>\n",
       "      <td>Not-in-family</td>\n",
       "      <td>White</td>\n",
       "      <td>Male</td>\n",
       "      <td>0</td>\n",
       "      <td>0</td>\n",
       "      <td>40</td>\n",
       "      <td>United-States</td>\n",
       "      <td>&lt;=50K</td>\n",
       "    </tr>\n",
       "    <tr>\n",
       "      <th>3</th>\n",
       "      <td>53</td>\n",
       "      <td>Private</td>\n",
       "      <td>234721</td>\n",
       "      <td>11th</td>\n",
       "      <td>7</td>\n",
       "      <td>Married-civ-spouse</td>\n",
       "      <td>Handlers-cleaners</td>\n",
       "      <td>Husband</td>\n",
       "      <td>Black</td>\n",
       "      <td>Male</td>\n",
       "      <td>0</td>\n",
       "      <td>0</td>\n",
       "      <td>40</td>\n",
       "      <td>United-States</td>\n",
       "      <td>&lt;=50K</td>\n",
       "    </tr>\n",
       "    <tr>\n",
       "      <th>4</th>\n",
       "      <td>28</td>\n",
       "      <td>Private</td>\n",
       "      <td>338409</td>\n",
       "      <td>Bachelors</td>\n",
       "      <td>13</td>\n",
       "      <td>Married-civ-spouse</td>\n",
       "      <td>Prof-specialty</td>\n",
       "      <td>Wife</td>\n",
       "      <td>Black</td>\n",
       "      <td>Female</td>\n",
       "      <td>0</td>\n",
       "      <td>0</td>\n",
       "      <td>40</td>\n",
       "      <td>Cuba</td>\n",
       "      <td>&lt;=50K</td>\n",
       "    </tr>\n",
       "  </tbody>\n",
       "</table>\n",
       "</div>"
      ],
      "text/plain": [
       "   age         workclass  fnlwgt  ... hours_per_week  native_country income_bracket\n",
       "0   39         State-gov   77516  ...             40   United-States          <=50K\n",
       "1   50  Self-emp-not-inc   83311  ...             13   United-States          <=50K\n",
       "2   38           Private  215646  ...             40   United-States          <=50K\n",
       "3   53           Private  234721  ...             40   United-States          <=50K\n",
       "4   28           Private  338409  ...             40            Cuba          <=50K\n",
       "\n",
       "[5 rows x 15 columns]"
      ]
     },
     "execution_count": 11,
     "metadata": {
      "tags": []
     },
     "output_type": "execute_result"
    }
   ],
   "source": [
    "import pandas\n",
    "\n",
    "train_df = pandas.read_csv(train_file, header = None, names = census_dataset._CSV_COLUMNS)\n",
    "test_df = pandas.read_csv(test_file, header = None, names = census_dataset._CSV_COLUMNS)\n",
    "\n",
    "train_df.head()"
   ]
  },
  {
   "cell_type": "markdown",
   "metadata": {
    "colab_type": "text",
    "id": "JNTX-fW06q8n"
   },
   "source": [
    "### 将数据转换为张量"
   ]
  },
  {
   "cell_type": "markdown",
   "metadata": {
    "colab_type": "text",
    "id": "7gQ6flip7kRg"
   },
   "source": [
    "#### 数据集一般传输"
   ]
  },
  {
   "cell_type": "code",
   "execution_count": 0,
   "metadata": {
    "colab": {},
    "colab_type": "code",
    "id": "qfgl9nj46w5t"
   },
   "outputs": [],
   "source": [
    "def easy_input_function(df, label_key, num_epochs, shuffle, batch_size):\n",
    "  label = df[label_key]\n",
    "  ds = tf.data.Dataset.from_tensor_slices((dict(df),label))\n",
    "\n",
    "  if shuffle:\n",
    "    ds = ds.shuffle(10000)\n",
    "\n",
    "  ds = ds.batch(batch_size).repeat(num_epochs)\n",
    "\n",
    "  return ds"
   ]
  },
  {
   "cell_type": "markdown",
   "metadata": {
    "colab_type": "text",
    "id": "Bjk2kt2U7GxH"
   },
   "source": [
    "已启用 Eager Execution，因此可轻松检查生成的数据集："
   ]
  },
  {
   "cell_type": "code",
   "execution_count": 13,
   "metadata": {
    "colab": {
     "base_uri": "https://localhost:8080/",
     "height": 163
    },
    "colab_type": "code",
    "executionInfo": {
     "elapsed": 47501,
     "status": "ok",
     "timestamp": 1564157300896,
     "user": {
      "displayName": "potato black",
      "photoUrl": "https://lh4.googleusercontent.com/-MvViDlnQyME/AAAAAAAAAAI/AAAAAAAAABU/Oj0wIrTkzFU/s64/photo.jpg",
      "userId": "12825119026917731253"
     },
     "user_tz": -480
    },
    "id": "UdAyh_Zl7FlF",
    "outputId": "125e9f0a-4936-4731-c2bc-307377319006"
   },
   "outputs": [
    {
     "name": "stdout",
     "output_type": "stream",
     "text": [
      "Some feature keys: ['age', 'workclass', 'fnlwgt', 'education', 'education_num']\n",
      "\n",
      "A batch of Ages  : tf.Tensor([48 33 40 49 47 41 22 26 18 59], shape=(10,), dtype=int32)\n",
      "\n",
      "A batch of Labels: tf.Tensor(\n",
      "[b'<=50K' b'<=50K' b'<=50K' b'<=50K' b'>50K' b'<=50K' b'<=50K' b'<=50K'\n",
      " b'<=50K' b'<=50K'], shape=(10,), dtype=string)\n"
     ]
    }
   ],
   "source": [
    "ds = easy_input_function(train_df, label_key='income_bracket', num_epochs=5, shuffle=True, batch_size=10)\n",
    "\n",
    "for feature_batch, label_batch in ds.take(1):\n",
    "  print('Some feature keys:', list(feature_batch.keys())[:5])\n",
    "  print()\n",
    "  print('A batch of Ages  :', feature_batch['age'])\n",
    "  print()\n",
    "  print('A batch of Labels:', label_batch )"
   ]
  },
  {
   "cell_type": "markdown",
   "metadata": {
    "colab_type": "text",
    "id": "-p0Ceb6r7Zry"
   },
   "source": [
    "#### 数据集从磁盘流式传输"
   ]
  },
  {
   "cell_type": "code",
   "execution_count": 14,
   "metadata": {
    "colab": {
     "base_uri": "https://localhost:8080/",
     "height": 521
    },
    "colab_type": "code",
    "executionInfo": {
     "elapsed": 47501,
     "status": "ok",
     "timestamp": 1564157300897,
     "user": {
      "displayName": "potato black",
      "photoUrl": "https://lh4.googleusercontent.com/-MvViDlnQyME/AAAAAAAAAAI/AAAAAAAAABU/Oj0wIrTkzFU/s64/photo.jpg",
      "userId": "12825119026917731253"
     },
     "user_tz": -480
    },
    "id": "hwXTeiKc7doA",
    "outputId": "f24207c8-283e-485a-82d1-60b29f8273ae"
   },
   "outputs": [
    {
     "name": "stdout",
     "output_type": "stream",
     "text": [
      "def input_fn(data_file, num_epochs, shuffle, batch_size):\n",
      "  \"\"\"Generate an input function for the Estimator.\"\"\"\n",
      "  assert tf.gfile.Exists(data_file), (\n",
      "      '%s not found. Please make sure you have run census_dataset.py and '\n",
      "      'set the --data_dir argument to the correct path.' % data_file)\n",
      "\n",
      "  def parse_csv(value):\n",
      "    tf.logging.info('Parsing {}'.format(data_file))\n",
      "    columns = tf.decode_csv(value, record_defaults=_CSV_COLUMN_DEFAULTS)\n",
      "    features = dict(zip(_CSV_COLUMNS, columns))\n",
      "    labels = features.pop('income_bracket')\n",
      "    classes = tf.equal(labels, '>50K')  # binary classification\n",
      "    return features, classes\n",
      "\n",
      "  # Extract lines from input files using the Dataset API.\n",
      "  dataset = tf.data.TextLineDataset(data_file)\n",
      "\n",
      "  if shuffle:\n",
      "    dataset = dataset.shuffle(buffer_size=_NUM_EXAMPLES['train'])\n",
      "\n",
      "  dataset = dataset.map(parse_csv, num_parallel_calls=5)\n",
      "\n",
      "  # We call repeat after shuffling, rather than before, to prevent separate\n",
      "  # epochs from blending together.\n",
      "  dataset = dataset.repeat(num_epochs)\n",
      "  dataset = dataset.batch(batch_size)\n",
      "  return dataset\n",
      "\n"
     ]
    }
   ],
   "source": [
    "import inspect\n",
    "print(inspect.getsource(census_dataset.input_fn))"
   ]
  },
  {
   "cell_type": "markdown",
   "metadata": {
    "colab_type": "text",
    "id": "H75VKZrH7zS5"
   },
   "source": [
    "此`input_fn`与一般返回等效"
   ]
  },
  {
   "cell_type": "code",
   "execution_count": 15,
   "metadata": {
    "colab": {
     "base_uri": "https://localhost:8080/",
     "height": 199
    },
    "colab_type": "code",
    "executionInfo": {
     "elapsed": 47501,
     "status": "ok",
     "timestamp": 1564157300898,
     "user": {
      "displayName": "potato black",
      "photoUrl": "https://lh4.googleusercontent.com/-MvViDlnQyME/AAAAAAAAAAI/AAAAAAAAABU/Oj0wIrTkzFU/s64/photo.jpg",
      "userId": "12825119026917731253"
     },
     "user_tz": -480
    },
    "id": "9xXTcpuW73wY",
    "outputId": "375c76ab-ddc3-4202-bcbb-cb922157029c"
   },
   "outputs": [
    {
     "name": "stderr",
     "output_type": "stream",
     "text": [
      "W0726 16:08:15.232205 140211390670720 deprecation_wrapper.py:119] From /content/models/official/wide_deep/census_dataset.py:167: The name tf.logging.info is deprecated. Please use tf.compat.v1.logging.info instead.\n",
      "\n",
      "W0726 16:08:15.233481 140211390670720 deprecation_wrapper.py:119] From /content/models/official/wide_deep/census_dataset.py:168: The name tf.decode_csv is deprecated. Please use tf.io.decode_csv instead.\n",
      "\n"
     ]
    },
    {
     "name": "stdout",
     "output_type": "stream",
     "text": [
      "Feature keys: ['age', 'workclass', 'fnlwgt', 'education', 'education_num']\n",
      "\n",
      "Age batch   : tf.Tensor([49 33 51 32 27 53 50 48 22 46], shape=(10,), dtype=int32)\n",
      "\n",
      "Label batch : tf.Tensor([ True False False False  True False False  True False  True], shape=(10,), dtype=bool)\n"
     ]
    }
   ],
   "source": [
    "ds = census_dataset.input_fn(train_file, num_epochs=5, shuffle=True, batch_size=10)\n",
    "\n",
    "for feature_batch, label_batch in ds.take(1):\n",
    "  print('Feature keys:', list(feature_batch.keys())[:5])\n",
    "  print()\n",
    "  print('Age batch   :', feature_batch['age'])\n",
    "  print()\n",
    "  print('Label batch :', label_batch )"
   ]
  },
  {
   "cell_type": "markdown",
   "metadata": {
    "colab_type": "text",
    "id": "-0rCoLUa8PxI"
   },
   "source": [
    "因为 Estimators 要求 input_fn 不接受任何参数。将可配置的输入函数封装到带预期签名的对象中。对于此笔记，配置 train_inpf 以迭代数据两次："
   ]
  },
  {
   "cell_type": "code",
   "execution_count": 0,
   "metadata": {
    "colab": {},
    "colab_type": "code",
    "id": "bZklsEO18faI"
   },
   "outputs": [],
   "source": [
    "import functools\n",
    "\n",
    "train_inpf = functools.partial(census_dataset.input_fn, train_file, num_epochs=2, shuffle=True, batch_size=64)\n",
    "test_inpf = functools.partial(census_dataset.input_fn, test_file, num_epochs=1, shuffle=False, batch_size=64)"
   ]
  },
  {
   "cell_type": "markdown",
   "metadata": {
    "colab_type": "text",
    "id": "LRchq-D187L6"
   },
   "source": [
    "### 为模型选择特征并进行特征工程处理"
   ]
  },
  {
   "cell_type": "markdown",
   "metadata": {
    "colab_type": "text",
    "id": "iw_8zZ1_9L8Y"
   },
   "source": [
    "#### 基准特征列"
   ]
  },
  {
   "cell_type": "markdown",
   "metadata": {
    "colab_type": "text",
    "id": "QbksQb1d9XRw"
   },
   "source": [
    "##### 数值列"
   ]
  },
  {
   "cell_type": "markdown",
   "metadata": {
    "colab_type": "text",
    "id": "CwXU8NcJ9fZD"
   },
   "source": [
    "最简单的 feature_column 是 numeric_column。它表示特征是数值，应直接输入到模型中。例如："
   ]
  },
  {
   "cell_type": "code",
   "execution_count": 0,
   "metadata": {
    "colab": {},
    "colab_type": "code",
    "id": "pdzD00c289a_"
   },
   "outputs": [],
   "source": [
    "age = fc.numeric_column('age')"
   ]
  },
  {
   "cell_type": "markdown",
   "metadata": {
    "colab_type": "text",
    "id": "fbAXIW4w9m2-"
   },
   "source": [
    "模型将使用 feature_column 定义来构建模型输入。您可以使用 input_layer 函数检查生成的输出："
   ]
  },
  {
   "cell_type": "code",
   "execution_count": 18,
   "metadata": {
    "colab": {
     "base_uri": "https://localhost:8080/",
     "height": 379
    },
    "colab_type": "code",
    "executionInfo": {
     "elapsed": 47503,
     "status": "ok",
     "timestamp": 1564157300903,
     "user": {
      "displayName": "potato black",
      "photoUrl": "https://lh4.googleusercontent.com/-MvViDlnQyME/AAAAAAAAAAI/AAAAAAAAABU/Oj0wIrTkzFU/s64/photo.jpg",
      "userId": "12825119026917731253"
     },
     "user_tz": -480
    },
    "id": "N6gRBaJS9qTZ",
    "outputId": "599fb077-a633-4bcc-8398-2ee03b6ebbd4"
   },
   "outputs": [
    {
     "name": "stderr",
     "output_type": "stream",
     "text": [
      "W0726 16:08:15.399683 140211390670720 deprecation.py:323] From /usr/local/lib/python3.6/dist-packages/tensorflow/python/feature_column/feature_column.py:205: NumericColumn._get_dense_tensor (from tensorflow.python.feature_column.feature_column_v2) is deprecated and will be removed in a future version.\n",
      "Instructions for updating:\n",
      "The old _FeatureColumn APIs are being deprecated. Please use the new FeatureColumn APIs instead.\n",
      "W0726 16:08:15.402817 140211390670720 deprecation.py:323] From /usr/local/lib/python3.6/dist-packages/tensorflow/python/feature_column/feature_column.py:2115: NumericColumn._transform_feature (from tensorflow.python.feature_column.feature_column_v2) is deprecated and will be removed in a future version.\n",
      "Instructions for updating:\n",
      "The old _FeatureColumn APIs are being deprecated. Please use the new FeatureColumn APIs instead.\n",
      "W0726 16:08:15.406165 140211390670720 deprecation.py:323] From /usr/local/lib/python3.6/dist-packages/tensorflow/python/feature_column/feature_column.py:206: NumericColumn._variable_shape (from tensorflow.python.feature_column.feature_column_v2) is deprecated and will be removed in a future version.\n",
      "Instructions for updating:\n",
      "The old _FeatureColumn APIs are being deprecated. Please use the new FeatureColumn APIs instead.\n"
     ]
    },
    {
     "data": {
      "text/plain": [
       "array([[49.],\n",
       "       [33.],\n",
       "       [51.],\n",
       "       [32.],\n",
       "       [27.],\n",
       "       [53.],\n",
       "       [50.],\n",
       "       [48.],\n",
       "       [22.],\n",
       "       [46.]], dtype=float32)"
      ]
     },
     "execution_count": 18,
     "metadata": {
      "tags": []
     },
     "output_type": "execute_result"
    }
   ],
   "source": [
    "fc.input_layer(feature_batch, [age]).numpy()"
   ]
  },
  {
   "cell_type": "markdown",
   "metadata": {
    "colab_type": "text",
    "id": "GxG2khp69pWQ"
   },
   "source": [
    "以下代码将仅使用 age 特征训练和评估模型："
   ]
  },
  {
   "cell_type": "code",
   "execution_count": 19,
   "metadata": {
    "colab": {
     "base_uri": "https://localhost:8080/",
     "height": 55
    },
    "colab_type": "code",
    "executionInfo": {
     "elapsed": 9,
     "status": "ok",
     "timestamp": 1564157307294,
     "user": {
      "displayName": "potato black",
      "photoUrl": "https://lh4.googleusercontent.com/-MvViDlnQyME/AAAAAAAAAAI/AAAAAAAAABU/Oj0wIrTkzFU/s64/photo.jpg",
      "userId": "12825119026917731253"
     },
     "user_tz": -480
    },
    "id": "efYILuYr9vEw",
    "outputId": "d11256d7-9cec-4912-b74b-38ecc36f1e8f"
   },
   "outputs": [
    {
     "name": "stdout",
     "output_type": "stream",
     "text": [
      "{'accuracy': 0.7562189, 'accuracy_baseline': 0.76377374, 'auc': 0.67835647, 'auc_precision_recall': 0.3113917, 'average_loss': 0.5235813, 'label/mean': 0.23622628, 'loss': 33.429127, 'precision': 0.16756757, 'prediction/mean': 0.25417745, 'recall': 0.008060322, 'global_step': 1018}\n"
     ]
    }
   ],
   "source": [
    "classifier = tf.estimator.LinearClassifier(feature_columns=[age])\n",
    "classifier.train(train_inpf)\n",
    "result = classifier.evaluate(test_inpf)\n",
    "\n",
    "clear_output()  # used for display in notebook\n",
    "print(result)"
   ]
  },
  {
   "cell_type": "markdown",
   "metadata": {
    "colab_type": "text",
    "id": "VFzxXbbw90G2"
   },
   "source": [
    "我们可以为要在模型中使用的每个连续特征列定义 NumericColumn："
   ]
  },
  {
   "cell_type": "code",
   "execution_count": 20,
   "metadata": {
    "colab": {
     "base_uri": "https://localhost:8080/",
     "height": 197
    },
    "colab_type": "code",
    "executionInfo": {
     "elapsed": 53895,
     "status": "ok",
     "timestamp": 1564157307296,
     "user": {
      "displayName": "potato black",
      "photoUrl": "https://lh4.googleusercontent.com/-MvViDlnQyME/AAAAAAAAAAI/AAAAAAAAABU/Oj0wIrTkzFU/s64/photo.jpg",
      "userId": "12825119026917731253"
     },
     "user_tz": -480
    },
    "id": "8w1X2omW92px",
    "outputId": "b9f35911-5993-441b-f065-a9fbde585981"
   },
   "outputs": [
    {
     "data": {
      "text/plain": [
       "array([[  49., 7688.,    0.,    9.,   55.],\n",
       "       [  33.,    0.,    0.,   10.,   40.],\n",
       "       [  51.,    0.,    0.,    9.,   40.],\n",
       "       [  32.,    0.,    0.,    9.,   40.],\n",
       "       [  27.,    0.,    0.,    9.,   65.],\n",
       "       [  53., 4650.,    0.,   10.,   40.],\n",
       "       [  50.,    0.,    0.,   13.,   36.],\n",
       "       [  48.,    0.,    0.,   13.,   40.],\n",
       "       [  22.,    0.,    0.,   13.,   40.],\n",
       "       [  46.,    0.,    0.,   14.,   40.]], dtype=float32)"
      ]
     },
     "execution_count": 20,
     "metadata": {
      "tags": []
     },
     "output_type": "execute_result"
    }
   ],
   "source": [
    "education_num = tf.feature_column.numeric_column('education_num')\n",
    "capital_gain = tf.feature_column.numeric_column('capital_gain')\n",
    "capital_loss = tf.feature_column.numeric_column('capital_loss')\n",
    "hours_per_week = tf.feature_column.numeric_column('hours_per_week')\n",
    "\n",
    "my_numeric_columns = [age,education_num, capital_gain, capital_loss, hours_per_week]\n",
    "\n",
    "fc.input_layer(feature_batch, my_numeric_columns).numpy()"
   ]
  },
  {
   "cell_type": "markdown",
   "metadata": {
    "colab_type": "text",
    "id": "7AvBtaTr98mT"
   },
   "source": [
    "可以通过更改构造函数的 feature_columns 参数，用这些特征重新训练模型："
   ]
  },
  {
   "cell_type": "code",
   "execution_count": 21,
   "metadata": {
    "colab": {
     "base_uri": "https://localhost:8080/",
     "height": 215
    },
    "colab_type": "code",
    "executionInfo": {
     "elapsed": 1727,
     "status": "ok",
     "timestamp": 1564157316812,
     "user": {
      "displayName": "potato black",
      "photoUrl": "https://lh4.googleusercontent.com/-MvViDlnQyME/AAAAAAAAAAI/AAAAAAAAABU/Oj0wIrTkzFU/s64/photo.jpg",
      "userId": "12825119026917731253"
     },
     "user_tz": -480
    },
    "id": "ZBZHhQ3c9_yF",
    "outputId": "b3df7deb-c0a5-494d-b8b3-bd3624a11fdc"
   },
   "outputs": [
    {
     "name": "stdout",
     "output_type": "stream",
     "text": [
      "accuracy: 0.7812788\n",
      "accuracy_baseline: 0.76377374\n",
      "auc: 0.78275555\n",
      "auc_precision_recall: 0.559455\n",
      "average_loss: 1.947678\n",
      "global_step: 1018\n",
      "label/mean: 0.23622628\n",
      "loss: 124.35351\n",
      "precision: 0.5683453\n",
      "prediction/mean: 0.30738357\n",
      "recall: 0.30811232\n"
     ]
    }
   ],
   "source": [
    "classifier = tf.estimator.LinearClassifier(feature_columns=my_numeric_columns)\n",
    "classifier.train(train_inpf)\n",
    "\n",
    "result = classifier.evaluate(test_inpf)\n",
    "\n",
    "clear_output()\n",
    "\n",
    "for key,value in sorted(result.items()):\n",
    "  print('%s: %s' % (key, value))"
   ]
  },
  {
   "cell_type": "markdown",
   "metadata": {
    "colab_type": "text",
    "id": "ORm6Mlpd-DBT"
   },
   "source": [
    "##### 类别列"
   ]
  },
  {
   "cell_type": "markdown",
   "metadata": {
    "colab_type": "text",
    "id": "8RHbb2GG-cRN"
   },
   "source": [
    "要为类别特征定义特征列，请使用其中一个 tf.feature_column.categorical_column* 函数创建 CategoricalColumn。"
   ]
  },
  {
   "cell_type": "code",
   "execution_count": 0,
   "metadata": {
    "colab": {},
    "colab_type": "code",
    "id": "hKW2qhsf-I1D"
   },
   "outputs": [],
   "source": [
    "relationship = fc.categorical_column_with_vocabulary_list(\n",
    "    'relationship',\n",
    "    ['Husband', 'Not-in-family', 'Wife', 'Own-child', 'Unmarried', 'Other-relative'])"
   ]
  },
  {
   "cell_type": "markdown",
   "metadata": {
    "colab_type": "text",
    "id": "H2nUi7cJ-TFZ"
   },
   "source": [
    "运行使用 age 和 relationship 列进行配置的输入层："
   ]
  },
  {
   "cell_type": "code",
   "execution_count": 23,
   "metadata": {
    "colab": {
     "base_uri": "https://localhost:8080/",
     "height": 559
    },
    "colab_type": "code",
    "executionInfo": {
     "elapsed": 63415,
     "status": "ok",
     "timestamp": 1564157316819,
     "user": {
      "displayName": "potato black",
      "photoUrl": "https://lh4.googleusercontent.com/-MvViDlnQyME/AAAAAAAAAAI/AAAAAAAAABU/Oj0wIrTkzFU/s64/photo.jpg",
      "userId": "12825119026917731253"
     },
     "user_tz": -480
    },
    "id": "rsk6l2OO-VNu",
    "outputId": "74081be6-a770-4457-a82c-57f3513e9697"
   },
   "outputs": [
    {
     "name": "stderr",
     "output_type": "stream",
     "text": [
      "W0726 16:08:31.017069 140211390670720 deprecation.py:323] From /usr/local/lib/python3.6/dist-packages/tensorflow/python/feature_column/feature_column.py:205: IndicatorColumn._get_dense_tensor (from tensorflow.python.feature_column.feature_column_v2) is deprecated and will be removed in a future version.\n",
      "Instructions for updating:\n",
      "The old _FeatureColumn APIs are being deprecated. Please use the new FeatureColumn APIs instead.\n",
      "W0726 16:08:31.019406 140211390670720 deprecation.py:323] From /usr/local/lib/python3.6/dist-packages/tensorflow/python/feature_column/feature_column.py:2115: IndicatorColumn._transform_feature (from tensorflow.python.feature_column.feature_column_v2) is deprecated and will be removed in a future version.\n",
      "Instructions for updating:\n",
      "The old _FeatureColumn APIs are being deprecated. Please use the new FeatureColumn APIs instead.\n",
      "W0726 16:08:31.021466 140211390670720 deprecation.py:323] From /usr/local/lib/python3.6/dist-packages/tensorflow/python/feature_column/feature_column_v2.py:4236: VocabularyListCategoricalColumn._get_sparse_tensors (from tensorflow.python.feature_column.feature_column_v2) is deprecated and will be removed in a future version.\n",
      "Instructions for updating:\n",
      "The old _FeatureColumn APIs are being deprecated. Please use the new FeatureColumn APIs instead.\n",
      "W0726 16:08:31.023599 140211390670720 deprecation.py:323] From /usr/local/lib/python3.6/dist-packages/tensorflow/python/feature_column/feature_column.py:2115: VocabularyListCategoricalColumn._transform_feature (from tensorflow.python.feature_column.feature_column_v2) is deprecated and will be removed in a future version.\n",
      "Instructions for updating:\n",
      "The old _FeatureColumn APIs are being deprecated. Please use the new FeatureColumn APIs instead.\n",
      "W0726 16:08:31.029640 140211390670720 deprecation.py:323] From /usr/local/lib/python3.6/dist-packages/tensorflow/python/feature_column/feature_column_v2.py:4207: IndicatorColumn._variable_shape (from tensorflow.python.feature_column.feature_column_v2) is deprecated and will be removed in a future version.\n",
      "Instructions for updating:\n",
      "The old _FeatureColumn APIs are being deprecated. Please use the new FeatureColumn APIs instead.\n",
      "W0726 16:08:31.031328 140211390670720 deprecation.py:323] From /usr/local/lib/python3.6/dist-packages/tensorflow/python/feature_column/feature_column_v2.py:4262: VocabularyListCategoricalColumn._num_buckets (from tensorflow.python.feature_column.feature_column_v2) is deprecated and will be removed in a future version.\n",
      "Instructions for updating:\n",
      "The old _FeatureColumn APIs are being deprecated. Please use the new FeatureColumn APIs instead.\n"
     ]
    },
    {
     "data": {
      "text/plain": [
       "<tf.Tensor: id=5099, shape=(10, 7), dtype=float32, numpy=\n",
       "array([[49.,  1.,  0.,  0.,  0.,  0.,  0.],\n",
       "       [33.,  0.,  0.,  0.,  0.,  1.,  0.],\n",
       "       [51.,  1.,  0.,  0.,  0.,  0.,  0.],\n",
       "       [32.,  0.,  0.,  0.,  0.,  0.,  1.],\n",
       "       [27.,  1.,  0.,  0.,  0.,  0.,  0.],\n",
       "       [53.,  0.,  0.,  0.,  0.,  0.,  1.],\n",
       "       [50.,  0.,  0.,  0.,  0.,  1.,  0.],\n",
       "       [48.,  1.,  0.,  0.,  0.,  0.,  0.],\n",
       "       [22.,  0.,  0.,  0.,  1.,  0.,  0.],\n",
       "       [46.,  1.,  0.,  0.,  0.,  0.,  0.]], dtype=float32)>"
      ]
     },
     "execution_count": 23,
     "metadata": {
      "tags": []
     },
     "output_type": "execute_result"
    }
   ],
   "source": [
    "fc.input_layer(feature_batch, [age, fc.indicator_column(relationship)])"
   ]
  },
  {
   "cell_type": "markdown",
   "metadata": {
    "colab_type": "text",
    "id": "NIPT3Wqc-kD9"
   },
   "source": [
    "如果我们事先不知道可能值的集合，请改用 categorical_column_with_hash_bucket："
   ]
  },
  {
   "cell_type": "code",
   "execution_count": 0,
   "metadata": {
    "colab": {},
    "colab_type": "code",
    "id": "yaybLRdy-mIG"
   },
   "outputs": [],
   "source": [
    "occupation = tf.feature_column.categorical_column_with_hash_bucket(\n",
    "    'occupation', hash_bucket_size=1000)"
   ]
  },
  {
   "cell_type": "markdown",
   "metadata": {
    "colab_type": "text",
    "id": "o33krCFn-pWs"
   },
   "source": [
    "在本示例中，我们在训练中看到的特征列 occupation 中的每个可能值都已经过哈希处理，变成整数 ID。以下示例批次包含几种不同的职业："
   ]
  },
  {
   "cell_type": "code",
   "execution_count": 25,
   "metadata": {
    "colab": {
     "base_uri": "https://localhost:8080/",
     "height": 197
    },
    "colab_type": "code",
    "executionInfo": {
     "elapsed": 63417,
     "status": "ok",
     "timestamp": 1564157316822,
     "user": {
      "displayName": "potato black",
      "photoUrl": "https://lh4.googleusercontent.com/-MvViDlnQyME/AAAAAAAAAAI/AAAAAAAAABU/Oj0wIrTkzFU/s64/photo.jpg",
      "userId": "12825119026917731253"
     },
     "user_tz": -480
    },
    "id": "MyHDtYJ9-rKQ",
    "outputId": "08c6fb91-606f-4f16-831e-cd37e0d42469"
   },
   "outputs": [
    {
     "name": "stdout",
     "output_type": "stream",
     "text": [
      "Exec-managerial\n",
      "Exec-managerial\n",
      "Protective-serv\n",
      "Adm-clerical\n",
      "Sales\n",
      "Adm-clerical\n",
      "Prof-specialty\n",
      "Exec-managerial\n",
      "Adm-clerical\n",
      "Exec-managerial\n"
     ]
    }
   ],
   "source": [
    "for item in feature_batch['occupation'].numpy():\n",
    "    print(item.decode())"
   ]
  },
  {
   "cell_type": "markdown",
   "metadata": {
    "colab_type": "text",
    "id": "IxSYLDPN-ueq"
   },
   "source": [
    "如果我们使用经过哈希处理的列运行 input_layer，则看到输出形状为 (batch_size, hash_bucket_size)："
   ]
  },
  {
   "cell_type": "code",
   "execution_count": 26,
   "metadata": {
    "colab": {
     "base_uri": "https://localhost:8080/",
     "height": 217
    },
    "colab_type": "code",
    "executionInfo": {
     "elapsed": 63417,
     "status": "ok",
     "timestamp": 1564157316823,
     "user": {
      "displayName": "potato black",
      "photoUrl": "https://lh4.googleusercontent.com/-MvViDlnQyME/AAAAAAAAAAI/AAAAAAAAABU/Oj0wIrTkzFU/s64/photo.jpg",
      "userId": "12825119026917731253"
     },
     "user_tz": -480
    },
    "id": "enQB86C8-whE",
    "outputId": "b541f4d0-2dc9-4b95-b78a-a6277460ac2a"
   },
   "outputs": [
    {
     "name": "stderr",
     "output_type": "stream",
     "text": [
      "W0726 16:08:31.071437 140211390670720 deprecation.py:323] From /usr/local/lib/python3.6/dist-packages/tensorflow/python/feature_column/feature_column_v2.py:4236: HashedCategoricalColumn._get_sparse_tensors (from tensorflow.python.feature_column.feature_column_v2) is deprecated and will be removed in a future version.\n",
      "Instructions for updating:\n",
      "The old _FeatureColumn APIs are being deprecated. Please use the new FeatureColumn APIs instead.\n",
      "W0726 16:08:31.074429 140211390670720 deprecation.py:323] From /usr/local/lib/python3.6/dist-packages/tensorflow/python/feature_column/feature_column.py:2115: HashedCategoricalColumn._transform_feature (from tensorflow.python.feature_column.feature_column_v2) is deprecated and will be removed in a future version.\n",
      "Instructions for updating:\n",
      "The old _FeatureColumn APIs are being deprecated. Please use the new FeatureColumn APIs instead.\n",
      "W0726 16:08:31.078523 140211390670720 deprecation.py:323] From /usr/local/lib/python3.6/dist-packages/tensorflow/python/feature_column/feature_column_v2.py:4262: HashedCategoricalColumn._num_buckets (from tensorflow.python.feature_column.feature_column_v2) is deprecated and will be removed in a future version.\n",
      "Instructions for updating:\n",
      "The old _FeatureColumn APIs are being deprecated. Please use the new FeatureColumn APIs instead.\n"
     ]
    },
    {
     "data": {
      "text/plain": [
       "(10, 1000)"
      ]
     },
     "execution_count": 26,
     "metadata": {
      "tags": []
     },
     "output_type": "execute_result"
    }
   ],
   "source": [
    "occupation_result = fc.input_layer(feature_batch, [fc.indicator_column(occupation)])\n",
    "\n",
    "occupation_result.numpy().shape"
   ]
  },
  {
   "cell_type": "markdown",
   "metadata": {
    "colab_type": "text",
    "id": "fwV7vSip-0hu"
   },
   "source": [
    "如果我们对 hash_bucket_size 维度执行 tf.argmax 操作，则更容易看到实际结果。请注意，所有重复的职业都映射到相同的伪随机索引："
   ]
  },
  {
   "cell_type": "code",
   "execution_count": 27,
   "metadata": {
    "colab": {
     "base_uri": "https://localhost:8080/",
     "height": 35
    },
    "colab_type": "code",
    "executionInfo": {
     "elapsed": 63415,
     "status": "ok",
     "timestamp": 1564157316823,
     "user": {
      "displayName": "potato black",
      "photoUrl": "https://lh4.googleusercontent.com/-MvViDlnQyME/AAAAAAAAAAI/AAAAAAAAABU/Oj0wIrTkzFU/s64/photo.jpg",
      "userId": "12825119026917731253"
     },
     "user_tz": -480
    },
    "id": "8fABJwqR-17j",
    "outputId": "ba74440d-3542-4610-8cac-9f2ee15bb7dc"
   },
   "outputs": [
    {
     "data": {
      "text/plain": [
       "array([800, 800, 684,  96, 631,  96, 979, 800,  96, 800])"
      ]
     },
     "execution_count": 27,
     "metadata": {
      "tags": []
     },
     "output_type": "execute_result"
    }
   ],
   "source": [
    "tf.argmax(occupation_result, axis=1).numpy()"
   ]
  },
  {
   "cell_type": "markdown",
   "metadata": {
    "colab_type": "text",
    "id": "jxTzFRvu-8yK"
   },
   "source": [
    "我们可以使用类似的技巧定义其他类别特征："
   ]
  },
  {
   "cell_type": "code",
   "execution_count": 0,
   "metadata": {
    "colab": {},
    "colab_type": "code",
    "id": "C1ix-aq0--oA"
   },
   "outputs": [],
   "source": [
    "education = tf.feature_column.categorical_column_with_vocabulary_list(\n",
    "    'education', [\n",
    "        'Bachelors', 'HS-grad', '11th', 'Masters', '9th', 'Some-college',\n",
    "        'Assoc-acdm', 'Assoc-voc', '7th-8th', 'Doctorate', 'Prof-school',\n",
    "        '5th-6th', '10th', '1st-4th', 'Preschool', '12th'])\n",
    "\n",
    "marital_status = tf.feature_column.categorical_column_with_vocabulary_list(\n",
    "    'marital_status', [\n",
    "        'Married-civ-spouse', 'Divorced', 'Married-spouse-absent',\n",
    "        'Never-married', 'Separated', 'Married-AF-spouse', 'Widowed'])\n",
    "\n",
    "workclass = tf.feature_column.categorical_column_with_vocabulary_list(\n",
    "    'workclass', [\n",
    "        'Self-emp-not-inc', 'Private', 'State-gov', 'Federal-gov',\n",
    "        'Local-gov', '?', 'Self-emp-inc', 'Without-pay', 'Never-worked'])\n",
    "\n",
    "my_categorical_columns = [relationship, occupation, education, marital_status, workclass]"
   ]
  },
  {
   "cell_type": "markdown",
   "metadata": {
    "colab_type": "text",
    "id": "__T4Vqfc_CDt"
   },
   "source": [
    "使用以上两组列可轻松配置使用所有这些特征的模型："
   ]
  },
  {
   "cell_type": "code",
   "execution_count": 29,
   "metadata": {
    "colab": {
     "base_uri": "https://localhost:8080/",
     "height": 215
    },
    "colab_type": "code",
    "executionInfo": {
     "elapsed": 1610,
     "status": "ok",
     "timestamp": 1564157329094,
     "user": {
      "displayName": "potato black",
      "photoUrl": "https://lh4.googleusercontent.com/-MvViDlnQyME/AAAAAAAAAAI/AAAAAAAAABU/Oj0wIrTkzFU/s64/photo.jpg",
      "userId": "12825119026917731253"
     },
     "user_tz": -480
    },
    "id": "l_2oxnMR_DFc",
    "outputId": "16829a62-d3d9-46e3-cf72-409801cd5603"
   },
   "outputs": [
    {
     "name": "stdout",
     "output_type": "stream",
     "text": [
      "accuracy: 0.83225846\n",
      "accuracy_baseline: 0.76377374\n",
      "auc: 0.8775589\n",
      "auc_precision_recall: 0.65132797\n",
      "average_loss: 1.8704863\n",
      "global_step: 1018\n",
      "label/mean: 0.23622628\n",
      "loss: 119.42505\n",
      "precision: 0.6550765\n",
      "prediction/mean: 0.2530076\n",
      "recall: 0.6123245\n"
     ]
    }
   ],
   "source": [
    "classifier = tf.estimator.LinearClassifier(feature_columns=my_numeric_columns+my_categorical_columns)\n",
    "classifier.train(train_inpf)\n",
    "result = classifier.evaluate(test_inpf)\n",
    "\n",
    "clear_output()\n",
    "\n",
    "for key,value in sorted(result.items()):\n",
    "  print('%s: %s' % (key, value))"
   ]
  },
  {
   "cell_type": "markdown",
   "metadata": {
    "colab_type": "text",
    "id": "E-8wV32__HAm"
   },
   "source": [
    "#### 衍生特征列"
   ]
  },
  {
   "cell_type": "markdown",
   "metadata": {
    "colab_type": "text",
    "id": "gZXrmP0L_Q3m"
   },
   "source": [
    "通过分桶将连续特征变成类别特征"
   ]
  },
  {
   "cell_type": "markdown",
   "metadata": {
    "colab_type": "text",
    "id": "u0-5y0LE_Ww_"
   },
   "source": [
    "如果我们要分别学习收入与各个年龄段之间的精细关系，则可以采用分桶技巧。分桶是将整个连续特征范围分割为一组连续分桶，然后根据值所在的分桶将原数值特征转换为分桶 ID（作为类别特征）的过程。因此，我们可以针对 age 将 bucketized_column 定义为："
   ]
  },
  {
   "cell_type": "code",
   "execution_count": 0,
   "metadata": {
    "colab": {},
    "colab_type": "code",
    "id": "ayZ_1obM_NFk"
   },
   "outputs": [],
   "source": [
    "age_buckets = tf.feature_column.bucketized_column(\n",
    "    age, boundaries=[18, 25, 30, 35, 40, 45, 50, 55, 60, 65])"
   ]
  },
  {
   "cell_type": "markdown",
   "metadata": {
    "colab_type": "text",
    "id": "JURUfTvt_boO"
   },
   "source": [
    "boundaries 是分桶边界列表。本示例中有 10 个边界，因此会生成 11 个年龄段分桶（17 岁及以下、18-24 岁、25-29 岁、…，以及 65 岁及以上）。"
   ]
  },
  {
   "cell_type": "markdown",
   "metadata": {
    "colab_type": "text",
    "id": "bIB9hVxf_dp5"
   },
   "source": [
    "通过分桶，模型将每个分桶视为一个独热特征："
   ]
  },
  {
   "cell_type": "code",
   "execution_count": 31,
   "metadata": {
    "colab": {
     "base_uri": "https://localhost:8080/",
     "height": 397
    },
    "colab_type": "code",
    "executionInfo": {
     "elapsed": 75689,
     "status": "ok",
     "timestamp": 1564157329100,
     "user": {
      "displayName": "potato black",
      "photoUrl": "https://lh4.googleusercontent.com/-MvViDlnQyME/AAAAAAAAAAI/AAAAAAAAABU/Oj0wIrTkzFU/s64/photo.jpg",
      "userId": "12825119026917731253"
     },
     "user_tz": -480
    },
    "id": "Z6ZldrG9_fMc",
    "outputId": "7b8f6fe0-b374-45cc-f132-914ef50060b9"
   },
   "outputs": [
    {
     "name": "stderr",
     "output_type": "stream",
     "text": [
      "W0726 16:08:43.146164 140211390670720 deprecation.py:323] From /usr/local/lib/python3.6/dist-packages/tensorflow/python/feature_column/feature_column.py:205: BucketizedColumn._get_dense_tensor (from tensorflow.python.feature_column.feature_column_v2) is deprecated and will be removed in a future version.\n",
      "Instructions for updating:\n",
      "The old _FeatureColumn APIs are being deprecated. Please use the new FeatureColumn APIs instead.\n",
      "W0726 16:08:43.147512 140211390670720 deprecation.py:323] From /usr/local/lib/python3.6/dist-packages/tensorflow/python/feature_column/feature_column.py:2115: BucketizedColumn._transform_feature (from tensorflow.python.feature_column.feature_column_v2) is deprecated and will be removed in a future version.\n",
      "Instructions for updating:\n",
      "The old _FeatureColumn APIs are being deprecated. Please use the new FeatureColumn APIs instead.\n",
      "W0726 16:08:43.150929 140211390670720 deprecation.py:323] From /usr/local/lib/python3.6/dist-packages/tensorflow/python/feature_column/feature_column.py:206: BucketizedColumn._variable_shape (from tensorflow.python.feature_column.feature_column_v2) is deprecated and will be removed in a future version.\n",
      "Instructions for updating:\n",
      "The old _FeatureColumn APIs are being deprecated. Please use the new FeatureColumn APIs instead.\n"
     ]
    },
    {
     "data": {
      "text/plain": [
       "array([[49.,  0.,  0.,  0.,  0.,  0.,  0.,  1.,  0.,  0.,  0.,  0.],\n",
       "       [33.,  0.,  0.,  0.,  1.,  0.,  0.,  0.,  0.,  0.,  0.,  0.],\n",
       "       [51.,  0.,  0.,  0.,  0.,  0.,  0.,  0.,  1.,  0.,  0.,  0.],\n",
       "       [32.,  0.,  0.,  0.,  1.,  0.,  0.,  0.,  0.,  0.,  0.,  0.],\n",
       "       [27.,  0.,  0.,  1.,  0.,  0.,  0.,  0.,  0.,  0.,  0.,  0.],\n",
       "       [53.,  0.,  0.,  0.,  0.,  0.,  0.,  0.,  1.,  0.,  0.,  0.],\n",
       "       [50.,  0.,  0.,  0.,  0.,  0.,  0.,  0.,  1.,  0.,  0.,  0.],\n",
       "       [48.,  0.,  0.,  0.,  0.,  0.,  0.,  1.,  0.,  0.,  0.,  0.],\n",
       "       [22.,  0.,  1.,  0.,  0.,  0.,  0.,  0.,  0.,  0.,  0.,  0.],\n",
       "       [46.,  0.,  0.,  0.,  0.,  0.,  0.,  1.,  0.,  0.,  0.,  0.]],\n",
       "      dtype=float32)"
      ]
     },
     "execution_count": 31,
     "metadata": {
      "tags": []
     },
     "output_type": "execute_result"
    }
   ],
   "source": [
    "fc.input_layer(feature_batch, [age, age_buckets]).numpy()"
   ]
  },
  {
   "cell_type": "markdown",
   "metadata": {
    "colab_type": "text",
    "id": "L3yGr6mN_jLe"
   },
   "source": [
    "通过组合列学习复杂关系"
   ]
  },
  {
   "cell_type": "markdown",
   "metadata": {
    "colab_type": "text",
    "id": "oA98HOTb_qis"
   },
   "source": [
    "要了解各个特征组合之间的差异，我们可以向模型中添加组合特征列"
   ]
  },
  {
   "cell_type": "code",
   "execution_count": 0,
   "metadata": {
    "colab": {},
    "colab_type": "code",
    "id": "-cO6hfGP_uFg"
   },
   "outputs": [],
   "source": [
    "education_x_occupation = tf.feature_column.crossed_column(\n",
    "    ['education', 'occupation'], hash_bucket_size=1000)"
   ]
  },
  {
   "cell_type": "markdown",
   "metadata": {
    "colab_type": "text",
    "id": "hmjJkfQR_xB8"
   },
   "source": [
    "我们还可以针对两个以上的列创建一个 crossed_column。每个组成列可以是类别基准特征列 (SparseColumn)、分桶实值特征列，也可以是其他 CrossColumn。例如："
   ]
  },
  {
   "cell_type": "code",
   "execution_count": 0,
   "metadata": {
    "colab": {},
    "colab_type": "code",
    "id": "azWKDYzt_yXY"
   },
   "outputs": [],
   "source": [
    "age_buckets_x_education_x_occupation = tf.feature_column.crossed_column(\n",
    "    [age_buckets, 'education', 'occupation'], hash_bucket_size=1000)"
   ]
  },
  {
   "cell_type": "markdown",
   "metadata": {
    "colab_type": "text",
    "id": "ZCf88dRx_6Sk"
   },
   "source": [
    "### 定义逻辑回归模型"
   ]
  },
  {
   "cell_type": "markdown",
   "metadata": {
    "colab_type": "text",
    "id": "ZdkPVKuzASVv"
   },
   "source": [
    "处理输入数据并定义所有特征列后，我们可以将它们整合在一起，并构建逻辑回归模型。上一部分介绍了几类基准特征列和衍生特征列，包括：\n",
    "\n",
    "- CategoricalColumn\n",
    "- NumericColumn\n",
    "- BucketizedColumn\n",
    "- CrossedColumn"
   ]
  },
  {
   "cell_type": "markdown",
   "metadata": {
    "colab_type": "text",
    "id": "6zBdCjdXAEAR"
   },
   "source": [
    "所有这些列都是抽象 FeatureColumn 类的子类，并且可添加到模型的 feature_columns 字段中："
   ]
  },
  {
   "cell_type": "code",
   "execution_count": 0,
   "metadata": {
    "colab": {},
    "colab_type": "code",
    "id": "8Nd7xt_7_-qc"
   },
   "outputs": [],
   "source": [
    "import tempfile\n",
    "\n",
    "base_columns = [\n",
    "    education, marital_status, relationship, workclass, occupation,\n",
    "    age_buckets,\n",
    "]\n",
    "\n",
    "crossed_columns = [\n",
    "    tf.feature_column.crossed_column(\n",
    "        ['education', 'occupation'], hash_bucket_size=1000),\n",
    "    tf.feature_column.crossed_column(\n",
    "        [age_buckets, 'education', 'occupation'], hash_bucket_size=1000),\n",
    "]\n",
    "\n",
    "model = tf.estimator.LinearClassifier(\n",
    "    model_dir=tempfile.mkdtemp(),\n",
    "    feature_columns=base_columns + crossed_columns,\n",
    "    optimizer=tf.train.FtrlOptimizer(learning_rate=0.1))"
   ]
  },
  {
   "cell_type": "markdown",
   "metadata": {
    "colab_type": "text",
    "id": "2wH6znmdAJ_y"
   },
   "source": [
    "模型会自动学习偏差项，偏差项可控制所进行的预测，而无需观察任何特征。学习的模型文件存储在 model_dir 中。"
   ]
  },
  {
   "cell_type": "markdown",
   "metadata": {
    "colab_type": "text",
    "id": "uHpRzQDhAbvV"
   },
   "source": [
    "### 训练和评估模型"
   ]
  },
  {
   "cell_type": "markdown",
   "metadata": {
    "colab_type": "text",
    "id": "UyLdkEPPAk7z"
   },
   "source": [
    "将所有特征添加到模型中后，开始训练模型。训练模型只需一个使用 tf.estimator API 的命令："
   ]
  },
  {
   "cell_type": "code",
   "execution_count": 0,
   "metadata": {
    "colab": {},
    "colab_type": "code",
    "id": "Fc36vi0kAhWu"
   },
   "outputs": [],
   "source": [
    "train_inpf = functools.partial(census_dataset.input_fn, train_file,\n",
    "                               num_epochs=40, shuffle=True, batch_size=64)\n",
    "\n",
    "model.train(train_inpf)\n",
    "\n",
    "clear_output()  # used for notebook display"
   ]
  },
  {
   "cell_type": "markdown",
   "metadata": {
    "colab_type": "text",
    "id": "Do8Z66yKApth"
   },
   "source": [
    "训练模型后，通过预测维持数据的标签来评估模型的准确率："
   ]
  },
  {
   "cell_type": "code",
   "execution_count": 36,
   "metadata": {
    "colab": {
     "base_uri": "https://localhost:8080/",
     "height": 215
    },
    "colab_type": "code",
    "executionInfo": {
     "elapsed": 1061,
     "status": "ok",
     "timestamp": 1564157421516,
     "user": {
      "displayName": "potato black",
      "photoUrl": "https://lh4.googleusercontent.com/-MvViDlnQyME/AAAAAAAAAAI/AAAAAAAAABU/Oj0wIrTkzFU/s64/photo.jpg",
      "userId": "12825119026917731253"
     },
     "user_tz": -480
    },
    "id": "kyfp0RdRAryO",
    "outputId": "3c497422-f63c-4b2d-8fa5-da29dc8d570c"
   },
   "outputs": [
    {
     "name": "stdout",
     "output_type": "stream",
     "text": [
      "accuracy: 0.83\n",
      "accuracy_baseline: 0.76\n",
      "auc: 0.88\n",
      "auc_precision_recall: 0.65\n",
      "average_loss: 1.87\n",
      "global_step: 1018.00\n",
      "label/mean: 0.24\n",
      "loss: 119.43\n",
      "precision: 0.66\n",
      "prediction/mean: 0.25\n",
      "recall: 0.61\n"
     ]
    }
   ],
   "source": [
    "results = model.evaluate(test_inpf)\n",
    "\n",
    "clear_output()\n",
    "\n",
    "for key,value in sorted(result.items()):\n",
    "  print('%s: %0.2f' % (key, value))"
   ]
  },
  {
   "cell_type": "markdown",
   "metadata": {
    "colab_type": "text",
    "id": "HYmzBNhWAvL-"
   },
   "source": [
    "输出的第一行应显示诸如 accuracy: 0.83 的内容，表示准确率为 83%。您可以尝试使用更多特征和转换，看看能否取得更好的结果！"
   ]
  },
  {
   "cell_type": "markdown",
   "metadata": {
    "colab_type": "text",
    "id": "CtMJ8V8MAxST"
   },
   "source": [
    "评估模型后，我们可以向模型输入某个人的信息，让其预测这个人的年收入是否超过 5 万美元。"
   ]
  },
  {
   "cell_type": "markdown",
   "metadata": {
    "colab_type": "text",
    "id": "y2ucyWJiAzwG"
   },
   "source": [
    "我们来详细了解一下模型的表现："
   ]
  },
  {
   "cell_type": "code",
   "execution_count": 37,
   "metadata": {
    "colab": {
     "base_uri": "https://localhost:8080/",
     "height": 669
    },
    "colab_type": "code",
    "executionInfo": {
     "elapsed": 867,
     "status": "ok",
     "timestamp": 1564157423245,
     "user": {
      "displayName": "potato black",
      "photoUrl": "https://lh4.googleusercontent.com/-MvViDlnQyME/AAAAAAAAAAI/AAAAAAAAABU/Oj0wIrTkzFU/s64/photo.jpg",
      "userId": "12825119026917731253"
     },
     "user_tz": -480
    },
    "id": "5lXYE6PdA1vD",
    "outputId": "d6fbe1d3-4827-45a4-fb1f-ede58ece0560"
   },
   "outputs": [
    {
     "data": {
      "text/html": [
       "<div>\n",
       "<style scoped>\n",
       "    .dataframe tbody tr th:only-of-type {\n",
       "        vertical-align: middle;\n",
       "    }\n",
       "\n",
       "    .dataframe tbody tr th {\n",
       "        vertical-align: top;\n",
       "    }\n",
       "\n",
       "    .dataframe thead th {\n",
       "        text-align: right;\n",
       "    }\n",
       "</style>\n",
       "<table border=\"1\" class=\"dataframe\">\n",
       "  <thead>\n",
       "    <tr style=\"text-align: right;\">\n",
       "      <th></th>\n",
       "      <th>income_bracket</th>\n",
       "      <th>predicted_class</th>\n",
       "      <th>correct</th>\n",
       "    </tr>\n",
       "  </thead>\n",
       "  <tbody>\n",
       "    <tr>\n",
       "      <th>0</th>\n",
       "      <td>&lt;=50K</td>\n",
       "      <td>&lt;=50K</td>\n",
       "      <td>True</td>\n",
       "    </tr>\n",
       "    <tr>\n",
       "      <th>1</th>\n",
       "      <td>&lt;=50K</td>\n",
       "      <td>&lt;=50K</td>\n",
       "      <td>True</td>\n",
       "    </tr>\n",
       "    <tr>\n",
       "      <th>2</th>\n",
       "      <td>&gt;50K</td>\n",
       "      <td>&lt;=50K</td>\n",
       "      <td>False</td>\n",
       "    </tr>\n",
       "    <tr>\n",
       "      <th>3</th>\n",
       "      <td>&gt;50K</td>\n",
       "      <td>&lt;=50K</td>\n",
       "      <td>False</td>\n",
       "    </tr>\n",
       "    <tr>\n",
       "      <th>4</th>\n",
       "      <td>&lt;=50K</td>\n",
       "      <td>&lt;=50K</td>\n",
       "      <td>True</td>\n",
       "    </tr>\n",
       "    <tr>\n",
       "      <th>5</th>\n",
       "      <td>&lt;=50K</td>\n",
       "      <td>&lt;=50K</td>\n",
       "      <td>True</td>\n",
       "    </tr>\n",
       "    <tr>\n",
       "      <th>6</th>\n",
       "      <td>&lt;=50K</td>\n",
       "      <td>&lt;=50K</td>\n",
       "      <td>True</td>\n",
       "    </tr>\n",
       "    <tr>\n",
       "      <th>7</th>\n",
       "      <td>&gt;50K</td>\n",
       "      <td>&gt;50K</td>\n",
       "      <td>True</td>\n",
       "    </tr>\n",
       "    <tr>\n",
       "      <th>8</th>\n",
       "      <td>&lt;=50K</td>\n",
       "      <td>&lt;=50K</td>\n",
       "      <td>True</td>\n",
       "    </tr>\n",
       "    <tr>\n",
       "      <th>9</th>\n",
       "      <td>&lt;=50K</td>\n",
       "      <td>&lt;=50K</td>\n",
       "      <td>True</td>\n",
       "    </tr>\n",
       "    <tr>\n",
       "      <th>10</th>\n",
       "      <td>&gt;50K</td>\n",
       "      <td>&lt;=50K</td>\n",
       "      <td>False</td>\n",
       "    </tr>\n",
       "    <tr>\n",
       "      <th>11</th>\n",
       "      <td>&lt;=50K</td>\n",
       "      <td>&gt;50K</td>\n",
       "      <td>False</td>\n",
       "    </tr>\n",
       "    <tr>\n",
       "      <th>12</th>\n",
       "      <td>&lt;=50K</td>\n",
       "      <td>&lt;=50K</td>\n",
       "      <td>True</td>\n",
       "    </tr>\n",
       "    <tr>\n",
       "      <th>13</th>\n",
       "      <td>&lt;=50K</td>\n",
       "      <td>&lt;=50K</td>\n",
       "      <td>True</td>\n",
       "    </tr>\n",
       "    <tr>\n",
       "      <th>14</th>\n",
       "      <td>&gt;50K</td>\n",
       "      <td>&lt;=50K</td>\n",
       "      <td>False</td>\n",
       "    </tr>\n",
       "    <tr>\n",
       "      <th>15</th>\n",
       "      <td>&gt;50K</td>\n",
       "      <td>&gt;50K</td>\n",
       "      <td>True</td>\n",
       "    </tr>\n",
       "    <tr>\n",
       "      <th>16</th>\n",
       "      <td>&lt;=50K</td>\n",
       "      <td>&lt;=50K</td>\n",
       "      <td>True</td>\n",
       "    </tr>\n",
       "    <tr>\n",
       "      <th>17</th>\n",
       "      <td>&lt;=50K</td>\n",
       "      <td>&lt;=50K</td>\n",
       "      <td>True</td>\n",
       "    </tr>\n",
       "    <tr>\n",
       "      <th>18</th>\n",
       "      <td>&lt;=50K</td>\n",
       "      <td>&lt;=50K</td>\n",
       "      <td>True</td>\n",
       "    </tr>\n",
       "    <tr>\n",
       "      <th>19</th>\n",
       "      <td>&gt;50K</td>\n",
       "      <td>&gt;50K</td>\n",
       "      <td>True</td>\n",
       "    </tr>\n",
       "  </tbody>\n",
       "</table>\n",
       "</div>"
      ],
      "text/plain": [
       "   income_bracket predicted_class  correct\n",
       "0           <=50K           <=50K     True\n",
       "1           <=50K           <=50K     True\n",
       "2            >50K           <=50K    False\n",
       "3            >50K           <=50K    False\n",
       "4           <=50K           <=50K     True\n",
       "5           <=50K           <=50K     True\n",
       "6           <=50K           <=50K     True\n",
       "7            >50K            >50K     True\n",
       "8           <=50K           <=50K     True\n",
       "9           <=50K           <=50K     True\n",
       "10           >50K           <=50K    False\n",
       "11          <=50K            >50K    False\n",
       "12          <=50K           <=50K     True\n",
       "13          <=50K           <=50K     True\n",
       "14           >50K           <=50K    False\n",
       "15           >50K            >50K     True\n",
       "16          <=50K           <=50K     True\n",
       "17          <=50K           <=50K     True\n",
       "18          <=50K           <=50K     True\n",
       "19           >50K            >50K     True"
      ]
     },
     "execution_count": 37,
     "metadata": {
      "tags": []
     },
     "output_type": "execute_result"
    }
   ],
   "source": [
    "import numpy as np\n",
    "\n",
    "predict_df = test_df[:20].copy()\n",
    "\n",
    "pred_iter = model.predict(\n",
    "    lambda:easy_input_function(predict_df, label_key='income_bracket',\n",
    "                               num_epochs=1, shuffle=False, batch_size=10))\n",
    "\n",
    "classes = np.array(['<=50K', '>50K'])\n",
    "pred_class_id = []\n",
    "\n",
    "for pred_dict in pred_iter:\n",
    "  pred_class_id.append(pred_dict['class_ids'])\n",
    "\n",
    "predict_df['predicted_class'] = classes[np.array(pred_class_id)]\n",
    "predict_df['correct'] = predict_df['predicted_class'] == predict_df['income_bracket']\n",
    "\n",
    "clear_output()\n",
    "\n",
    "predict_df[['income_bracket','predicted_class', 'correct']]"
   ]
  },
  {
   "cell_type": "markdown",
   "metadata": {
    "colab_type": "text",
    "id": "6DHXWpNVA9SX"
   },
   "source": [
    "### 添加正则化以防止过拟合"
   ]
  },
  {
   "cell_type": "markdown",
   "metadata": {
    "colab_type": "text",
    "id": "kHQQ1-c6BDZt"
   },
   "source": [
    "正则化是用于避免过拟合的技术。\n",
    "\n",
    "如果模型在训练数据上表现良好，但在从未见过的测试数据上表现糟糕，就表示发生了过拟合。\n",
    "\n",
    "模型过于复杂（例如，相对于观察的训练数据量而言，采用的参数过多）会发生过拟合。\n",
    "\n",
    "借助正则化，您能够控制模型的复杂度，并使模型能够更好地泛化到未见过的数据。"
   ]
  },
  {
   "cell_type": "markdown",
   "metadata": {
    "colab_type": "text",
    "id": "G7BiUGapBKHj"
   },
   "source": [
    "使用以下代码向模型中添加 L1 和 L2 正则化："
   ]
  },
  {
   "cell_type": "code",
   "execution_count": 38,
   "metadata": {
    "colab": {
     "base_uri": "https://localhost:8080/",
     "height": 215
    },
    "colab_type": "code",
    "executionInfo": {
     "elapsed": 1076,
     "status": "ok",
     "timestamp": 1564157517412,
     "user": {
      "displayName": "potato black",
      "photoUrl": "https://lh4.googleusercontent.com/-MvViDlnQyME/AAAAAAAAAAI/AAAAAAAAABU/Oj0wIrTkzFU/s64/photo.jpg",
      "userId": "12825119026917731253"
     },
     "user_tz": -480
    },
    "id": "iWdIzcRxBTCt",
    "outputId": "17c709c5-1f65-4860-c8b3-c4bc5989c939"
   },
   "outputs": [
    {
     "name": "stdout",
     "output_type": "stream",
     "text": [
      "accuracy: 0.84\n",
      "accuracy_baseline: 0.76\n",
      "auc: 0.88\n",
      "auc_precision_recall: 0.69\n",
      "average_loss: 0.35\n",
      "global_step: 20351.00\n",
      "label/mean: 0.24\n",
      "loss: 22.47\n",
      "precision: 0.69\n",
      "prediction/mean: 0.24\n",
      "recall: 0.56\n"
     ]
    }
   ],
   "source": [
    "model_l1 = tf.estimator.LinearClassifier(\n",
    "    feature_columns=base_columns + crossed_columns,\n",
    "    optimizer=tf.train.FtrlOptimizer(\n",
    "        learning_rate=0.1,\n",
    "        l1_regularization_strength=10.0,\n",
    "        l2_regularization_strength=0.0))\n",
    "\n",
    "model_l1.train(train_inpf)\n",
    "\n",
    "results = model_l1.evaluate(test_inpf)\n",
    "clear_output()\n",
    "for key in sorted(results):\n",
    "  print('%s: %0.2f' % (key, results[key]))"
   ]
  },
  {
   "cell_type": "code",
   "execution_count": 39,
   "metadata": {
    "colab": {
     "base_uri": "https://localhost:8080/",
     "height": 215
    },
    "colab_type": "code",
    "executionInfo": {
     "elapsed": 1238,
     "status": "ok",
     "timestamp": 1564157612079,
     "user": {
      "displayName": "potato black",
      "photoUrl": "https://lh4.googleusercontent.com/-MvViDlnQyME/AAAAAAAAAAI/AAAAAAAAABU/Oj0wIrTkzFU/s64/photo.jpg",
      "userId": "12825119026917731253"
     },
     "user_tz": -480
    },
    "id": "B4QwZTRCBWmU",
    "outputId": "05f7d57b-80e8-49eb-bd03-c08e70b799ce"
   },
   "outputs": [
    {
     "name": "stdout",
     "output_type": "stream",
     "text": [
      "accuracy: 0.84\n",
      "accuracy_baseline: 0.76\n",
      "auc: 0.88\n",
      "auc_precision_recall: 0.69\n",
      "average_loss: 0.35\n",
      "global_step: 20351.00\n",
      "label/mean: 0.24\n",
      "loss: 22.46\n",
      "precision: 0.69\n",
      "prediction/mean: 0.24\n",
      "recall: 0.55\n"
     ]
    }
   ],
   "source": [
    "model_l2 = tf.estimator.LinearClassifier(\n",
    "    feature_columns=base_columns + crossed_columns,\n",
    "    optimizer=tf.train.FtrlOptimizer(\n",
    "        learning_rate=0.1,\n",
    "        l1_regularization_strength=0.0,\n",
    "        l2_regularization_strength=10.0))\n",
    "\n",
    "model_l2.train(train_inpf)\n",
    "\n",
    "results = model_l2.evaluate(test_inpf)\n",
    "clear_output()\n",
    "for key in sorted(results):\n",
    "  print('%s: %0.2f' % (key, results[key]))"
   ]
  },
  {
   "cell_type": "markdown",
   "metadata": {
    "colab_type": "text",
    "id": "pDDofvJfBZ5x"
   },
   "source": [
    "这些经过正则化的模型表现得并不比基准模型好很多。我们来看看模型的权重分布，以更好地了解正则化的影响："
   ]
  },
  {
   "cell_type": "code",
   "execution_count": 0,
   "metadata": {
    "colab": {},
    "colab_type": "code",
    "id": "cEVBdBwuBcmV"
   },
   "outputs": [],
   "source": [
    "def get_flat_weights(model):\n",
    "  weight_names = [\n",
    "      name for name in model.get_variable_names()\n",
    "      if \"linear_model\" in name and \"Ftrl\" not in name]\n",
    "\n",
    "  weight_values = [model.get_variable_value(name) for name in weight_names]\n",
    "\n",
    "  weights_flat = np.concatenate([item.flatten() for item in weight_values], axis=0)\n",
    "\n",
    "  return weights_flat\n",
    "\n",
    "weights_flat = get_flat_weights(model)\n",
    "weights_flat_l1 = get_flat_weights(model_l1)\n",
    "weights_flat_l2 = get_flat_weights(model_l2)"
   ]
  },
  {
   "cell_type": "markdown",
   "metadata": {
    "colab_type": "text",
    "id": "kUO5nSMbBghy"
   },
   "source": [
    "模型中包含很多由未使用的哈希分箱所致的零值权重（在某些列中，哈希分箱的数量多于类别数量）。查看权重分布时，我们可以掩盖这些权重："
   ]
  },
  {
   "cell_type": "code",
   "execution_count": 0,
   "metadata": {
    "colab": {},
    "colab_type": "code",
    "id": "gXF7h1PGBiqC"
   },
   "outputs": [],
   "source": [
    "weight_mask = weights_flat != 0\n",
    "\n",
    "weights_base = weights_flat[weight_mask]\n",
    "weights_l1 = weights_flat_l1[weight_mask]\n",
    "weights_l2 = weights_flat_l2[weight_mask]"
   ]
  },
  {
   "cell_type": "markdown",
   "metadata": {
    "colab_type": "text",
    "id": "u39PfR9ZBlEk"
   },
   "source": [
    "现在，绘制分布图："
   ]
  },
  {
   "cell_type": "code",
   "execution_count": 42,
   "metadata": {
    "colab": {
     "base_uri": "https://localhost:8080/",
     "height": 809
    },
    "colab_type": "code",
    "executionInfo": {
     "elapsed": 358665,
     "status": "ok",
     "timestamp": 1564157612088,
     "user": {
      "displayName": "potato black",
      "photoUrl": "https://lh4.googleusercontent.com/-MvViDlnQyME/AAAAAAAAAAI/AAAAAAAAABU/Oj0wIrTkzFU/s64/photo.jpg",
      "userId": "12825119026917731253"
     },
     "user_tz": -480
    },
    "id": "1ZSzCCmzBnRL",
    "outputId": "3d96ecb0-9123-4873-b480-af4bd2846441"
   },
   "outputs": [
    {
     "data": {
      "image/png": "[encoded data removed]",
      "text/plain": [
       "<Figure size 432x288 with 1 Axes>"
      ]
     },
     "metadata": {
      "tags": []
     },
     "output_type": "display_data"
    },
    {
     "data": {
      "image/png": "[encoded data removed]",
      "text/plain": [
       "<Figure size 432x288 with 1 Axes>"
      ]
     },
     "metadata": {
      "tags": []
     },
     "output_type": "display_data"
    },
    {
     "data": {
      "image/png": "[encoded data removed]",
      "text/plain": [
       "<Figure size 432x288 with 1 Axes>"
      ]
     },
     "metadata": {
      "tags": []
     },
     "output_type": "display_data"
    }
   ],
   "source": [
    "plt.figure()\n",
    "_ = plt.hist(weights_base, bins=np.linspace(-3,3,30))\n",
    "plt.title('Base Model')\n",
    "plt.ylim([0,500])\n",
    "\n",
    "plt.figure()\n",
    "_ = plt.hist(weights_l1, bins=np.linspace(-3,3,30))\n",
    "plt.title('L1 - Regularization')\n",
    "plt.ylim([0,500])\n",
    "\n",
    "plt.figure()\n",
    "_ = plt.hist(weights_l2, bins=np.linspace(-3,3,30))\n",
    "plt.title('L2 - Regularization')\n",
    "_=plt.ylim([0,500])\n"
   ]
  },
  {
   "cell_type": "markdown",
   "metadata": {
    "colab_type": "text",
    "id": "7F9CI8_aBrAN"
   },
   "source": [
    "这两种类型的正则化都使权重向零靠近，使其分布在零附近。L2 正则化对分布尾端的影响比较大，可消除极端权重。L1 正则化生成更多确切的零值，在本示例中，它将 ~200 设置为零值。"
   ]
  }
 ],
 "metadata": {
  "colab": {
   "name": "Untitled0.ipynb",
   "provenance": [],
   "toc_visible": true,
   "version": "0.3.2"
  },
  "kernelspec": {
   "display_name": "Python 3",
   "language": "python",
   "name": "python3"
  },
  "language_info": {
   "codemirror_mode": {
    "name": "ipython",
    "version": 3
   },
   "file_extension": ".py",
   "mimetype": "text/x-python",
   "name": "python",
   "nbconvert_exporter": "python",
   "pygments_lexer": "ipython3",
   "version": "3.6.7"
  }
 },
 "nbformat": 4,
 "nbformat_minor": 1
}
