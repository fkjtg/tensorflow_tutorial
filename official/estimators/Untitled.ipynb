{
 "cells": [
  {
   "cell_type": "markdown",
   "metadata": {},
   "source": [
    "原文连接：https://tensorflow.google.cn/tutorials/estimators/linear"
   ]
  },
  {
   "cell_type": "code",
   "execution_count": 1,
   "metadata": {},
   "outputs": [],
   "source": [
    "# 代码自动完成\n",
    "%config IPCompleter.greedy=True"
   ]
  },
  {
   "cell_type": "markdown",
   "metadata": {},
   "source": [
    "导入Tensorflow、特征列和支持模块"
   ]
  },
  {
   "cell_type": "code",
   "execution_count": 2,
   "metadata": {},
   "outputs": [],
   "source": [
    "import tensorflow as tf\n",
    "import tensorflow.feature_column as fc\n",
    "\n",
    "import os \n",
    "import sys\n",
    "import matplotlib.pyplot as plt\n",
    "from IPython.display import clear_output\n"
   ]
  },
  {
   "cell_type": "markdown",
   "metadata": {},
   "source": [
    "启用 Eager Execution"
   ]
  },
  {
   "cell_type": "code",
   "execution_count": 3,
   "metadata": {},
   "outputs": [],
   "source": [
    "tf.enable_eager_execution()"
   ]
  },
  {
   "cell_type": "code",
   "execution_count": 12,
   "metadata": {},
   "outputs": [
    {
     "ename": "AssertionError",
     "evalue": "you are wrong",
     "output_type": "error",
     "traceback": [
      "\u001b[1;31m---------------------------------------------------------------------------\u001b[0m",
      "\u001b[1;31mAssertionError\u001b[0m                            Traceback (most recent call last)",
      "\u001b[1;32m<ipython-input-12-966c1cb6b65b>\u001b[0m in \u001b[0;36m<module>\u001b[1;34m()\u001b[0m\n\u001b[1;32m----> 1\u001b[1;33m \u001b[1;32massert\u001b[0m \u001b[1;36m4\u001b[0m\u001b[1;33m<\u001b[0m\u001b[1;36m3\u001b[0m\u001b[1;33m,\u001b[0m\u001b[1;34m'you are wrong'\u001b[0m\u001b[1;33m\u001b[0m\u001b[0m\n\u001b[0m\u001b[0;32m      2\u001b[0m \u001b[0mprint\u001b[0m\u001b[1;33m(\u001b[0m\u001b[1;34m'right'\u001b[0m\u001b[1;33m)\u001b[0m\u001b[1;33m\u001b[0m\u001b[0m\n",
      "\u001b[1;31mAssertionError\u001b[0m: you are wrong"
     ]
    }
   ],
   "source": [
    "assert 4<3,'you are wrong'\n",
    "print('right')"
   ]
  },
  {
   "cell_type": "markdown",
   "metadata": {},
   "source": [
    "## 下载官方实现"
   ]
  },
  {
   "cell_type": "code",
   "execution_count": 8,
   "metadata": {},
   "outputs": [
    {
     "name": "stderr",
     "output_type": "stream",
     "text": [
      "Cloning into 'models'...\n",
      "fatal: early EOF\n",
      "fatal: The remote end hung up unexpectedly\n",
      "fatal: index-pack failed\n",
      "error: RPC failed; curl 18 transfer closed with outstanding read data remaining\n"
     ]
    }
   ],
   "source": [
    "! pip install -q requests\n",
    "# ! git clone --depth 1 https://github.com/tensorflow/models"
   ]
  },
  {
   "cell_type": "code",
   "execution_count": 10,
   "metadata": {
    "collapsed": true
   },
   "outputs": [
    {
     "name": "stderr",
     "output_type": "stream",
     "text": [
      "Cloning into 'models'...\n",
      "Checking out files:  13% (404/3048)   \n",
      "Checking out files:  14% (427/3048)   \n",
      "Checking out files:  15% (458/3048)   \n",
      "Checking out files:  16% (488/3048)   \n",
      "Checking out files:  17% (519/3048)   \n",
      "Checking out files:  18% (549/3048)   \n",
      "Checking out files:  19% (580/3048)   \n",
      "Checking out files:  20% (610/3048)   \n",
      "Checking out files:  21% (641/3048)   \n",
      "Checking out files:  22% (671/3048)   \n",
      "Checking out files:  23% (702/3048)   \n",
      "Checking out files:  24% (732/3048)   \n",
      "Checking out files:  25% (762/3048)   \n",
      "Checking out files:  26% (793/3048)   \n",
      "Checking out files:  27% (823/3048)   \n",
      "Checking out files:  28% (854/3048)   \n",
      "Checking out files:  29% (884/3048)   \n",
      "Checking out files:  30% (915/3048)   \n",
      "Checking out files:  31% (945/3048)   \n",
      "Checking out files:  32% (976/3048)   \n",
      "Checking out files:  32% (994/3048)   \n",
      "Checking out files:  33% (1006/3048)   \n",
      "Checking out files:  33% (1024/3048)   \n",
      "Checking out files:  34% (1037/3048)   \n",
      "Checking out files:  35% (1067/3048)   \n",
      "Checking out files:  36% (1098/3048)   \n",
      "Checking out files:  37% (1128/3048)   \n",
      "Checking out files:  38% (1159/3048)   \n",
      "Checking out files:  39% (1189/3048)   \n",
      "Checking out files:  40% (1220/3048)   \n",
      "Checking out files:  40% (1226/3048)   \n",
      "Checking out files:  41% (1250/3048)   \n",
      "Checking out files:  42% (1281/3048)   \n",
      "Checking out files:  43% (1311/3048)   \n",
      "Checking out files:  44% (1342/3048)   \n",
      "Checking out files:  44% (1371/3048)   \n",
      "Checking out files:  45% (1372/3048)   \n",
      "Checking out files:  46% (1403/3048)   \n",
      "Checking out files:  47% (1433/3048)   \n",
      "Checking out files:  48% (1464/3048)   \n",
      "Checking out files:  49% (1494/3048)   \n",
      "Checking out files:  50% (1524/3048)   \n",
      "Checking out files:  51% (1555/3048)   \n",
      "Checking out files:  51% (1572/3048)   \n",
      "Checking out files:  52% (1585/3048)   \n",
      "Checking out files:  53% (1616/3048)   \n",
      "Checking out files:  54% (1646/3048)   \n",
      "Checking out files:  55% (1677/3048)   \n",
      "Checking out files:  56% (1707/3048)   \n",
      "Checking out files:  57% (1738/3048)   \n",
      "Checking out files:  58% (1768/3048)   \n",
      "Checking out files:  59% (1799/3048)   \n",
      "Checking out files:  60% (1829/3048)   \n",
      "Checking out files:  60% (1835/3048)   \n",
      "Checking out files:  61% (1860/3048)   \n",
      "Checking out files:  62% (1890/3048)   \n",
      "Checking out files:  62% (1907/3048)   \n",
      "Checking out files:  63% (1921/3048)   \n",
      "Checking out files:  64% (1951/3048)   \n",
      "Checking out files:  65% (1982/3048)   \n",
      "Checking out files:  66% (2012/3048)   \n",
      "Checking out files:  67% (2043/3048)   \n",
      "Checking out files:  68% (2073/3048)   \n",
      "Checking out files:  68% (2075/3048)   \n",
      "Checking out files:  69% (2104/3048)   \n",
      "Checking out files:  70% (2134/3048)   \n",
      "Checking out files:  71% (2165/3048)   \n",
      "Checking out files:  72% (2195/3048)   \n",
      "Checking out files:  73% (2226/3048)   \n",
      "Checking out files:  74% (2256/3048)   \n",
      "Checking out files:  75% (2286/3048)   \n",
      "Checking out files:  76% (2317/3048)   \n",
      "Checking out files:  77% (2347/3048)   \n",
      "Checking out files:  78% (2378/3048)   \n",
      "Checking out files:  78% (2400/3048)   \n",
      "Checking out files:  79% (2408/3048)   \n",
      "Checking out files:  80% (2439/3048)   \n",
      "Checking out files:  81% (2469/3048)   \n",
      "Checking out files:  82% (2500/3048)   \n",
      "Checking out files:  83% (2530/3048)   \n",
      "Checking out files:  83% (2543/3048)   \n",
      "Checking out files:  84% (2561/3048)   \n",
      "Checking out files:  85% (2591/3048)   \n",
      "Checking out files:  86% (2622/3048)   \n",
      "Checking out files:  87% (2652/3048)   \n",
      "Checking out files:  88% (2683/3048)   \n",
      "Checking out files:  89% (2713/3048)   \n",
      "Checking out files:  90% (2744/3048)   \n",
      "Checking out files:  91% (2774/3048)   \n",
      "Checking out files:  92% (2805/3048)   \n",
      "Checking out files:  93% (2835/3048)   \n",
      "Checking out files:  93% (2843/3048)   \n",
      "Checking out files:  94% (2866/3048)   \n",
      "Checking out files:  94% (2872/3048)   \n",
      "Checking out files:  95% (2896/3048)   \n",
      "Checking out files:  96% (2927/3048)   \n",
      "Checking out files:  97% (2957/3048)   \n",
      "Checking out files:  98% (2988/3048)   \n",
      "Checking out files:  99% (3018/3048)   \n",
      "Checking out files: 100% (3048/3048)   \n",
      "Checking out files: 100% (3048/3048), done.\n"
     ]
    }
   ],
   "source": [
    "! git clone --depth 1 https://github.com/tensorflow/models"
   ]
  },
  {
   "cell_type": "code",
   "execution_count": 12,
   "metadata": {},
   "outputs": [],
   "source": [
    "from IPython.core.interactiveshell import InteractiveShell\n",
    "InteractiveShell.ast_node_interactivity = \"all\" "
   ]
  },
  {
   "cell_type": "code",
   "execution_count": 13,
   "metadata": {},
   "outputs": [
    {
     "data": {
      "text/plain": [
       "'F:\\\\github\\\\tensorflow_tutorial\\\\official\\\\production_scale'"
      ]
     },
     "execution_count": 13,
     "metadata": {},
     "output_type": "execute_result"
    },
    {
     "data": {
      "text/plain": [
       "'F:\\\\github\\\\tensorflow_tutorial\\\\official\\\\production_scale\\\\models'"
      ]
     },
     "execution_count": 13,
     "metadata": {},
     "output_type": "execute_result"
    }
   ],
   "source": [
    "# 获取当前工作目录\n",
    "cur_path=os.getcwd()\n",
    "models_path = os.path.join(os.getcwd(),'models')\n",
    "cur_path\n",
    "models_path"
   ]
  },
  {
   "cell_type": "code",
   "execution_count": 14,
   "metadata": {},
   "outputs": [],
   "source": [
    "sys.path.append(models_path)"
   ]
  },
  {
   "cell_type": "code",
   "execution_count": 17,
   "metadata": {
    "collapsed": true
   },
   "outputs": [
    {
     "ename": "AttributeError",
     "evalue": "module 'tensorflow.python.estimator.api.estimator' has no attribute 'SessionRunHook'",
     "output_type": "error",
     "traceback": [
      "\u001b[1;31m---------------------------------------------------------------------------\u001b[0m",
      "\u001b[1;31mAttributeError\u001b[0m                            Traceback (most recent call last)",
      "\u001b[1;32m<ipython-input-17-b811982963fe>\u001b[0m in \u001b[0;36m<module>\u001b[1;34m()\u001b[0m\n\u001b[1;32m----> 1\u001b[1;33m \u001b[1;32mfrom\u001b[0m \u001b[0mofficial\u001b[0m\u001b[1;33m.\u001b[0m\u001b[0mwide_deep\u001b[0m \u001b[1;32mimport\u001b[0m \u001b[0mcensus_dataset\u001b[0m\u001b[1;33m\u001b[0m\u001b[0m\n\u001b[0m\u001b[0;32m      2\u001b[0m \u001b[1;32mfrom\u001b[0m \u001b[0mofficial\u001b[0m\u001b[1;33m.\u001b[0m\u001b[0mwide_deep\u001b[0m \u001b[1;32mimport\u001b[0m \u001b[0mcensus_main\u001b[0m\u001b[1;33m\u001b[0m\u001b[0m\n",
      "\u001b[1;32mF:\\github\\tensorflow_tutorial\\official\\production_scale\\models\\official\\wide_deep\\census_dataset.py\u001b[0m in \u001b[0;36m<module>\u001b[1;34m()\u001b[0m\n\u001b[0;32m     29\u001b[0m \u001b[1;31m# pylint: enable=wrong-import-order\u001b[0m\u001b[1;33m\u001b[0m\u001b[1;33m\u001b[0m\u001b[0m\n\u001b[0;32m     30\u001b[0m \u001b[1;33m\u001b[0m\u001b[0m\n\u001b[1;32m---> 31\u001b[1;33m \u001b[1;32mfrom\u001b[0m \u001b[0mofficial\u001b[0m\u001b[1;33m.\u001b[0m\u001b[0mutils\u001b[0m\u001b[1;33m.\u001b[0m\u001b[0mflags\u001b[0m \u001b[1;32mimport\u001b[0m \u001b[0mcore\u001b[0m \u001b[1;32mas\u001b[0m \u001b[0mflags_core\u001b[0m\u001b[1;33m\u001b[0m\u001b[0m\n\u001b[0m\u001b[0;32m     32\u001b[0m \u001b[1;33m\u001b[0m\u001b[0m\n\u001b[0;32m     33\u001b[0m \u001b[1;33m\u001b[0m\u001b[0m\n",
      "\u001b[1;32mF:\\github\\tensorflow_tutorial\\official\\production_scale\\models\\official\\utils\\flags\\core.py\u001b[0m in \u001b[0;36m<module>\u001b[1;34m()\u001b[0m\n\u001b[0;32m     29\u001b[0m \u001b[1;32mfrom\u001b[0m \u001b[0mabsl\u001b[0m \u001b[1;32mimport\u001b[0m \u001b[0mflags\u001b[0m\u001b[1;33m\u001b[0m\u001b[0m\n\u001b[0;32m     30\u001b[0m \u001b[1;33m\u001b[0m\u001b[0m\n\u001b[1;32m---> 31\u001b[1;33m \u001b[1;32mfrom\u001b[0m \u001b[0mofficial\u001b[0m\u001b[1;33m.\u001b[0m\u001b[0mutils\u001b[0m\u001b[1;33m.\u001b[0m\u001b[0mflags\u001b[0m \u001b[1;32mimport\u001b[0m \u001b[0m_base\u001b[0m\u001b[1;33m\u001b[0m\u001b[0m\n\u001b[0m\u001b[0;32m     32\u001b[0m \u001b[1;32mfrom\u001b[0m \u001b[0mofficial\u001b[0m\u001b[1;33m.\u001b[0m\u001b[0mutils\u001b[0m\u001b[1;33m.\u001b[0m\u001b[0mflags\u001b[0m \u001b[1;32mimport\u001b[0m \u001b[0m_benchmark\u001b[0m\u001b[1;33m\u001b[0m\u001b[0m\n\u001b[0;32m     33\u001b[0m \u001b[1;32mfrom\u001b[0m \u001b[0mofficial\u001b[0m\u001b[1;33m.\u001b[0m\u001b[0mutils\u001b[0m\u001b[1;33m.\u001b[0m\u001b[0mflags\u001b[0m \u001b[1;32mimport\u001b[0m \u001b[0m_conventions\u001b[0m\u001b[1;33m\u001b[0m\u001b[0m\n",
      "\u001b[1;32mF:\\github\\tensorflow_tutorial\\official\\production_scale\\models\\official\\utils\\flags\\_base.py\u001b[0m in \u001b[0;36m<module>\u001b[1;34m()\u001b[0m\n\u001b[0;32m     23\u001b[0m \u001b[1;33m\u001b[0m\u001b[0m\n\u001b[0;32m     24\u001b[0m \u001b[1;32mfrom\u001b[0m \u001b[0mofficial\u001b[0m\u001b[1;33m.\u001b[0m\u001b[0mutils\u001b[0m\u001b[1;33m.\u001b[0m\u001b[0mflags\u001b[0m\u001b[1;33m.\u001b[0m\u001b[0m_conventions\u001b[0m \u001b[1;32mimport\u001b[0m \u001b[0mhelp_wrap\u001b[0m\u001b[1;33m\u001b[0m\u001b[0m\n\u001b[1;32m---> 25\u001b[1;33m \u001b[1;32mfrom\u001b[0m \u001b[0mofficial\u001b[0m\u001b[1;33m.\u001b[0m\u001b[0mutils\u001b[0m\u001b[1;33m.\u001b[0m\u001b[0mlogs\u001b[0m \u001b[1;32mimport\u001b[0m \u001b[0mhooks_helper\u001b[0m\u001b[1;33m\u001b[0m\u001b[0m\n\u001b[0m\u001b[0;32m     26\u001b[0m \u001b[1;33m\u001b[0m\u001b[0m\n\u001b[0;32m     27\u001b[0m \u001b[1;33m\u001b[0m\u001b[0m\n",
      "\u001b[1;32mF:\\github\\tensorflow_tutorial\\official\\production_scale\\models\\official\\utils\\logs\\hooks_helper.py\u001b[0m in \u001b[0;36m<module>\u001b[1;34m()\u001b[0m\n\u001b[0;32m     27\u001b[0m \u001b[1;32mimport\u001b[0m \u001b[0mtensorflow\u001b[0m \u001b[1;32mas\u001b[0m \u001b[0mtf\u001b[0m  \u001b[1;31m# pylint: disable=g-bad-import-order\u001b[0m\u001b[1;33m\u001b[0m\u001b[0m\n\u001b[0;32m     28\u001b[0m \u001b[1;33m\u001b[0m\u001b[0m\n\u001b[1;32m---> 29\u001b[1;33m \u001b[1;32mfrom\u001b[0m \u001b[0mofficial\u001b[0m\u001b[1;33m.\u001b[0m\u001b[0mutils\u001b[0m\u001b[1;33m.\u001b[0m\u001b[0mlogs\u001b[0m \u001b[1;32mimport\u001b[0m \u001b[0mhooks\u001b[0m\u001b[1;33m\u001b[0m\u001b[0m\n\u001b[0m\u001b[0;32m     30\u001b[0m \u001b[1;32mfrom\u001b[0m \u001b[0mofficial\u001b[0m\u001b[1;33m.\u001b[0m\u001b[0mutils\u001b[0m\u001b[1;33m.\u001b[0m\u001b[0mlogs\u001b[0m \u001b[1;32mimport\u001b[0m \u001b[0mlogger\u001b[0m\u001b[1;33m\u001b[0m\u001b[0m\n\u001b[0;32m     31\u001b[0m \u001b[1;32mfrom\u001b[0m \u001b[0mofficial\u001b[0m\u001b[1;33m.\u001b[0m\u001b[0mutils\u001b[0m\u001b[1;33m.\u001b[0m\u001b[0mlogs\u001b[0m \u001b[1;32mimport\u001b[0m \u001b[0mmetric_hook\u001b[0m\u001b[1;33m\u001b[0m\u001b[0m\n",
      "\u001b[1;32mF:\\github\\tensorflow_tutorial\\official\\production_scale\\models\\official\\utils\\logs\\hooks.py\u001b[0m in \u001b[0;36m<module>\u001b[1;34m()\u001b[0m\n\u001b[0;32m     26\u001b[0m \u001b[1;33m\u001b[0m\u001b[0m\n\u001b[0;32m     27\u001b[0m \u001b[1;33m\u001b[0m\u001b[0m\n\u001b[1;32m---> 28\u001b[1;33m \u001b[1;32mclass\u001b[0m \u001b[0mExamplesPerSecondHook\u001b[0m\u001b[1;33m(\u001b[0m\u001b[0mtf\u001b[0m\u001b[1;33m.\u001b[0m\u001b[0mestimator\u001b[0m\u001b[1;33m.\u001b[0m\u001b[0mSessionRunHook\u001b[0m\u001b[1;33m)\u001b[0m\u001b[1;33m:\u001b[0m\u001b[1;33m\u001b[0m\u001b[0m\n\u001b[0m\u001b[0;32m     29\u001b[0m   \"\"\"Hook to print out examples per second.\n\u001b[0;32m     30\u001b[0m \u001b[1;33m\u001b[0m\u001b[0m\n",
      "\u001b[1;31mAttributeError\u001b[0m: module 'tensorflow.python.estimator.api.estimator' has no attribute 'SessionRunHook'"
     ]
    }
   ],
   "source": [
    "from official.wide_deep import census_dataset\n",
    "from official.wide_deep import census_main"
   ]
  },
  {
   "cell_type": "code",
   "execution_count": 24,
   "metadata": {},
   "outputs": [
    {
     "name": "stdout",
     "output_type": "stream",
     "text": [
      "F:\\github\\tensorflow_tutorial\\official\\production_scale\\models;F:\\github\\tensorflow_tutorial\\official\\production_scale\\models;F:\\github\\tensorflow_tutorial\\official\\production_scale\\models\n"
     ]
    }
   ],
   "source": [
    "ppath='PYTHONPATH'\n",
    "# if ppath in os.environ:\n",
    "#     os.environ[ppath]\n",
    "#     os.pathsep\n",
    "#     os.environ[ppath] += os.pathsep+models_path\n",
    "# else:\n",
    "#     os.environ[ppath] = models_path  \n",
    "print( os.environ[ppath])\n",
    "    "
   ]
  },
  {
   "cell_type": "code",
   "execution_count": 25,
   "metadata": {
    "scrolled": false
   },
   "outputs": [
    {
     "name": "stderr",
     "output_type": "stream",
     "text": [
      "D:\\Python\\Python36\\python.exe: Error while finding module specification for 'officical.wide_deep.census_main' (ModuleNotFoundError: No module named 'officical')\n"
     ]
    }
   ],
   "source": [
    "!python -m officical.wide_deep.census_main --help"
   ]
  },
  {
   "cell_type": "code",
   "execution_count": null,
   "metadata": {},
   "outputs": [],
   "source": [
    "_CSV_COLUMNS = [\n",
    "    'age', 'workclass', 'fnlwgt', 'education', 'education_num',\n",
    "    'marital_status', 'occupation', 'relationship', 'race', 'gender',\n",
    "    'capital_gain', 'capital_loss', 'hours_per_week', 'native_country',\n",
    "    'income_bracket'\n",
    "]"
   ]
  },
  {
   "cell_type": "code",
   "execution_count": 27,
   "metadata": {},
   "outputs": [
    {
     "ename": "NameError",
     "evalue": "name 'train_file' is not defined",
     "output_type": "error",
     "traceback": [
      "\u001b[1;31m---------------------------------------------------------------------------\u001b[0m",
      "\u001b[1;31mNameError\u001b[0m                                 Traceback (most recent call last)",
      "\u001b[1;32m<ipython-input-27-1cbc218c4167>\u001b[0m in \u001b[0;36m<module>\u001b[1;34m()\u001b[0m\n\u001b[0;32m      1\u001b[0m \u001b[1;32mimport\u001b[0m \u001b[0mpandas\u001b[0m\u001b[1;33m\u001b[0m\u001b[0m\n\u001b[0;32m      2\u001b[0m \u001b[1;33m\u001b[0m\u001b[0m\n\u001b[1;32m----> 3\u001b[1;33m \u001b[0mtrain_df\u001b[0m \u001b[1;33m=\u001b[0m \u001b[0mpandas\u001b[0m\u001b[1;33m.\u001b[0m\u001b[0mread_csv\u001b[0m\u001b[1;33m(\u001b[0m\u001b[0mtrain_file\u001b[0m\u001b[1;33m,\u001b[0m \u001b[0mheader\u001b[0m \u001b[1;33m=\u001b[0m \u001b[1;32mNone\u001b[0m\u001b[1;33m,\u001b[0m \u001b[0mnames\u001b[0m \u001b[1;33m=\u001b[0m \u001b[0m_CSV_COLUMNS\u001b[0m\u001b[1;33m)\u001b[0m\u001b[1;33m\u001b[0m\u001b[0m\n\u001b[0m\u001b[0;32m      4\u001b[0m \u001b[0mtest_df\u001b[0m \u001b[1;33m=\u001b[0m \u001b[0mpandas\u001b[0m\u001b[1;33m.\u001b[0m\u001b[0mread_csv\u001b[0m\u001b[1;33m(\u001b[0m\u001b[0mtest_file\u001b[0m\u001b[1;33m,\u001b[0m \u001b[0mheader\u001b[0m \u001b[1;33m=\u001b[0m \u001b[1;32mNone\u001b[0m\u001b[1;33m,\u001b[0m \u001b[0mnames\u001b[0m \u001b[1;33m=\u001b[0m \u001b[0m_CSV_COLUMNS\u001b[0m\u001b[1;33m)\u001b[0m\u001b[1;33m\u001b[0m\u001b[0m\n\u001b[0;32m      5\u001b[0m \u001b[1;33m\u001b[0m\u001b[0m\n",
      "\u001b[1;31mNameError\u001b[0m: name 'train_file' is not defined"
     ]
    }
   ],
   "source": [
    "import pandas\n",
    "\n",
    "train_df = pandas.read_csv(train_file, header = None, names = _CSV_COLUMNS)\n",
    "test_df = pandas.read_csv(test_file, header = None, names = _CSV_COLUMNS)\n",
    "\n",
    "train_df.head()"
   ]
  }
 ],
 "metadata": {
  "kernelspec": {
   "display_name": "Python 3",
   "language": "python",
   "name": "python3"
  },
  "language_info": {
   "codemirror_mode": {
    "name": "ipython",
    "version": 3
   },
   "file_extension": ".py",
   "mimetype": "text/x-python",
   "name": "python",
   "nbconvert_exporter": "python",
   "pygments_lexer": "ipython3",
   "version": "3.6.3"
  }
 },
 "nbformat": 4,
 "nbformat_minor": 2
}
