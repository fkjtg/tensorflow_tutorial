{
 "cells": [
  {
   "cell_type": "markdown",
   "metadata": {},
   "source": [
    "来源：https://tensorflow.google.cn/tutorials/eager/custom_training"
   ]
  },
  {
   "cell_type": "code",
   "execution_count": 1,
   "metadata": {},
   "outputs": [],
   "source": [
    "%config IPCompleter.greedy=True"
   ]
  },
  {
   "cell_type": "code",
   "execution_count": 2,
   "metadata": {},
   "outputs": [],
   "source": [
    "import tensorflow as tf\n",
    "import tensorflow.contrib.eager as tfe"
   ]
  },
  {
   "cell_type": "code",
   "execution_count": 3,
   "metadata": {},
   "outputs": [
    {
     "data": {
      "text/plain": [
       "tensorflow.python.ops.resource_variable_ops.ResourceVariable"
      ]
     },
     "execution_count": 3,
     "metadata": {},
     "output_type": "execute_result"
    }
   ],
   "source": [
    "tf.contrib.eager.Variable"
   ]
  },
  {
   "cell_type": "code",
   "execution_count": 4,
   "metadata": {},
   "outputs": [],
   "source": [
    "# tf.enable_eager_execution()\n",
    "tf.contrib.eager.enable_eager_execution()"
   ]
  },
  {
   "cell_type": "markdown",
   "metadata": {},
   "source": [
    "## 示例：拟合线性模型"
   ]
  },
  {
   "cell_type": "markdown",
   "metadata": {},
   "source": [
    "### 定义模型"
   ]
  },
  {
   "cell_type": "code",
   "execution_count": 5,
   "metadata": {},
   "outputs": [],
   "source": [
    "class my_model(object):\n",
    "    def __init__(self):\n",
    "        self.W=tfe.Variable(5.0)\n",
    "        self.b=tfe.Variable(2.0)\n",
    "        \n",
    "    def __call__(self,x):\n",
    "        return self.W*x+self.b\n",
    "        "
   ]
  },
  {
   "cell_type": "code",
   "execution_count": 6,
   "metadata": {},
   "outputs": [
    {
     "data": {
      "text/plain": [
       "17.0"
      ]
     },
     "execution_count": 6,
     "metadata": {},
     "output_type": "execute_result"
    }
   ],
   "source": [
    "model = my_model()\n",
    "\n",
    "model(3.0).numpy()"
   ]
  },
  {
   "cell_type": "markdown",
   "metadata": {},
   "source": [
    "### 定义损失"
   ]
  },
  {
   "cell_type": "code",
   "execution_count": 7,
   "metadata": {},
   "outputs": [],
   "source": [
    "def loss(y_p,y_true):\n",
    "    return tf.reduce_mean(tf.square(y_p-y_true))"
   ]
  },
  {
   "cell_type": "markdown",
   "metadata": {},
   "source": [
    "### 训练循环"
   ]
  },
  {
   "cell_type": "code",
   "execution_count": 8,
   "metadata": {},
   "outputs": [],
   "source": [
    "def training(model,inputs,outputs,d_rate):\n",
    "#     梯度功效\n",
    "    with tf.GradientTape() as t:\n",
    "        predicted_y = model(inputs);\n",
    "        loss_value = loss(predicted_y,outputs)\n",
    "    dW,db=t.gradient(loss_value,[model.W,model.b])\n",
    "    \n",
    "#     优化器功效\n",
    "    model.W.assign_sub(dW*d_rate)\n",
    "    model.b.assign_sub(db*d_rate)"
   ]
  },
  {
   "cell_type": "markdown",
   "metadata": {},
   "source": [
    "### 准备训练数据"
   ]
  },
  {
   "cell_type": "code",
   "execution_count": 17,
   "metadata": {},
   "outputs": [
    {
     "name": "stdout",
     "output_type": "stream",
     "text": [
      "tf.Tensor([-1.0854899   0.01737946 -0.4367594  -1.494014   -0.32680106], shape=(5,), dtype=float32)\n",
      "tf.Tensor([ 1.014084   -0.03612947 -0.2234342   1.599189    0.28270674], shape=(5,), dtype=float32)\n",
      "tf.Tensor([-0.3278755  3.0333884  1.0295281 -1.376867   1.9755025], shape=(5,), dtype=float32)\n"
     ]
    }
   ],
   "source": [
    "learn_rate=0.03\n",
    "true_W = 4\n",
    "true_b = 3\n",
    "example_num = 50000\n",
    "\n",
    "\n",
    "inputs = tf.random_normal([example_num])\n",
    "noises = tf.random_normal([example_num])\n",
    "outputs = inputs*true_W + true_b + noises \n",
    "print(inputs[:5])\n",
    "print(noises[:5])\n",
    "print(outputs[:5])"
   ]
  },
  {
   "cell_type": "markdown",
   "metadata": {},
   "source": [
    "### 开始训练"
   ]
  },
  {
   "cell_type": "code",
   "execution_count": 18,
   "metadata": {},
   "outputs": [],
   "source": [
    "collect_ws,collect_bs=[],[]\n",
    "epochs = range(100)\n",
    "model=my_model()\n",
    "for _ in epochs:\n",
    "    collect_ws.append(model.W.numpy())\n",
    "    collect_bs.append(model.b.numpy())\n",
    "    training(model,inputs,outputs,learn_rate);"
   ]
  },
  {
   "cell_type": "markdown",
   "metadata": {},
   "source": [
    "数据可视化"
   ]
  },
  {
   "cell_type": "code",
   "execution_count": 13,
   "metadata": {},
   "outputs": [],
   "source": [
    "import matplotlib.pyplot as plt"
   ]
  },
  {
   "cell_type": "code",
   "execution_count": 19,
   "metadata": {},
   "outputs": [
    {
     "data": {
      "image/png": "[encoded data removed]",
      "text/plain": [
       "<matplotlib.figure.Figure at 0x18a5718d198>"
      ]
     },
     "metadata": {},
     "output_type": "display_data"
    }
   ],
   "source": [
    "plt.plot(epochs,collect_ws,'r',\n",
    "        epochs,collect_bs,'b')\n",
    "plt.plot([true_W]*len(epochs),'r--',\n",
    "        [true_b]*len(epochs),'b--')\n",
    "plt.legend(['w','b','true_w','true_b'])\n",
    "plt.show()"
   ]
  },
  {
   "cell_type": "markdown",
   "metadata": {},
   "source": [
    "## 总结\n",
    "该教程介绍了`Variables`，并使用到目前为止讨论的__TensorFlow原语__构建并训练了一个简单的线性模型\n",
    "\n",
    "从理论上讲，这几乎是使用TensorFlow进行机器学习研究所需要的全部内容"
   ]
  }
 ],
 "metadata": {
  "kernelspec": {
   "display_name": "Python 3",
   "language": "python",
   "name": "python3"
  },
  "language_info": {
   "codemirror_mode": {
    "name": "ipython",
    "version": 3
   },
   "file_extension": ".py",
   "mimetype": "text/x-python",
   "name": "python",
   "nbconvert_exporter": "python",
   "pygments_lexer": "ipython3",
   "version": "3.6.3"
  }
 },
 "nbformat": 4,
 "nbformat_minor": 2
}
