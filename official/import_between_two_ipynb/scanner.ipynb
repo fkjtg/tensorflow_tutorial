{
 "cells": [
  {
   "cell_type": "code",
   "execution_count": 1,
   "metadata": {},
   "outputs": [],
   "source": [
    "import os, sys\n",
    "def scanner(start):\n",
    "    print('abcd')\n",
    "    print(start)\n",
    "    for root, dirs,files in os.walk(start):\n",
    "        # remove any already processed file\n",
    "        if 'done' in dirs:\n",
    "            dirs.remove('done')\n",
    "        for names in files:\n",
    "            name, ext = os.path.splitext(names)\n",
    "            # only interested in media files\n",
    "            if ext == '.mp4' or ext == '.mkv':\n",
    "                print(name)"
   ]
  }
 ],
 "metadata": {
  "kernelspec": {
   "display_name": "Python 3",
   "language": "python",
   "name": "python3"
  },
  "language_info": {
   "codemirror_mode": {
    "name": "ipython",
    "version": 3
   },
   "file_extension": ".py",
   "mimetype": "text/x-python",
   "name": "python",
   "nbconvert_exporter": "python",
   "pygments_lexer": "ipython3",
   "version": "3.6.3"
  }
 },
 "nbformat": 4,
 "nbformat_minor": 2
}
